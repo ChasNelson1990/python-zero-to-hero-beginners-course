{
 "cells": [
  {
   "cell_type": "markdown",
   "metadata": {},
   "source": [
    "# Built-in Functions, Help and Documentation\n",
    "\n",
    "*Dr Chas Nelson and Mikolaj Kundegorski*\n",
    "\n",
    "*Part of https://github.com/ChasNelson1990/python-zero-to-hero-beginners-course*"
   ]
  },
  {
   "cell_type": "markdown",
   "metadata": {},
   "source": [
    "## Objectives\n",
    "\n",
    "* Know what a function is\n",
    "* Be able to use common built-in Python functions\n",
    "* Understand the concepts of parameters and returns\n",
    "* Use the built-in function `help()` to find documentation for built-in Python functions\n",
    "* Use the internet to find documentation for built-in Python functions\n",
    "* Understand the `TypeError`, `SyntaxError` and `NameError` Python errors"
   ]
  },
  {
   "cell_type": "markdown",
   "metadata": {},
   "source": [
    "## Functions\n",
    "\n",
    "A function is a short command that allows you to access an underlying algorithm. Often a function takes some input data and returns some output data that has been transformed in some way.\n",
    "\n",
    "We've already been introduced to, and used, three built-in Python functions: `print()`, `len()` and `type()`. \n",
    "\n",
    "* `len()` takes some input data (usually a string) and returns the length of that string\n",
    "* `type()` takes some input data and returns that data's type\n",
    "* `print()` takes some input data (a string) and prints it to your notebook (we will discuss what `print()` returns below)\n",
    "\n",
    "Python has many, many built-in functions and, through packages, other functions.\n",
    "\n",
    "All Python functions have several features in common:\n",
    "* They take zero or more parameters or arguments (inputs)\n",
    "* They always return something (an output or result) \n",
    "* They sometimes *do* something (for instance, print things) \n",
    "* They (should) return useful error messages when something goes wrong\n",
    "* They (should) be well documented\n",
    "\n",
    "### Built-in Functions\n",
    "\n",
    "Python built-in functions are all functions that don't need a Python package to be imported (this will make more sense later).\n",
    "\n",
    "One common function that you might use is `round()`.\n",
    "\n",
    "This function takes a float as an input parameter and returns a new float (not an int) rounded to zero decimal places."
   ]
  },
  {
   "cell_type": "markdown",
   "metadata": {},
   "source": [
    "<div style=\"background-color:#abd9e9; border-radius: 5px; padding: 10pt\"><strong>Task 4.1:</strong> In the code cell below this cell, create a new variable with pi rounded to zero decimal places. Print this variable and it's type.\n",
    "<br/>\n",
    "When you've done this, or if you get stuck, see the video <a href='https://youtu.be/uCWjUQTt1qI'>here</a> for a walkthrough.\n",
    "</div>"
   ]
  },
  {
   "cell_type": "code",
   "execution_count": null,
   "metadata": {},
   "outputs": [],
   "source": [
    "piToSix = 3.141593"
   ]
  },
  {
   "cell_type": "markdown",
   "metadata": {},
   "source": [
    "### Optional Parameters\n",
    "\n",
    "Actually, `round()` can take more than one parameter. This function, and many others, has an optional parameter.\n",
    "\n",
    "An optional parameter is a parameter that has a default value.\n",
    "\n",
    "The optional parameter for `round()` is `ndigits` and the default value is `None`. Note that `None` is a special Python object that we'll cover in more detail below. When `ndigits=None`, the `round()` function rounds the number to zero decimal places.\n",
    "\n",
    "But what if `ndigits=3`?"
   ]
  },
  {
   "cell_type": "markdown",
   "metadata": {},
   "source": [
    "<div style=\"background-color:#abd9e9; border-radius: 5px; padding: 10pt\"><strong>Task 4.2:</strong> Create a new code cell below this cell. In it create a new variable with pi rounded to three decimal places. Print this variable.\n",
    "<br/>\n",
    "When you've done this, or if you get stuck, see the video <a href='https://youtu.be/d2qlShqrpfk'>here</a> for a walkthrough.\n",
    "</div>"
   ]
  },
  {
   "cell_type": "markdown",
   "metadata": {},
   "source": [
    "## Returns\n",
    "\n",
    "As mentioned above, all functions return something. That means, everytime a function is called (run) a new piece of information is provided.\n",
    "\n",
    "In our examples above (rounding pi), `round()` returned a float, which we assigned to a variable.\n",
    "\n",
    "**N.B.** Remember that variables persist throughout the life of a notebook. This means `piToSix` defined above can be 'seen' by the cell below."
   ]
  },
  {
   "cell_type": "markdown",
   "metadata": {},
   "source": [
    "<div style=\"background-color:#abd9e9; border-radius: 5px; padding: 10pt\"><strong>Task 4.3:</strong> What does a call to <code>print()</code> return? Run the next cell to find out.\n",
    "<br/>\n",
    "When you've done this, or if you get stuck, see the video <a href='https://youtu.be/8nUYnJaPjqo'>here</a> for a walkthrough.</div>"
   ]
  },
  {
   "cell_type": "code",
   "execution_count": null,
   "metadata": {},
   "outputs": [],
   "source": [
    "print(piToSix)  # This function does something, but we don't store its result\n",
    "returnFromPrint = print(piToSix)  # Now, we also store the result of printing.\n",
    "print(returnFromPrint)  # The result is not very interesting.... Or is it?"
   ]
  },
  {
   "cell_type": "markdown",
   "metadata": {},
   "source": [
    "<div style=\"background-color:#fdae61; border-radius: 5px; padding: 10pt\"><strong>Exercise 4.4:</strong> Read the following cell, what do you think the final value of <code>myVariable</code> is? Print the final value and check your answer. Can you create a new cell below that can do all these operations in one line and without using any <code>temporaryVariable</code>?\n",
    "<br/>\n",
    "When you've done this, or if you get stuck, see the video <a href='https://youtu.be/gwYoS59W438'>here</a> for a walkthrough.</div>"
   ]
  },
  {
   "cell_type": "code",
   "execution_count": null,
   "metadata": {},
   "outputs": [],
   "source": [
    "# initialise my variable\n",
    "myVariable = 1.0\n",
    "\n",
    "# compute a series of operations\n",
    "temporaryVariable = 2 * myVariable - 0.5\n",
    "temporaryVariable = min(myVariable, temporaryVariable)\n",
    "myVariable = max(2.0, temporaryVariable)"
   ]
  },
  {
   "cell_type": "markdown",
   "metadata": {},
   "source": [
    "### `None`\n",
    "\n",
    "We've now encountered this magical `None` a couple of times.\n",
    "\n",
    "`None` is a special Python value.\n",
    "\n",
    "Sometimes we have a piece of information, returned from a function for example, that has no value, i.e. it's empty. Amongst other issues, leaving this piece of information blank would cause problems for a human trying to see what's going on in their code. So Python puts this special `None` value there."
   ]
  },
  {
   "cell_type": "markdown",
   "metadata": {},
   "source": [
    "## Function Documentation\n",
    "\n",
    "When any programmer encounters new functions, uncommon functions or functions they've just forgotten how to use they need help. This is the purpose of documentation.\n",
    "\n",
    "### `help()`\n",
    "\n",
    "There are many ways of accessing the documentation for Python functions.\n",
    "\n",
    "One way is to use Python's built-in `help()` function.\n",
    "\n",
    "Calling `help()` with a function name as a parameter will return the documentation for that function."
   ]
  },
  {
   "cell_type": "markdown",
   "metadata": {},
   "source": [
    "<div style=\"background-color:#abd9e9; border-radius: 5px; padding: 10pt\"><strong>Task 4.5:</strong> Run the cell below to use the <code>help()</code> function to load the documentation of the <code>round()</code> function. Do you understand everything that's printed?\n",
    "<br/>\n",
    "When you've done this, or if you get stuck, see the video <a href='https://youtu.be/Kipg18Zab8A'>here</a> for a walkthrough.</div>"
   ]
  },
  {
   "cell_type": "code",
   "execution_count": null,
   "metadata": {},
   "outputs": [],
   "source": [
    "help(round)"
   ]
  },
  {
   "cell_type": "markdown",
   "metadata": {},
   "source": [
    "<div style=\"background-color:#fdae61; border-radius: 5px; padding: 10pt\"><strong>Exercise 4.6</strong> Create a new cell below and look at the documentation for other functions that you've encountered.</div>"
   ]
  },
  {
   "cell_type": "markdown",
   "metadata": {},
   "source": [
    "### Jupyter's Tricks\n",
    "\n",
    "Jupyter Lab has two other quick ways to access documentation for a function:\n",
    "\n",
    "* Place the cursor between the parenthesis of a function and press `Shift+Tab`\n",
    "* Type a function name followed by a question mark and run the cell"
   ]
  },
  {
   "cell_type": "markdown",
   "metadata": {},
   "source": [
    "<div style=\"background-color:#abd9e9; border-radius: 5px; padding: 10pt\"><strong>Task 4.7:</strong> Create a new code cell below this cell. Type <code>round()</code>, move the cursor to between the parenthesis and press <kbd>Shift+Tab</kbd>.\n",
    "<br/>\n",
    "Now replace this with <code>round?</code> and run the cell.\n",
    "<br/>\n",
    "When you've done this, or if you get stuck, see the video <a href='https://youtu.be/wspPKVEFCDo'>here</a> for a walkthrough.</div>"
   ]
  },
  {
   "cell_type": "markdown",
   "metadata": {},
   "source": [
    "## Online Documentation\n",
    "\n",
    "Finally, most Python package functions and all built-in functions have online documentation."
   ]
  },
  {
   "cell_type": "markdown",
   "metadata": {},
   "source": [
    "<div style=\"background-color:#abd9e9; border-radius: 5px; padding: 10pt\"><strong>Task 4.8:</strong> Open a new browser tab and the search engine of your choice. What search terms should you use to find the Python documentation for the <code>round()</code> function?\n",
    "<br/>\n",
    "When you've done this, or if you get stuck, see the video <a href='https://youtu.be/oZMoTjSQmSo'>here</a> for a walkthrough.</div>"
   ]
  },
  {
   "cell_type": "markdown",
   "metadata": {},
   "source": [
    "<div style=\"background-color:#fdae61; border-radius: 5px; padding: 10pt\"><strong>Exercise 4.9:</strong> Try and find the documentation for other functions that you've encountered. Do you understand the documentation for these functions?</div>"
   ]
  },
  {
   "cell_type": "markdown",
   "metadata": {},
   "source": [
    "## Errors Are Helpful\n",
    "\n",
    "One of the most off-putting things for new programmers are errors.\n",
    "\n",
    "But, in reality, a good error message can be a really helpful tool. An error message can help you identify a mistake you've made, or a mistake that you might not notice until it's too late.\n",
    "\n",
    "One things for sure, an error message is more helpful than when the code runs (without errors) but returns an unexpected value.\n",
    "\n",
    "### `TypeError`"
   ]
  },
  {
   "cell_type": "markdown",
   "metadata": {},
   "source": [
    "<div style=\"background-color:#abd9e9; border-radius: 5px; padding: 10pt\"><strong>Task 4.10:</strong> Run the cell below. What does this <code>TypeError</code> mean? Create a new Markdown cell and describe, in words you understand, what has gone wrong here. What useful information does the traceback tell you?\n",
    "<br/>\n",
    "When you've done this, or if you get stuck, see the video <a href='https://youtu.be/8d6Rg_4_ThA'>here</a> for a walkthrough.</div>"
   ]
  },
  {
   "cell_type": "code",
   "execution_count": null,
   "metadata": {},
   "outputs": [],
   "source": [
    "myVariable = \"This is an example string.\"\n",
    "\n",
    "round(myVariable)"
   ]
  },
  {
   "cell_type": "markdown",
   "metadata": {},
   "source": [
    "<div style=\"background-color:#fdae61; border-radius: 5px; padding: 10pt\"><strong>Exercise 4.11:</strong> Read the cell below, do you expect the same error? Why is this <code>TypeError</code> different to the previous one. Create a new cell and describe what has gone wrong here.\n",
    "<br/>\n",
    "When you've done this, or if you get stuck, see the video <a href='https://youtu.be/kbrPqzTo9kc'>here</a> for a walkthrough.</div>"
   ]
  },
  {
   "cell_type": "code",
   "execution_count": null,
   "metadata": {},
   "outputs": [],
   "source": [
    "print(myVariable) + \"Another string.\""
   ]
  },
  {
   "cell_type": "markdown",
   "metadata": {},
   "source": [
    "### `SyntaxError`"
   ]
  },
  {
   "cell_type": "markdown",
   "metadata": {},
   "source": [
    "<div style=\"background-color:#abd9e9; border-radius: 5px; padding: 10pt\"><strong>Task 4.12:</strong> Uncomment the print line in the cell below and run the cell. What does this <code>SyntaxError</code> mean? Create a new Markdown cell and describe, in words you understand, what has gone wrong here. What does the arrow in the traceback point to? Fix this error and run the cell again.\n",
    "<br/>\n",
    "When you've done this, or if you get stuck, see the video <a href='https://youtu.be/HH8UQyzpmbk'>here</a> for a walkthrough.</div>"
   ]
  },
  {
   "cell_type": "code",
   "execution_count": null,
   "metadata": {},
   "outputs": [],
   "source": [
    "myVariable = = 'This is an example string.\n",
    "\n",
    "# print(myVariable"
   ]
  },
  {
   "cell_type": "markdown",
   "metadata": {},
   "source": [
    "### `NameError`"
   ]
  },
  {
   "cell_type": "markdown",
   "metadata": {},
   "source": [
    "<div style=\"background-color:#abd9e9; border-radius: 5px; padding: 10pt\"><strong>Task 4.13:</strong> Run the cell below. What does this <code>NameError</code> mean? Create a new Markdown cell and describe, in words you understand, what has gone wrong here.\n",
    "<br/>\n",
    "When you've done this, or if you get stuck, see the video <a href='https://youtu.be/tqIoriOKuh8'>here</a> for a walkthrough.</div>"
   ]
  },
  {
   "cell_type": "code",
   "execution_count": null,
   "metadata": {},
   "outputs": [],
   "source": [
    "myVariable = \"This is an example string.\"\n",
    "\n",
    "print(myString)"
   ]
  },
  {
   "cell_type": "markdown",
   "metadata": {},
   "source": [
    "## Key Points\n",
    "\n",
    "* Functions take in zero or more parameters (inputs)\n",
    "* Some input are optional and Python can use default values for these\n",
    "* Functions always returns something (outputs)\n",
    "* Sometimes, when there's no value to return, Python returns `None`\n",
    "* Built-in functions include `print()`, `len()`, `type()`, `round()` and `help()`\n",
    "* You can find documentation about functions in several ways, including within Jupyter Lab and online\n",
    "* Errors are helpful!\n",
    "* `TypeError` indicates a function parameter has an incompatible data type\n",
    "* `SyntaxError` indicates a writing error in your code - usually an open string or missing parenthesis\n",
    "* `NameError` indicates that the function or variable you've called doesn't exist"
   ]
  },
  {
   "cell_type": "markdown",
   "metadata": {},
   "source": [
    "## Any Bugs/Issues/Comments?\n",
    "\n",
    "If you've found a bug or have any comments about this notebook, please fill out this on-line form: https://forms.gle/tp2veeF8e7fbQMvY6.\n",
    "\n",
    "Any feedback we get we will try to correct/implement as soon as possible."
   ]
  }
 ],
 "metadata": {
  "kernelspec": {
   "display_name": "Python 3",
   "language": "python",
   "name": "python3"
  },
  "language_info": {
   "codemirror_mode": {
    "name": "ipython",
    "version": 3
   },
   "file_extension": ".py",
   "mimetype": "text/x-python",
   "name": "python",
   "nbconvert_exporter": "python",
   "pygments_lexer": "ipython3",
   "version": "3.9.7"
  },
  "widgets": {
   "application/vnd.jupyter.widget-state+json": {
    "state": {},
    "version_major": 2,
    "version_minor": 0
   }
  }
 },
 "nbformat": 4,
 "nbformat_minor": 4
}
