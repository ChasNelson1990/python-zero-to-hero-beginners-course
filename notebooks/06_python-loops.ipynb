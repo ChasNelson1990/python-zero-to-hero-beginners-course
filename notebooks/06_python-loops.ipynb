{
  "cells": [
    {
      "cell_type": "markdown",
      "metadata": {},
      "source": [
        "# `for` Loops in Python\n",
        "\n",
        "*Dr Chas Nelson and Mikolaj Kundegorski*\n",
        "\n",
        "*Part of https://github.com/ChasNelson1990/python-zero-to-hero-beginners-course*"
      ]
    },
    {
      "cell_type": "markdown",
      "metadata": {},
      "source": [
        "## Objectives\n",
        "\n",
        "* Understand that loops are used to make programs do many, often repetitive, tasks\n",
        "* Be able to follow a simple `for` loop through each iteration\n",
        "* Understand the importance of indentation in Python\n",
        "* Complete a simple `for` loop"
      ]
    },
    {
      "cell_type": "markdown",
      "metadata": {},
      "source": [
        "## Loops\n",
        "\n",
        "As with lists, we usually want to process many samples or measurements. Writing a line of code to process each measurement would make our codes complex and cumbersome. Like with lists, with enough variables to process, we might as well do it all by hand.\n",
        "\n",
        "There are two key ways to do repetitive tasks in Python - the `for` loop and the `while` loop. They work in slightly different ways but we'll only cover `for` loops today.\n",
        "\n",
        "## `for` loops\n",
        "\n",
        "In Python, a `for` loop takes a group of values and does an operation on each value in turn."
      ]
    },
    {
      "cell_type": "markdown",
      "metadata": {},
      "source": [
        "<div style=\"border: 3px solid #1b9e77; border-radius: 5px; padding: 10pt\"><strong>Task 6.1:</strong> Run the next two cells and compare their outputs. Imagine you had hundreds of values to process, which would you rather do?\n",
        "<br/>\n",
        "When you've done this, or if you get stuck, see the video <a href='https://youtu.be/ToKt2Wi9BMc'>here</a> for a walkthrough.</div>"
      ]
    },
    {
      "cell_type": "code",
      "execution_count": null,
      "metadata": {},
      "outputs": [],
      "source": [
        "print(1)\n",
        "print(1 * 1)\n",
        "print(2)\n",
        "print(2 * 2)\n",
        "print(5)\n",
        "print(5 * 5)\n",
        "print(9)\n",
        "print(9 * 9)"
      ]
    },
    {
      "cell_type": "code",
      "execution_count": null,
      "metadata": {},
      "outputs": [],
      "source": [
        "for number in [1, 2, 5, 9]:\n",
        "    print(number)\n",
        "    print(number * number)"
      ]
    },
    {
      "cell_type": "markdown",
      "metadata": {},
      "source": [
        "Let's break this `for` loop down:\n",
        "\n",
        "* The `for` statement tells Python we want to run a loop.\n",
        "* `number` is a variable that exists only within the loop, we call it the *iterator*. An iterator always represents \"the thing we want to process now\".\n",
        "* `in [1,2,5,9]` tells the `for` loop that `number` should take (in turn) the values *in the list* `[1,2,5,9]`.\n",
        "* Finally, `print(number)`, or whatever code we choose to do inside your loop, is the code we want to repeat.\n",
        "\n",
        "But there are two other extremely important features of the cell above:\n",
        "\n",
        "1. The `for` statement must end in a colon, this signals the start of the code you want to repeat.\n",
        "2. The body of the statement must be indented, this is usually four spaces but can be anything consistent, e.g. one space, one tab, etc.. Thankfully, Jupyter should autoindent lines following a colon for you."
      ]
    },
    {
      "cell_type": "markdown",
      "metadata": {},
      "source": [
        "<div style=\"border: 3px solid #1b9e77; border-radius: 5px; padding: 10pt\"><strong>Task 6.2:</strong> Read the next cell carefully. What do you think the value of <code>total</code> will be during each step of the loop? Add a call to <code>print()</code> in the cell and check that you're right.\n",
        "<br/>\n",
        "When you've done this, or if you get stuck, see the video <a href='https://youtu.be/fBlAf0dR9L8'>here</a> for a walkthrough.</div>"
      ]
    },
    {
      "cell_type": "code",
      "execution_count": null,
      "metadata": {},
      "outputs": [],
      "source": [
        "total = 0\n",
        "\n",
        "for number in [1, 2, 5, 9]:\n",
        "    total = total + number"
      ]
    },
    {
      "cell_type": "markdown",
      "metadata": {},
      "source": [
        "## Errors are helpful (continued)\n",
        "\n",
        "### IndentationError #1"
      ]
    },
    {
      "cell_type": "markdown",
      "metadata": {},
      "source": [
        "<div style=\"border: 3px solid #1b9e77; border-radius: 5px; padding: 10pt\"><strong>Task 6.3:</strong> Run the cell below. What does this <code>IndentationError</code> mean? Create a new Markdown cell and describe, in words you understand, what has gone wrong here. Modify the cell to fix the error and re-run it.\n",
        "<br/>\n",
        "If you get stuck, see the video <a href='https://youtu.be/G-FUA8TcDrE'>here</a> for a walkthrough, which also includes the next two tasks.</div>"
      ]
    },
    {
      "cell_type": "code",
      "execution_count": null,
      "metadata": {},
      "outputs": [],
      "source": [
        "for number in [1, 2, 3]:\n",
        "print(number)"
      ]
    },
    {
      "cell_type": "markdown",
      "metadata": {},
      "source": [
        "### IndentationError #2"
      ]
    },
    {
      "cell_type": "markdown",
      "metadata": {},
      "source": [
        "<div style=\"border: 3px solid #1b9e77; border-radius: 5px; padding: 10pt\"><strong>Task 6.4:</strong> Run the cell below. What does this <code>IndentationError</code> mean? Create a new Markdown cell and describe, in words you understand, what has gone wrong here. Modify the cell to fix the error and re-run it.\n",
        "<br/>\n",
        "If you get stuck, see the video <a href='https://youtu.be/G-FUA8TcDrE'>here</a> for a walkthrough, which also includes the previous and next tasks.</div>"
      ]
    },
    {
      "cell_type": "code",
      "execution_count": null,
      "metadata": {},
      "outputs": [],
      "source": [
        "first_name = 'Chas'\n",
        "    last_name = 'Nelson'"
      ]
    },
    {
      "cell_type": "markdown",
      "metadata": {},
      "source": [
        "### IndentationError #3"
      ]
    },
    {
      "cell_type": "markdown",
      "metadata": {},
      "source": [
        "<div style=\"border: 3px solid #1b9e77; border-radius: 5px; padding: 10pt\"><strong>Task 6.5:</strong> Uncomment and run the cell below. What does this <code>IndentationError</code> mean? Create a new Markdown cell and describe, in words you understand, what has gone wrong here. Modify the cell to fix the error and re-run it.\n",
        "<br/>\n",
        "When you've done this and the above two cells, or if you get stuck, see the video <a href='https://youtu.be/G-FUA8TcDrE'>here</a> for a walkthrough, which also includes the previous two tasks.</div>"
      ]
    },
    {
      "cell_type": "code",
      "execution_count": null,
      "metadata": {},
      "outputs": [],
      "source": [
        "# for number in [1,2,3]:\n",
        "#     print(number)\n",
        "#   print(number*number)"
      ]
    },
    {
      "cell_type": "markdown",
      "metadata": {},
      "source": [
        "## `for` loops (continued)\n",
        "\n",
        "### `range()`\n",
        "\n",
        "Now we've seen how a `for` loop is constructed using a list of numbers, what if we want to run some code over a range of regularly spaced values?\n",
        "\n",
        "Python has a built-in function to help with this: `range()`."
      ]
    },
    {
      "cell_type": "markdown",
      "metadata": {},
      "source": [
        "<div style=\"border: 3px solid #1b9e77; border-radius: 5px; padding: 10pt\"><strong>Task 6.6:</strong> Run the cell below. to see the documentation for the <code>range()</code> function.\n",
        "<br/>\n",
        "When you've done this, or if you get stuck, see the video <a href='https://youtu.be/Y3EVembmdvs'>here</a> for a walkthrough.</div>"
      ]
    },
    {
      "cell_type": "code",
      "execution_count": null,
      "metadata": {},
      "outputs": [],
      "source": [
        "?range"
      ]
    },
    {
      "cell_type": "markdown",
      "metadata": {},
      "source": [
        "<div style=\"border: 3px solid #1b9e77; border-radius: 5px; padding: 10pt\"><strong>Task 6.7:</strong> The following cell loops through the numbers 0 to 9 (inclusive) and prints them one-by-one. Modify the code to print the numbers 90 to 100 (inclusive).\n",
        "<br/>\n",
        "When you've done this, or if you get stuck, see the video <a href='https://youtu.be/iE0ZFyKPh-8'>here</a> for a walkthrough.</div>"
      ]
    },
    {
      "cell_type": "code",
      "execution_count": null,
      "metadata": {},
      "outputs": [],
      "source": [
        "for number in range(10):\n",
        "    print(number)"
      ]
    },
    {
      "cell_type": "markdown",
      "metadata": {},
      "source": [
        "<div style=\"border: 3px solid #d95f02; border-radius: 5px; padding: 10pt\"><strong>Exercise 6.8:</strong> Read the cell below. This <code>for</code> loop aims to calculate the square and cube of every odd number between 1 and 11. Replace all the gaps (<code>____</code>) in the cell so that it runs without errors and produces the right output values.\n",
        "<br/>\n",
        "When you've done this, or if you get stuck, see the video <a href='https://youtu.be/cCJxNZyASDI'>here</a> for a walkthrough.\n",
        "</div>"
      ]
    },
    {
      "cell_type": "code",
      "execution_count": null,
      "metadata": {},
      "outputs": [],
      "source": [
        "for number in range(____, ____, ____):\n",
        "    square = ____ * ____\n",
        "    cube = ____ * ____\n",
        "    print(f\"{number} squared is {____} and cubed is {____}.\")"
      ]
    },
    {
      "cell_type": "markdown",
      "metadata": {},
      "source": [
        "<div style=\"border: 3px solid #d95f02; border-radius: 5px; padding: 10pt\"><strong>Exercise 6.9:</strong> Create a new cell below and write a <code>for</code> loop that adds together all the numbers between 0 and 100 (inclusive).\n",
        "<br/>\n",
        "When you've done this, or if you get stuck, see the video <a href='https://youtu.be/gzS3mKaMBZc'>here</a> for a walkthrough.</div>"
      ]
    },
    {
      "cell_type": "markdown",
      "metadata": {},
      "source": [
        "<div style=\"border: 3px solid #d95f02; border-radius: 5px; padding: 10pt\"><strong>Exercise 6.10:</strong> Create a new cell below and write a <code>for</code> loop that sums all odd numbers squared, for numbers smaller than 45.\n",
        "<br/>\n",
        "When you've done this, or if you get stuck, see the video <a href='https://youtu.be/EqLPjVKUeho'>here</a> for a walkthrough.</div>"
      ]
    },
    {
      "cell_type": "markdown",
      "metadata": {},
      "source": [
        "## Key Points\n",
        "\n",
        "* Loops enable your Python codes to repeat tasks\n",
        "* A `for` loop runs code on an iterator, which takes each value in a list (one-by-one)\n",
        "* `for` loops must have a colon and everything after the colon should be indented\n",
        "* There can be many lines of code inside a `for` loop.\n",
        "* Errors are helpful! (yet again)\n",
        "* The built-in Python function `range()` can be used to create a `for` loop that iterates over a sequence of numbers"
      ]
    },
    {
      "cell_type": "markdown",
      "metadata": {},
      "source": [
        "## Any Bugs/Issues/Comments?\n",
        "\n",
        "If you've found a bug or have any comments about this notebook, please fill out this on-line form: https://forms.gle/tp2veeF8e7fbQMvY6.\n",
        "\n",
        "Any feedback we get we will try to correct/implement as soon as possible."
      ]
    }
  ],
  "metadata": {
    "kernelspec": {
      "display_name": "Python 3.9.7 ('python-zero-to-hero-beginners-course-cRi908hw')",
      "language": "python",
      "name": "python3"
    },
    "language_info": {
      "codemirror_mode": {
        "name": "ipython",
        "version": 3
      },
      "file_extension": ".py",
      "mimetype": "text/x-python",
      "name": "python",
      "nbconvert_exporter": "python",
      "pygments_lexer": "ipython3",
      "version": "3.9.7"
    },
    "vscode": {
      "interpreter": {
        "hash": "d769866b6f821afb3302734fef8b56cb7dc86bcc8e4d86f160ade10a565e9457"
      }
    },
    "widgets": {
      "application/vnd.jupyter.widget-state+json": {
        "state": {},
        "version_major": 2,
        "version_minor": 0
      }
    }
  },
  "nbformat": 4,
  "nbformat_minor": 4
}
