{
 "cells": [
  {
   "cell_type": "markdown",
   "metadata": {},
   "source": [
    "# The Basics of Programming with Python\n",
    "\n",
    "*Dr Chas Nelson and Mikolaj Kundegorski*\n",
    "\n",
    "*Part of https://github.com/ChasNelson1990/python-zero-to-hero-beginners-course*"
   ]
  },
  {
   "cell_type": "markdown",
   "metadata": {},
   "source": [
    "These first nine notebooks will take you from zero to hero: teaching you the basics of python syntax and the key features of programming in Python.\n",
    "\n",
    "The remaining three notebooks will introduce key modules that you're likely to use in the future. We will talk through these during the course but you will do the exercises after the course.\n",
    "\n",
    "We will use the notebooks to work through a series of descriptive text, examples and exercises.\n",
    "\n",
    "If you're attending the face-to-face training, Tasks (in light blue) will be completed during the course with Exercises (in light orange) for completing outside the course and building up your skills.\n",
    "\n",
    "If you're doing this course under your own steam, you should complete all the Tasks (light blue) and try to complete the Exercises (orange) for further practice or as revision.\n",
    "\n",
    "Video solutions are provided for Tasks and Exercises.\n",
    "\n",
    "We have also provided some Challenges (in red). These are longer assignments designed to test your skills.\n",
    "\n",
    "Should you find you need further explanation or to revise some topics a list of resources can be found at https://wiki.python.org/moin/BeginnersGuide/Programmers."
   ]
  },
  {
   "cell_type": "markdown",
   "metadata": {},
   "source": [
    "# Running Python in Jupyter Lab\n",
    "\n",
    "## Objectives\n",
    "\n",
    "* Understand why we're learning Python and using Jupyter Lab\n",
    "* Know that Python code can be stored as plain files or notebooks\n",
    "* Create a Markdown cell in a notebook\n",
    "* Hello World! - run a Python cell in a notebook"
   ]
  },
  {
   "cell_type": "markdown",
   "metadata": {},
   "source": [
    "## Why Python?\n",
    "\n",
    "First, why are we using Python? You may have heard of other programming languages like R, Java or C++ and each programming language has its benefits. Python has several benefits that make it an ideal starting language for most scientists:\n",
    "\n",
    "* Simple syntax that's human readable\n",
    "* Very widely used in the scientific community\n",
    "* large community support and good documentation\n",
    "* Packages provide almost infinite extensiblility - and there are many scientifically-focussed packages\n",
    "* Obvious 'pythonic' ways of doing things"
   ]
  },
  {
   "cell_type": "markdown",
   "metadata": {},
   "source": [
    "## Python Files\n",
    "\n",
    "Generally, Python files are plain text files that end with the `.py` extension and contain Python programming language commands. This let's the operating system know that the file is a Python language program and to interpret the text as Python commands. Such files can be edited with a text editor and run from the shell/command line or executed as programmes."
   ]
  },
  {
   "cell_type": "markdown",
   "metadata": {},
   "source": [
    "## Jupyter Lab\n",
    "\n",
    "However, we will focus on using Jupyter Lab notebooks (`.ipynb` extension). Notebooks are a more user-friendly way or working with Python and enable you to combine text notes (like this 'cell'), your Python codes and the results of codes - all in one place.\n",
    "\n",
    "In general, Jupyter Lab will probably satisfy most of your programming needs in the near future."
   ]
  },
  {
   "cell_type": "markdown",
   "metadata": {},
   "source": [
    "## Cells\n",
    "\n",
    "In Jupyter each block is called a cell. The currently selected cell is highlighted by a blue bar to the left and, if the cell is being edited, a blue frame around the cell.\n",
    "\n",
    "You can move between cells using the arrow keys (up and down); however, you must exit edit mode before doing so. This can be done by hitting the <kbd>Esc</kbd> key."
   ]
  },
  {
   "cell_type": "markdown",
   "metadata": {},
   "source": [
    "### Markdown Cells\n",
    "\n",
    "Markdown cells, like this cell, are a form of formatted text. If you double click this cell (or press <kbd>Enter</kbd> when the cell is highlighted) it will change from pretty, formatted text to Markdown text."
   ]
  },
  {
   "cell_type": "markdown",
   "metadata": {},
   "source": [
    "<div style=\"background-color:#abd9e9; border-radius: 5px; padding: 10pt\"><strong>Task 1.1:</strong> Double click this cell to see the following.\n",
    "<br/>\n",
    "When you've done this, or if you get stuck, see the video <a href='https://youtu.be/OGFurQ15a5s '>here</a> for a walkthrough.</div>\n",
    "\n",
    "1. How numbered lists work\n",
    "2. How bulleted lists work:\n",
    "  * How **bold** text can be created\n",
    "  * How to use *italics*\n",
    "  * And how to show `code`\n",
    "  \n",
    "Throughout this course we recommend you add your own Markdown cells to make additional notes that you may find useful in the future."
   ]
  },
  {
   "cell_type": "markdown",
   "metadata": {},
   "source": [
    "To add a new cell, highlight an existing cell, and hit the <kbd>A</kbd> key to create a cell above or <kbd>B</kbd> to create one below. This cell is, by default, a code cell. Hit <kbd>M</kbd> to change the cell to Markdown. (You can always hit <kbd>Y</kbd> to convert it back to code.)"
   ]
  },
  {
   "cell_type": "markdown",
   "metadata": {},
   "source": [
    "<div style=\"background-color:#abd9e9; border-radius: 5px; padding: 10pt\"><strong>Task 1.2:</strong> Let's create a new Markdown cell below this one where we can describe how to do this with the mouse and user interface.\n",
    "<br/>\n",
    "When you've done this, or if you get stuck, see the video <a href=' https://youtu.be/Ce3meEVIyfI'>here</a> for a walkthrough.</div>"
   ]
  },
  {
   "cell_type": "markdown",
   "metadata": {},
   "source": [
    "<div style=\"background-color:#fdae61; border-radius: 5px; padding: 10pt\"><strong>Exercise 1.3:</strong> Create a new Markdown cell below this one. Add your own <em>nested</em> list.\n",
    "<br/>\n",
    "When you've done this, or if you get stuck, see the video <a href=' https://youtu.be/EQaQ2yY0IhY '>here</a> for a walkthrough.</div>"
   ]
  },
  {
   "cell_type": "markdown",
   "metadata": {},
   "source": [
    "### Python Cells\n",
    "\n",
    "Code cells, like the one below, can be filled with a series of Python commands. When the cell is run (<kbd>Ctrl+Enter</kbd> or <kbd>Shift+Enter</kbd>) the output is printed below.\n",
    "\n",
    "Note that a code cell has a pair of square brackets to the left of the cell. If the square brackets are empty (`[ ]`) then the cell has not been run; if the square brackets contain an asterisk (`[*]`) then the cell is running; and if the square brackets contain a number (e.g. `[5]`) then the cell has been run and was the, for example, fifth cell to be run. The running order of cells is important as Jupyter can only know about data and functions in cells that have already been run."
   ]
  },
  {
   "cell_type": "markdown",
   "metadata": {},
   "source": [
    "<div style=\"background-color:#abd9e9; border-radius: 5px; padding: 10pt\"><strong>Task 1.4:</strong> Let's run our first Python script - Hello World! (This is a conventional first code for any programming language.)\n",
    "<br/>\n",
    "When you've done this, or if you get stuck, see the video <a href=' https://youtu.be/4tnTID73n2g'>here</a> for a walkthrough.</div>"
   ]
  },
  {
   "cell_type": "code",
   "execution_count": null,
   "metadata": {},
   "outputs": [],
   "source": [
    "print('Hello World!')"
   ]
  },
  {
   "cell_type": "markdown",
   "metadata": {},
   "source": [
    "<div style=\"background-color:#abd9e9; border-radius: 5px; padding: 10pt\"><strong>Task 1.5:</strong> The cell below contains some Python code; however, it has accidentally been converted to a Markdown cell (see above for how to do this). Can you convert the cell back to a code cell using the Jupyter Lab interface? How might you do this with a keyboard shortcut?\n",
    "<br/>\n",
    "When you've done this, or if you get stuck, see the video <a href='https://youtu.be/ep04qB40-lM'>here</a> for a walkthrough.</div>"
   ]
  },
  {
   "cell_type": "markdown",
   "metadata": {},
   "source": [
    "print(1 + 2)"
   ]
  },
  {
   "cell_type": "markdown",
   "metadata": {},
   "source": [
    "### Closing Notebooks\n",
    "\n",
    "Now we've completed this notebook we need to close it a shutdown the 'kernel', which runs and stores the Python data. We do this to prevent an old notebook for keeping resources such as your computer's memory."
   ]
  },
  {
   "cell_type": "markdown",
   "metadata": {},
   "source": [
    "<div style=\"background-color:#abd9e9; border-radius: 5px; padding: 10pt\"><strong>Task 1.6:</strong> Close this notebook and shutdown the kernel.\n",
    "<br/>\n",
    "When you've done this, or if you get stuck, see the video <a href=' https://youtu.be/Z4GGt3LyZ08 '>here</a> for a walkthrough.</div>"
   ]
  },
  {
   "cell_type": "markdown",
   "metadata": {},
   "source": [
    "### Help with Jupyter\n",
    "\n",
    "Sometimes we all need help. Thankfully Jupyter Lab has a help menu that links to helpful documentations for:\n",
    "\n",
    "* Keyboard Shortcuts in Jupyter\n",
    "* Jupyter\n",
    "* Markdown\n",
    "* Python\n",
    "* NumPy, SciPy, Matplotlib and pandas (all of which we'll get to later)"
   ]
  },
  {
   "cell_type": "markdown",
   "metadata": {},
   "source": [
    "## Key Points\n",
    "\n",
    "* Python codes are plain text\n",
    "* Python codes can be run as `.py` files or in Jupyter Lab notebooks (`.ipynb` files)\n",
    "* Jupyter Lab notebooks have Markdown (pretty text) and Python (code) cells that can be edited and run"
   ]
  },
  {
   "cell_type": "markdown",
   "metadata": {},
   "source": [
    "<div style=\"background-color:#ffa8a8; border-radius: 5px; padding: 10pt\"><strong>Challenge 1.7:</strong> Find documentation and examples of markdown cells in official Jupyter documentation at \n",
    "    <a href='https://jupyter-notebook.readthedocs.io'>https://jupyter-notebook.readthedocs.io</a>.\n",
    "    You can see that markdown can be used for advanced formating, including tabular data and mathematical equations. Create a cell with a table containing mathematical expressions for your favourite three derivatives. You can familiarise yourself with LaTeX for typsetting mathematical equations here <a href='https://www.authorea.com/users/77723/articles/110898-how-to-write-mathematical-equations-expressions-and-symbols-with-latex-a-cheatsheet'> here</a>.\n",
    "</div>"
   ]
  },
  {
   "cell_type": "markdown",
   "metadata": {},
   "source": [
    "## Any Bugs/Issues/Comments?\n",
    "\n",
    "If you've found a bug or have any comments about this notebook, please fill out this on-line form: https://forms.gle/tp2veeF8e7fbQMvY6.\n",
    "\n",
    "Any feedback we get we will try to correct/implement as soon as possible."
   ]
  }
 ],
 "metadata": {
  "kernelspec": {
   "display_name": "Python 3",
   "language": "python",
   "name": "python3"
  },
  "language_info": {
   "codemirror_mode": {
    "name": "ipython",
    "version": 3
   },
   "file_extension": ".py",
   "mimetype": "text/x-python",
   "name": "python",
   "nbconvert_exporter": "python",
   "pygments_lexer": "ipython3",
   "version": "3.8.5"
  },
  "widgets": {
   "application/vnd.jupyter.widget-state+json": {
    "state": {},
    "version_major": 2,
    "version_minor": 0
   }
  }
 },
 "nbformat": 4,
 "nbformat_minor": 4
}
