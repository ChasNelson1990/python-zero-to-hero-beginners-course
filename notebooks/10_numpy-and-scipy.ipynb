{
 "cells": [
  {
   "cell_type": "markdown",
   "metadata": {},
   "source": [
    "# Python Modules - NumPy and Scipy\n",
    "\n",
    "*Dr Chas Nelson and Mikolaj Kundegorski*\n",
    "\n",
    "*Part of https://github.com/ChasNelson1990/python-zero-to-hero-beginners-course*"
   ]
  },
  {
   "cell_type": "markdown",
   "metadata": {},
   "source": [
    "## Objectives\n",
    "\n",
    "* Know about numerical functions provided by NumPy (`numpy`)\n",
    "* Understand the concept of a NumPy array (`numpy.ndarry`)\n",
    "* Know about scientific functions provided by SciPy (`scipy`)\n",
    "* Know how to do linear regression with `scipy.stats.linregress`\n",
    "* Know how to access the NumPy and SciPy documentation"
   ]
  },
  {
   "cell_type": "markdown",
   "metadata": {},
   "source": [
    "## Numpy\n",
    "\n",
    "NumPy (`numpy`) is a large and extremely well developed module focussed on simple and complex mathematical functions and datatypes in Python. NumPy is a large module and we will only introduce you to a couple of functions today."
   ]
  },
  {
   "cell_type": "markdown",
   "metadata": {},
   "source": [
    "<div style=\"border: 3px solid #d95f02; border-radius: 5px; padding: 10pt\"><strong>Exercise 10.1:</strong> Create a new code cell beneath this cell and import the <code>numpy</code> module. It is conventional to give <code>numpy</code> module the alias <code>np</code>.\n",
    "<br/>\n",
    "If you get stuck, see the video <a href='https://youtu.be/KXEYPE4ryAU'>here</a> for a walkthrough, which also covers the next task.</div>"
   ]
  },
  {
   "cell_type": "markdown",
   "metadata": {},
   "source": [
    "<div style=\"border: 3px solid #d95f02; border-radius: 5px; padding: 10pt\"><strong>Exercise 10.2:</strong> Find the NumPy Documentation on-line. Can you easily navigate the documentation to find useful functions?\n",
    "<br/>\n",
    "When you've done this and the previous task, or if you get stuck, see the video <a href='https://youtu.be/KXEYPE4ryAU'>here</a> for a walkthrough. which also covers the previous task.</div>"
   ]
  },
  {
   "cell_type": "markdown",
   "metadata": {},
   "source": [
    "One of the key features of `numpy` is the introduction of a new datatype: the `numpy.ndarray`."
   ]
  },
  {
   "cell_type": "markdown",
   "metadata": {},
   "source": [
    "<div style=\"border: 3px solid #d95f02; border-radius: 5px; padding: 10pt\"><strong>Exercise 10.3:</strong> Search the on-line NumPy documentation to find the <code>numpy.ndarray</code> page. Create a new Markdown cell beneath this one - list the four most important features of a <code>numpy.ndarray</code> as discussed.\n",
    "<br/>\n",
    "When you've done this, or if you get stuck, see the video <a href='https://youtu.be/O_XCZCXYx-I'>here</a> for a walkthrough.</div>"
   ]
  },
  {
   "cell_type": "markdown",
   "metadata": {},
   "source": [
    "<div style=\"border: 3px solid #d95f02; border-radius: 5px; padding: 10pt\"><strong>Exercise 10.4:</strong> Run the code cell beneath this one to see how to create a simple <code>numpy.ndarray</code>.\n",
    "  Note how NumPy has easy methods for calculating things like the mean and standard deviation of an array without having to write loops.\n",
    "<br/>\n",
    "<!--When you've done this, or if you get stuck, see the video <a href='https://youtu.be/moIMPOXX4pY'>here</a> for a walkthrough.-->\n",
    "</div>"
   ]
  },
  {
   "cell_type": "code",
   "execution_count": null,
   "metadata": {},
   "outputs": [],
   "source": [
    "# Create a 3x3 array with the number 1 to 9\n",
    "my_2d_data = np.array([[1, 2, 3], [4, 5, 6], [7, 8, 9]])\n",
    "print(my_2d_data)\n",
    "\n",
    "# Calculate the mean and standard deviation of my_array\n",
    "print(f\"The mean of my_array is {my_2d_data.mean():.2f} ...\")\n",
    "print(f\"...and the standard deviation is {my_2d_data.std():.2f}.\")\n",
    "\n",
    "# Calculate the mean of each column and of each row\n",
    "print(\"The mean of each column of my_array is:\")\n",
    "print(my_2d_data.mean(axis=0))\n",
    "print(\"The mean of each row of my_array is:\")\n",
    "print(my_2d_data.mean(axis=1))"
   ]
  },
  {
   "cell_type": "markdown",
   "metadata": {},
   "source": [
    "The `numpy.ndarray` is particularly important if you plan to analyse images or 2D+ data, e.g. geological recordings.\n",
    "\n",
    "However, in the next notebook we will introduce the pandas DataFrame. This is another new data type and is built upon the `numpy.ndarray`. Many `numpy.ndarray` methods are also defined for pandas DataFrames."
   ]
  },
  {
   "cell_type": "markdown",
   "metadata": {
    "slideshow": {
     "slide_type": "slide"
    }
   },
   "source": [
    "### Slicing (...continued)\n",
    "\n",
    "Just like with a `list`, it is often useful to access particular elements of a `numpy.ndarray`, e.g. access specific pixels in an image.\n",
    "\n",
    "Also just like a list, this is done with square brackets: `[...]`."
   ]
  },
  {
   "cell_type": "markdown",
   "metadata": {
    "slideshow": {
     "slide_type": "slide"
    }
   },
   "source": [
    "<div style=\"border: 3px solid #d95f02; border-radius: 5px; padding: 10pt\"><strong>Exercise 10.5:</strong> The code cell beneath this one has a 1-dimensional <code>numpy.ndarray</code>. How might you access the fifth element of this array?</div>"
   ]
  },
  {
   "cell_type": "code",
   "execution_count": null,
   "metadata": {},
   "outputs": [],
   "source": [
    "my_1d_data = np.array([0, 1, 2, 3, 4, 5, 6, 7, 8, 9])  # note how this 1d array is actually made from a list\n",
    "\n",
    "print(my_1d_data)"
   ]
  },
  {
   "cell_type": "markdown",
   "metadata": {},
   "source": [
    "<div style=\"border: 3px solid #d95f02; border-radius: 5px; padding: 10pt\"><strong>Exercise 10.6:</strong> How might you access the second, third, fourth and fifth elements of this array?\n",
    "  Create a new cell below to access all those elements in one line of code.\n",
    "</div>"
   ]
  },
  {
   "cell_type": "markdown",
   "metadata": {
    "slideshow": {
     "slide_type": "slide"
    }
   },
   "source": [
    "Similarly, we can navigate a 2D `numpy.ndarray` by using row and column numbers to extract a single element.\n",
    "\n",
    "Remember: Python starts counting at zero so our axes are the 0th and 1st axes.\n",
    "  \n",
    "![Acessing pixels using axes.](https://raw.githubusercontent.com/elegant-scipy/notebooks/master/figures/NumPy_ndarrays_v2.svg)\n",
    "\n",
    "*From https://github.com/elegant-scipy/elegant-scipy*"
   ]
  },
  {
   "cell_type": "markdown",
   "metadata": {
    "slideshow": {
     "slide_type": "slide"
    }
   },
   "source": [
    "<div style=\"border: 3px solid #d95f02; border-radius: 5px; padding: 10pt\"><strong>Exercise 10.7:</strong> The code cell beneath this one has a 2-dimensional `numpy.ndarray`. How might you access the second element of the second row of this array?</div>"
   ]
  },
  {
   "cell_type": "code",
   "execution_count": null,
   "metadata": {},
   "outputs": [],
   "source": [
    "my_2d_array = np.array([[0, 1, 2, 3, 4], [5, 6, 7, 8, 9]])\n",
    "\n",
    "print(my_2d_array)"
   ]
  },
  {
   "cell_type": "markdown",
   "metadata": {},
   "source": [
    "<div style=\"border: 3px solid #d95f02; border-radius: 5px; padding: 10pt\"><strong>Exercise 10.8:</strong> The code cell beneath this one has a 3-dimensional `numpy.ndarray`. How might you access the second element of the second row of the second slice of this array?</div>"
   ]
  },
  {
   "cell_type": "code",
   "execution_count": null,
   "metadata": {},
   "outputs": [],
   "source": [
    "my_3d_array = np.array([[[0, 1], [2, 3]], [[4, 5], [6, 7]]])\n",
    "\n",
    "print(my_3d_array)"
   ]
  },
  {
   "cell_type": "markdown",
   "metadata": {},
   "source": [
    "<div style=\"border: 3px solid #d95f02; border-radius: 5px; padding: 10pt\"><strong>Exercise 10.9:</strong> Now run the following cell. Do you recognise the error? Create a new Markdown cell and describe this error in a way that's clear to you.</div>"
   ]
  },
  {
   "cell_type": "code",
   "execution_count": null,
   "metadata": {},
   "outputs": [],
   "source": [
    "print(my_3d_array[1, 1, 2])"
   ]
  },
  {
   "cell_type": "markdown",
   "metadata": {},
   "source": [
    "## SciPy\n",
    "\n",
    "SciPy (`scipy`) is another large and extremely well developed module but is focussed on mathematical, scientific and engineering functions and datatypes for Python. SciPy is also to large to cover in detail so we will only introduce you to one key function right now.\n",
    "\n",
    "### Importing SciPy\n",
    "\n",
    "Importing `scipy` is a little bit more complex than `numpy`.\n",
    "`scipy` has several large submodules and if you want to access functions from one of these submodules, they must be imported as individual modules.\n",
    "For example, say you wanted to do some linear regression (which is in the `scipy.stats` submodule) and some image processing (using functions from `scipy.ndimage`) you need to import both sumodule.\n",
    "E.g.:\n",
    "\n",
    "```python\n",
    "import scipy.stats\n",
    "import scipy.ndimage\n",
    "```\n",
    "\n",
    "You can also just import `scipy` but you must remember to declare the submodule when calling your function, e.g.:\n",
    "\n",
    "```python\n",
    "import scipy\n",
    "scipy.stats.linregress(x, y)\n"
   ]
  },
  {
   "cell_type": "markdown",
   "metadata": {},
   "source": [
    "<div style=\"border: 3px solid #d95f02; border-radius: 5px; padding: 10pt\"><strong>Exercise 10.10:</strong> Run the following cells.\n",
    "  The error in both is a little unusual, but make a note that (for SciPy) this indicates that you've not imported that submodule.\n",
    "  Correct the cells so that they run without errors.\n",
    "\n",
    "  Ignore the plotting codes for now, we will go over matplotlib in a later notebook.\n",
    "<br/>\n",
    "<!--When you've done this, or if you get stuck, see the video <a href='https://youtu.be/519-f0lbudc'>here</a> for a walkthrough.-->\n",
    "</div>"
   ]
  },
  {
   "cell_type": "code",
   "execution_count": null,
   "metadata": {},
   "outputs": [],
   "source": [
    "import scipy\n",
    "\n",
    "# Load data\n",
    "x = np.arange(0, 9, 1)  # create an array of the numbers 0 to 9\n",
    "y = np.arange(0, 18, 2)  # create an array of the numbers 0 to 18 in steps of 2\n",
    "\n",
    "# Linear Regression of x and y\n",
    "slope, intercept, r_value, p_value, std_err = scipy.stats.linregress(x, y)\n",
    "\n",
    "# Plot points and linear regresstion (don't worry about this code yet)\n",
    "import matplotlib.pyplot as plt\n",
    "\n",
    "plt.figure(figsize=[5, 5])\n",
    "plt.scatter(x, y)\n",
    "plt.plot(np.linspace(x.min(), x.max(), 100), slope * np.linspace(x.min(), x.max(), 100) + intercept)"
   ]
  },
  {
   "cell_type": "code",
   "execution_count": null,
   "metadata": {},
   "outputs": [],
   "source": [
    "# Load image data\n",
    "image = np.eye(100)  # create a 100 by 100 \"eye\" array, i.e. an image with a stripe of bright pixels\n",
    "\n",
    "# Apply Gaussianm Filter to the image\n",
    "image_blurred = scipy.ndimage.gaussian_filter(image, sigma=5)\n",
    "\n",
    "# Display images (don't worry about this code yet)\n",
    "import matplotlib.pyplot as plt\n",
    "\n",
    "plt.subplot(121)\n",
    "plt.imshow(image)\n",
    "plt.subplot(122)\n",
    "plt.imshow(image_blurred)"
   ]
  },
  {
   "cell_type": "markdown",
   "metadata": {},
   "source": [
    "### Linear Regression\n",
    "\n",
    "The SciPy module contains a lot of useful stats functions including t-tests and linear regressions. Due to time constraints we will only explain the linear regression function (which we've already used above)."
   ]
  },
  {
   "cell_type": "markdown",
   "metadata": {},
   "source": [
    "<div style=\"border: 3px solid #d95f02; border-radius: 5px; padding: 10pt\"><strong>Exercise 10.11:</strong> Load the documentation for <code>scipy.stats.linregress</code>. Create a Markdown cell beneath this one and write, in simple English, what each of the two parameters and five outputs mean.\n",
    "<br/>\n",
    "When you've done this, or if you get stuck, see the video <a href='https://youtu.be/yw6TEfzuujM'>here</a> for a walkthrough.</div>"
   ]
  },
  {
   "cell_type": "markdown",
   "metadata": {
    "slideshow": {
     "slide_type": "slide"
    }
   },
   "source": [
    "<div style=\"border: 3px solid #d95f02; border-radius: 5px; padding: 10pt\"><strong>Exercise 10.12:</strong> The data below represents some simple experimental data. You have two arrays: <code>time_seconds</code>, which records the time in seconds that the data was taken and <code>distance_metres</code>`, which records the distance travelled at that time (in metres). As you might notice, the times at which the data was taken are unevenly distributed (let's pretend that your colleague came in with a box of doughnuts and distracted you!) - and so you want to interpolate your data to given you measurements at evenly distributed points.\n",
    "\n",
    "Now, you could do this with a for loop and lots of maths... but that isn't the Python way (if you can help it).\n",
    "    \n",
    "Working as a team, find an appropriate function in SciPy, go through the documentation together and try and create interpolated data for `new_time_seconds`.\n",
    "    \n",
    "We will plot this data next week.\n",
    "\n",
    "Question: What does `np.arange()` do? How is it different to the `range()` function we've seen before?</div>"
   ]
  },
  {
   "cell_type": "code",
   "execution_count": null,
   "metadata": {
    "slideshow": {
     "slide_type": "skip"
    }
   },
   "outputs": [],
   "source": [
    "from scipy import interpolate\n",
    "\n",
    "time_seconds = [0, 1, 2, 3, 5, 7, 14, 15, 16, 17, 18, 19]\n",
    "distance_metres = [0, 9, 22, 30, 48, 74, 130, 148, 160, 170, 181, 189]\n",
    "\n",
    "f = interpolate.interp1d\n",
    "\n",
    "new_time_seconds = np.arange(0, 20, 1)"
   ]
  },
  {
   "cell_type": "markdown",
   "metadata": {},
   "source": [
    "## Key Points\n",
    "\n",
    "* NumPy and SciPy increase the functionality of Python significantly\n",
    "* NumPy and SciPy provide mathematical, statistical, scientific and engineering functions\n",
    "* Whilst NumPy and SciPy documentation can look overwhelming, it can easily be interpreted"
   ]
  },
  {
   "cell_type": "markdown",
   "metadata": {},
   "source": [
    "## Any Bugs/Issues/Comments?\n",
    "\n",
    "If you've found a bug or have any comments about this notebook, please fill out this on-line form: https://forms.gle/tp2veeF8e7fbQMvY6.\n",
    "\n",
    "Any feedback we get we will try to correct/implement as soon as possible."
   ]
  }
 ],
 "metadata": {
  "kernelspec": {
   "display_name": "Python 3.9.7 ('python-zero-to-hero-beginners-course-cRi908hw')",
   "language": "python",
   "name": "python3"
  },
  "language_info": {
   "codemirror_mode": {
    "name": "ipython",
    "version": 3
   },
   "file_extension": ".py",
   "mimetype": "text/x-python",
   "name": "python",
   "nbconvert_exporter": "python",
   "pygments_lexer": "ipython3",
   "version": "3.9.7"
  },
  "vscode": {
   "interpreter": {
    "hash": "d769866b6f821afb3302734fef8b56cb7dc86bcc8e4d86f160ade10a565e9457"
   }
  },
  "widgets": {
   "application/vnd.jupyter.widget-state+json": {
    "state": {},
    "version_major": 2,
    "version_minor": 0
   }
  }
 },
 "nbformat": 4,
 "nbformat_minor": 4
}
