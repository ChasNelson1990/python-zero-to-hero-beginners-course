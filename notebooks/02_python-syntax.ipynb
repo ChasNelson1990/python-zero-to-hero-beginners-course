{
 "cells": [
  {
   "cell_type": "markdown",
   "metadata": {},
   "source": [
    "# Basic Python Syntax and Variables\n",
    "\n",
    "*Dr Chas Nelson and Mikolaj Kundegorski*\n",
    "\n",
    "*Part of https://github.com/ChasNelson1990/python-zero-to-hero-beginners-course*"
   ]
  },
  {
   "cell_type": "markdown",
   "metadata": {},
   "source": [
    "## Objectives\n",
    "\n",
    "* Understand the simplest Python operators and syntax\n",
    "* Know what a variable is and how Python can perform operations on variables\n",
    "* Define your own variables\n",
    "* Understand that Python starts counting at zero\n",
    "* Learn to use the `print()`, `len()` and `.format()` built-in functions\n",
    "* Trace how a variable changes over several operations"
   ]
  },
  {
   "cell_type": "markdown",
   "metadata": {},
   "source": [
    "## Comments\n",
    "\n",
    "First, let's address comments. As well as using Markdown cells in Jupyter, it's good practice to use Python comments throughout your code, giving the reader (usually you, six months later) useful hints about what variables contain or operations do.\n",
    "\n",
    "In Python, the comments are specified by the `#` symbol. Anything after the `#` symbol will not be executed when you run the cell."
   ]
  },
  {
   "cell_type": "markdown",
   "metadata": {},
   "source": [
    "<div style=\"background-color:#abd9e9; border-radius: 5px; padding: 10pt\"><strong>Task 2.1:</strong> Run the following cells (don't worry to much about the print statements) and note how everything after the <code>#</code> is ignored. Note how Jupyter Lab automatically prints the final line of each cell.\n",
    "<br/>\n",
    "When you've done this, or if you get stuck, see the video <a href='https://youtu.be/9iB1ov8N2Q4'>here</a> for a walkthrough.\n",
    "</div>"
   ]
  },
  {
   "cell_type": "code",
   "execution_count": null,
   "metadata": {},
   "outputs": [],
   "source": [
    "1 + 1 + 2 + 3"
   ]
  },
  {
   "cell_type": "code",
   "execution_count": null,
   "metadata": {},
   "outputs": [],
   "source": [
    "# Everything after the # is ignored\n",
    "1  # + 1 + 2 +3"
   ]
  },
  {
   "cell_type": "markdown",
   "metadata": {},
   "source": [
    "## Arithmetic Calculations\n",
    "\n",
    "Python has several standard operators, which can be used without any special knowledge. In the next two cells we use the `+` and `*` (multiplication) operators."
   ]
  },
  {
   "cell_type": "code",
   "execution_count": null,
   "metadata": {},
   "outputs": [],
   "source": [
    "100 + 1024"
   ]
  },
  {
   "cell_type": "code",
   "execution_count": null,
   "metadata": {},
   "outputs": [],
   "source": [
    "52 * 24"
   ]
  },
  {
   "cell_type": "markdown",
   "metadata": {},
   "source": [
    "<div style=\"background-color:#abd9e9; border-radius: 5px; padding: 10pt\"><strong>Task 2.2:</strong> Create two new Python cells (below this one) and take a guess at how to calculate:\n",
    "<ol>\n",
    "    <li>1024 minus 512</li>\n",
    "    <li>42 divided by 6</li>\n",
    "</ol>\n",
    "When you've done this, or if you get stuck, see the video <a href='https://youtu.be/ZmvUGkbXtvc'>here</a> for a walkthrough.</div>"
   ]
  },
  {
   "cell_type": "markdown",
   "metadata": {},
   "source": [
    "<div style=\"background-color:#fdae61; border-radius: 5px; padding: 10pt\"><strong>Exercise 2.3:</strong>\n",
    "    Take a look at <a href=https://python-reference.readthedocs.io/en/latest/docs/operators/> Python's documentation chapter about operators </a>  and implement the following equation:\n",
    "    $\\left( \\left(\\frac{50^2 - 303}{13}-10^2\\right)^5 + \\frac{138^3}{3} \\right) \\div 69^4$\n",
    "<br/>\n",
    "When you've done this, or if you get stuck, see the video <a href='https://youtu.be/20ROBRIZ9ME '>here</a> for a walkthrough.</div>"
   ]
  },
  {
   "cell_type": "markdown",
   "metadata": {},
   "source": [
    "## Variables\n",
    "\n",
    "**Variables** are ways of accessing data that we want to use multiple times or that we want to perform operations on. Variables are created with the `=` symbol - we call this 'assignment'.\n",
    "\n",
    "Variable names can only contain letters, numbers and underscores and they cannot start with a number (nor should they start with an underscore). There are many conventions for naming variables but the key thing is: **make it understandable**."
   ]
  },
  {
   "cell_type": "markdown",
   "metadata": {},
   "source": [
    "<div style=\"background-color:#abd9e9; border-radius: 5px; padding: 10pt\"><strong>Task 2.4:</strong> In the next cell, complete the Python with your own details and run the cell.\n",
    "<br/>\n",
    "When you've done this, or if you get stuck, see the video <a href='https://youtu.be/2Eg07VFnOZw'>here</a> for a walkthrough.</div>"
   ]
  },
  {
   "cell_type": "code",
   "execution_count": null,
   "metadata": {},
   "outputs": [],
   "source": [
    "age =\n",
    "first_name =\n",
    "last_name =\n",
    "shoe_size ="
   ]
  },
  {
   "cell_type": "markdown",
   "metadata": {},
   "source": [
    "**N.B.** Strings (letters, words and sentences) must always be delimited by `'` or `\"`. We will encounter some other rules about strings as the course proceeds."
   ]
  },
  {
   "cell_type": "markdown",
   "metadata": {},
   "source": [
    "### Operations on Variables\n",
    "\n",
    "Operations can be done on variables just as they can on raw numbers.\n",
    "\n",
    "It's also very important to understand that variables **persist** between cells - they continue to exist after a cell has been run."
   ]
  },
  {
   "cell_type": "markdown",
   "metadata": {},
   "source": [
    "<div style=\"background-color:#abd9e9; border-radius: 5px; padding: 10pt\"><strong>Task 2.5:</strong> Given that knowledge, create a new Python cell (below this one) and calculate your age divide by your shoe size.\n",
    "<br/>\n",
    "When you've done this, or if you get stuck, see the video <a href='https://youtu.be/gPu4Jr4sBec'>here</a> for a walkthrough.</div>"
   ]
  },
  {
   "cell_type": "markdown",
   "metadata": {},
   "source": [
    "<div style=\"background-color:#fdae61; border-radius: 5px; padding: 10pt\"><strong>Exercise 2.6:</strong> Create a new Python cell, in it define the variables: <code>hours_in_day</code> and <code>hours_asleep_per_day</code>, <code>days_in_year</code>. Calculate what fraction of a day is spent sleeping and what is the total number of days spent asleep in each year.\n",
    "<br/>\n",
    "When you've done this, or if you get stuck, see the video <a href='https://youtu.be/A1YBvWY7z-U'>here</a> for a walkthrough.</div>"
   ]
  },
  {
   "cell_type": "markdown",
   "metadata": {},
   "source": [
    "### Indexing\n",
    "\n",
    "Certain variables, such as those holding strings, can be 'indexed' - we can access individual elements (like letters in word).\n",
    "\n",
    "In Python we do this with square brackets, `[]`.\n",
    "\n",
    "**Important:** But it's really important to remember that Python (like many other programming languages) starts indexing at `0`."
   ]
  },
  {
   "cell_type": "markdown",
   "metadata": {},
   "source": [
    "<div style=\"background-color:#abd9e9; border-radius: 5px; padding: 10pt\"><strong>Task 2.7:</strong> In the next cell index your <code>first_name</code> variable to get just the first vowel in your name.\n",
    "<br/>\n",
    "When you've done this, or if you get stuck, see the video <a href='https://youtu.be/7-LHjwRsJCo'>here</a> for a walkthrough.</div>"
   ]
  },
  {
   "cell_type": "code",
   "execution_count": null,
   "metadata": {},
   "outputs": [],
   "source": [
    "first_name[]"
   ]
  },
  {
   "cell_type": "markdown",
   "metadata": {},
   "source": [
    "<div style=\"background-color:#fdae61; border-radius: 5px; padding: 10pt\"><strong>Exercise 2.8:</strong> What happens if you try to index a number? Create a Python cell below and try to access the second number in your age. What does this <code>TypeError</code> mean? Create a new Markdown cell and describe, in words you understand, what has gone wrong here.\n",
    "<br/>\n",
    "When you've done this, or if you get stuck, see the video <a href='https://youtu.be/IHGDIOXeX4Y'>here</a> for a walkthrough.</div>"
   ]
  },
  {
   "cell_type": "markdown",
   "metadata": {},
   "source": [
    "<div style=\"background-color:#fdae61; border-radius: 5px; padding: 10pt\"><strong>Exercise 2.9:</strong> What happens if you index with a negative number?\n",
    "<br/>\n",
    "When you've done this, or if you get stuck, see the video <a href='https://youtu.be/MkLQNtnW0oA'>here</a> for a walkthrough.</div>"
   ]
  },
  {
   "cell_type": "markdown",
   "metadata": {},
   "source": [
    "### Length of Variables\n",
    "\n",
    "Variables that can be indexed, such as strings (above), also have a length (i.e. how many letters in a word).\n",
    "\n",
    "Python has a built-in function, `len()`, which will give you this length."
   ]
  },
  {
   "cell_type": "markdown",
   "metadata": {},
   "source": [
    "<div style=\"background-color:#abd9e9; border-radius: 5px; padding: 10pt\"><strong>Task 2.10:</strong> In the cell below, add your variable to find the length of your last name.\n",
    "<br/>\n",
    "When you've done this, or if you get stuck, see the video <a href='https://youtu.be/N2Fq5JXNlXo'>here</a> for a walkthrough.</div>"
   ]
  },
  {
   "cell_type": "code",
   "execution_count": null,
   "metadata": {},
   "outputs": [],
   "source": [
    "len()"
   ]
  },
  {
   "cell_type": "markdown",
   "metadata": {},
   "source": [
    "## Printing Variables\n",
    "\n",
    "You've already seen the `print()` function in the first notebook - remember 'Hello World!'?\n",
    "\n",
    "The `print()` function (note the brackets) is one of many built-in Python functions and we'll use it a lot throughout this course.\n",
    "\n",
    "Knowing how to print variables is one of the most important tools in a Python programmer's arsenal. If your code isn't working then printing important variables can be a useful tool for debugging (fixing your code).\n",
    "\n",
    "Sometimes you just want to print a variable, such as `first_name` in which case you would just pass that variable name to the print function:\n",
    "```python\n",
    "print(first_name)\n",
    "```\n",
    "Often it's more useful to print out several variables and some context."
   ]
  },
  {
   "cell_type": "markdown",
   "metadata": {},
   "source": [
    "<div style=\"background-color:#abd9e9; border-radius: 5px; padding: 10pt\"><strong>Task 2.11:</strong> Run the next cell to print out your full name, age in the context of a complete and useful statement. There's a lot of new syntax in this next cell but we'll discuss it all afterwards.\n",
    "<br/>\n",
    "When you've done this, or if you get stuck, see the video <a href='https://youtu.be/Jv3-nGJkV7I'>here</a> for a walkthrough.</div>"
   ]
  },
  {
   "cell_type": "code",
   "execution_count": null,
   "metadata": {},
   "outputs": [],
   "source": [
    "print(\"{0} {1} is {2} years old.\".format(first_name, last_name, age))"
   ]
  },
  {
   "cell_type": "markdown",
   "metadata": {},
   "source": [
    "### The `.format()` Method\n",
    "\n",
    "**Disclaimer**: This topic is a little tricky to start with. Don't worry if you don't get it straight away - as with a lot of Python it becomes clearer the more you use it and we will use it throughout the course.\n",
    "\n",
    "Let's take some of this new syntax one step at a time.\n",
    "\n",
    "`.format()` (technically `str.format()`), just like `print()`, is a built-in function.\n",
    "\n",
    "However, the `print()` function only operates on what you pass into the brackets, such as `first_name` in the example above.\n",
    "\n",
    "The `str.format()` function operates on the data before the dot too - we call this type of function a method. Think of it as a function which has a \"special argument\" which is written before the dot, and the normal arguments passed in a bracket as usual.\n",
    "\n",
    "In the case of `.format()`, the data before the dot must be a string (or `str`).\n",
    "\n",
    "In the example above we have a string `'{0} {1} is {2} years old and has a shoe size of {3}.'` and we call the `.format()` method on that string - so Python will do a formatting operation on that string.\n",
    "\n",
    "So how does Python know what to format and how?\n",
    "\n",
    "In this example we haven't told Python 'how' to format anything - Python is very good at taking guesses with that - and we won't cover this until much later in the course.\n",
    "\n",
    "But we have told Python 'what' to format - we passed four variables to `.format()` inside the brackets: `first_name`, `last_name`, `age` and `shoe_size`.\n",
    "\n",
    "So Python knows the four things it needs to format, and guesses how it should format them, but 'where' should Python put this formatted data?\n",
    "\n",
    "That's where `{0}` comes in - `{0}` means 'put the zeroth variable here', `{1}` means 'put the first variable here', and so on. (Remember that Python indexes from zero.)"
   ]
  },
  {
   "cell_type": "markdown",
   "metadata": {},
   "source": [
    "<div style=\"background-color:#abd9e9; border-radius: 5px; padding: 10pt\"><strong>Task 2.12:</strong> In the cell below, change the code to swap your first name and your last name and report your shoe size instead of your age.\n",
    "<br/>\n",
    "When you've done this, or if you get stuck, see the video <a href='https://youtu.be/7egvS4tsea0'>here</a> for a walkthrough.</div>"
   ]
  },
  {
   "cell_type": "code",
   "execution_count": null,
   "metadata": {},
   "outputs": [],
   "source": [
    "print(\"{0} {1} is {2} years old\".format(first_name, last_name, age))"
   ]
  },
  {
   "cell_type": "markdown",
   "metadata": {},
   "source": [
    "## Watching Variables Change\n",
    "\n",
    "It's often very useful to watch how a variable changes after each operation - usually when you're confirming your codes work or trying to find out why they don't!"
   ]
  },
  {
   "cell_type": "markdown",
   "metadata": {},
   "source": [
    "<div style=\"background-color:#abd9e9; border-radius: 5px; padding: 10pt\"><strong>Task 2.13:</strong> Read the following Python code cell - what value do you think <code>myVariable</code> will be at each call of the <code>print()</code> function? Don't run the cell before you make a prediction and add your prediction as a comment on each line.\n",
    "<br/>\n",
    "Run the cell to confirm your expectations.\n",
    "<br/>\n",
    "When you've done this, or if you get stuck, see the video <a href='https://youtu.be/egujpXm8gkc'>here</a> for a walkthrough.</div>"
   ]
  },
  {
   "cell_type": "code",
   "execution_count": null,
   "metadata": {},
   "outputs": [],
   "source": [
    "myVariable = age\n",
    "print(myVariable)\n",
    "\n",
    "myVariable = myVariable / shoe_size\n",
    "print(myVariable)\n",
    "\n",
    "myVariable = myVariable + 10\n",
    "print(myVariable)\n",
    "\n",
    "myVariable = first_name\n",
    "print(myVariable)"
   ]
  },
  {
   "cell_type": "markdown",
   "metadata": {},
   "source": [
    "## Key Points\n",
    "\n",
    "* Variables store data\n",
    "* Operations can be done on variables to change them or use the data contained\n",
    "* Some variables, such as strings, can be indexed to access specific parts of the contained data\n",
    "* Python indexing starts with zero (not one)\n",
    "* Such variables have a length which can be determined with the built-in `len()` function\n",
    "* In Jupyter Lab, variables persist between cells of a notebook\n",
    "* The `print()` built-in function allows you to see this data\n",
    "* The `str.format()` built-in method allows you to format this data"
   ]
  },
  {
   "cell_type": "markdown",
   "metadata": {},
   "source": [
    "<div style=\"background-color:#ffa8a8; border-radius: 5px; padding: 10pt\"><strong>Challenge 2.14:</strong> How might you index multiple elements within a variable? Can you access the first and last elements in one line?</div>"
   ]
  },
  {
   "cell_type": "markdown",
   "metadata": {},
   "source": [
    "## Any Bugs/Issues/Comments?\n",
    "\n",
    "If you've found a bug or have any comments about this notebook, please fill out this on-line form: https://forms.gle/tp2veeF8e7fbQMvY6.\n",
    "\n",
    "Any feedback we get we will try to correct/implement as soon as possible."
   ]
  }
 ],
 "metadata": {
  "kernelspec": {
   "display_name": "Python 3",
   "language": "python",
   "name": "python3"
  },
  "language_info": {
   "codemirror_mode": {
    "name": "ipython",
    "version": 3
   },
   "file_extension": ".py",
   "mimetype": "text/x-python",
   "name": "python",
   "nbconvert_exporter": "python",
   "pygments_lexer": "ipython3",
   "version": "3.9.7"
  },
  "widgets": {
   "application/vnd.jupyter.widget-state+json": {
    "state": {},
    "version_major": 2,
    "version_minor": 0
   }
  }
 },
 "nbformat": 4,
 "nbformat_minor": 4
}
