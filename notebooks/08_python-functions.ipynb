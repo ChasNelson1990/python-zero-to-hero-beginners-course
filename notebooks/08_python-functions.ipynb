{
 "cells": [
  {
   "cell_type": "markdown",
   "metadata": {},
   "source": [
    "# Defining Custom Python Functions\n",
    "\n",
    "*Dr Chas Nelson and Mikolaj Kundegorski*\n",
    "\n",
    "*Part of https://github.com/ChasNelson1990/python-zero-to-hero-beginners-course*"
   ]
  },
  {
   "cell_type": "markdown",
   "metadata": {},
   "source": [
    "## Objectives\n",
    "\n",
    "* Understand the benefits of breaking programs into functions\n",
    "* Know the difference between defining and calling a function\n",
    "* Write a small function"
   ]
  },
  {
   "cell_type": "markdown",
   "metadata": {},
   "source": [
    "## Functions\n",
    "\n",
    "Programs can easily become large and unweilding. Functions enable us to break programs down into smaller chunks, making our code easier to understand *and* easier to debug.\n",
    "\n",
    "A further benefit of functions is that they can be reused - it's the 'write once, use often' philosophy of coding.\n",
    "\n",
    "We've already called several built-in functions, which might seem a little bit like black boxes but below we will define our own functions and control their internal workings ourselves.\n",
    "\n",
    "## Defining Functions with `def`\n",
    "\n",
    "Defining our own functions in Python uses a `def` statement and takes the following form:\n",
    "\n",
    "```python\n",
    "def my_function():\n",
    "    print('My custom function has been called.')\n",
    "    return\n",
    "```\n",
    "\n",
    "There are five important features of `def` statements:\n",
    "\n",
    "1. Our definition starts with `def`.\n",
    "2. This is followed by a name for our custom function. Function names follow the same rules as variable names.\n",
    "3. After the variable name we need a pair of parentheses (we will come back to these below).\n",
    "4. `def` statements must end in a colon, this signals the start of the code you want to run when your custom function is called.\n",
    "5. The body of a `def` statement must be indented. Thankfully, Jupyter should autoindent lines following a colon for you.\n",
    "6. The final line of a function must `return` something (refer back to Returns in Built-in Functions, Help and Documentation above). If nothing is provided (as here) then the function returns `None`."
   ]
  },
  {
   "cell_type": "markdown",
   "metadata": {},
   "source": [
    "<div style=\"background-color:#abd9e9; border-radius: 5px; padding: 10pt\"><strong>Task 8.1:</strong> Run the following cell to define <code>my_function</code>, as defined above. Why does the cell not print anything?\n",
    "<br/>\n",
    "When you've done this, or if you get stuck, see the video <a href='https://youtu.be/s7Mqud_YJDc'>here</a> for a walkthrough.</div>"
   ]
  },
  {
   "cell_type": "code",
   "execution_count": null,
   "metadata": {},
   "outputs": [],
   "source": [
    "def my_function():\n",
    "    print(\"My custom function has been called.\")\n",
    "    return"
   ]
  },
  {
   "cell_type": "markdown",
   "metadata": {},
   "source": [
    "## Functions and Parameters\n",
    "\n",
    "Many of the built-in functions we've used so far have input parameters.\n",
    "\n",
    "These are defined by putting the name of a parameter between the parentheses of our `def` statement. In fact, we can include several parameters, like so:\n",
    "\n",
    "```python\n",
    "def print_date(year, month, day):\n",
    "    print(f\"The ISO format date is {year}-{month:02}-{day:02}\")\n",
    "    return\n",
    "```\n",
    "\n",
    "N.B. The formatting `{0:02}` means 'format (`:`) the first parameter (`0`) with leading zeros (`0`) to a width of two digits (`2`), e.g. `f\"{9:02}\"` will print `09`.\n",
    "\n",
    "### Optional Parameters\n",
    "\n",
    "We can even make optional parameters. Or, more precisely, we can give parameters default values. These default values can be used if the parameter is not used when the function is called."
   ]
  },
  {
   "cell_type": "markdown",
   "metadata": {},
   "source": [
    "<div style=\"background-color:#abd9e9; border-radius: 5px; padding: 10pt\"><strong>Task 8.2:</strong> Run the following cell to define and call <code>print_date</code>. How is this definition different to the one above? Add a second call to the function but do not use the <code>day</code> parameter.\n",
    "<br/>\n",
    "When you've done this, or if you get stuck, see the video <a href='https://youtu.be/7ciBw5-cc90'>here</a> for a walkthrough.</div>"
   ]
  },
  {
   "cell_type": "code",
   "execution_count": null,
   "metadata": {},
   "outputs": [],
   "source": [
    "def print_date(year, month, day=1):\n",
    "    # Our function defaults to the first day of the month if the day is not given\n",
    "    print(\"The ISO format date is {year}-{month:02}-{day:02}\")\n",
    "    return\n",
    "\n",
    "\n",
    "print_date(2019, 4, 5)"
   ]
  },
  {
   "cell_type": "markdown",
   "metadata": {},
   "source": [
    "<div style=\"background-color:#fdae61; border-radius: 5px; padding: 10pt\"><strong>Exercise 8.3:</strong> Fill in the gaps in the template below to create a function that increments a number by one. Check if the function works as expected.\n",
    "<br/>\n",
    "When you've done this, or if you get stuck, see the video <a href='https://youtu.be/FPyzEPJL00k'>here</a> for a walkthrough.</div>"
   ]
  },
  {
   "cell_type": "code",
   "execution_count": null,
   "metadata": {},
   "outputs": [],
   "source": [
    "def increment_number(____):\n",
    "    n_plus_1 = ____ + 1\n",
    "    return n_plus_1\n",
    "\n",
    "\n",
    "print(increment_number(49))"
   ]
  },
  {
   "cell_type": "markdown",
   "metadata": {},
   "source": [
    "<div style=\"background-color:#fdae61; border-radius: 5px; padding: 10pt\"><strong>Exercise 8.4:</strong> In a new cell, create a function that  multiplies the length of any two words. Check if the function works as expected.\n",
    "<br/>\n",
    "When you've done this, or if you get stuck, see the video <a href='https://youtu.be/PwkLFW4v_T4'>here</a> for a walkthrough.</div>"
   ]
  },
  {
   "cell_type": "markdown",
   "metadata": {},
   "source": [
    "## Functions and Returns\n",
    "\n",
    "So far we've left the return blank, which by default returns `None`.\n",
    "\n",
    "Much of the time our functions will need to return a value."
   ]
  },
  {
   "cell_type": "markdown",
   "metadata": {},
   "source": [
    "<div style=\"background-color:#abd9e9; border-radius: 5px; padding: 10pt\"><strong>Task 8.5:</strong> Read the cell below. It defines a function <code>my_classifier</code> that takes a size (a number) and returns the name of the appropriate size category (a string). Replace all the gaps (<code>____</code>) in the cell so that it runs over all the sizes and without errors.\n",
    "<br/>\n",
    "When you've done this, or if you get stuck, see the video <a href='https://youtu.be/0HokFLxlxog'>here</a> for a walkthrough.</div>"
   ]
  },
  {
   "cell_type": "code",
   "execution_count": null,
   "metadata": {},
   "outputs": [],
   "source": [
    "def my_classifier(____):\n",
    "    if size >= 75:\n",
    "        category = \"Large\"\n",
    "    elif size____25:\n",
    "        ____ = \"Medium\"\n",
    "    else:\n",
    "        category = \"Small\"\n",
    "    return ____\n",
    "\n",
    "\n",
    "mySizes = [81, 61, 18, 69, 78, 66, 41, 65, 84, 18, 64, 16, 35, 65, 84, 89, 45, 13, 64]\n",
    "\n",
    "for ____ in mySizes:\n",
    "    thisCategory = ____(thisSize)\n",
    "    print(\"This item is {0} with a size of {1}\".____(____, ____))"
   ]
  },
  {
   "cell_type": "markdown",
   "metadata": {},
   "source": [
    "<div style=\"background-color:#fdae61; border-radius: 5px; padding: 10pt\"><strong>Exercise 8.6:</strong> Fill in the blanks in the cell below to define a function that takes a list of numbers and returns the smallest number in the list. Add lines to call your function on <code>mySizes</code> (as defined above). Note that there is a built-in function <code>min</code> but, for this exercise, you should write your own function with loops and conditionals.\n",
    "<br/>\n",
    "When you've done this, or if you get stuck, see the video <a href='https://youtu.be/QdpS0KE1Mtw'>here</a> for a walkthrough.</div>"
   ]
  },
  {
   "cell_type": "code",
   "execution_count": null,
   "metadata": {},
   "outputs": [],
   "source": [
    "def my_minimum(numbers)____\n",
    "    minimum = ____\n",
    "    for element in ____:\n",
    "        if ____:\n",
    "            minimum = ____\n",
    "    ____ minimum"
   ]
  },
  {
   "cell_type": "markdown",
   "metadata": {},
   "source": [
    "## Key Points\n",
    "\n",
    "* Defining a function does not call (use) that function.\n",
    "* A `def` statement defines a function with a name, parameters, some internal code and something to `return` when that function is called."
   ]
  },
  {
   "cell_type": "markdown",
   "metadata": {},
   "source": [
    "<div style=\"background-color:#ffa8a8; border-radius: 5px; padding: 10pt\"><strong>Challenge 8.7:</strong> In a previous exercise we wrote the following algorithm, which is designed to check whether or not conditions are safe for flying your drone. Convert this script into a funtion called <code>safe_to_fly</code> and call it under three different conditions.</div>"
   ]
  },
  {
   "cell_type": "code",
   "execution_count": null,
   "metadata": {},
   "outputs": [],
   "source": [
    "rain = False\n",
    "bystanders = 0\n",
    "wind = 15  # km/h\n",
    "\n",
    "if rain == True or wind > 20:\n",
    "    print(\"You cannot fly a drone due to weather conditions (either rain of strong wind)!\")\n",
    "elif bystanders > 0:\n",
    "    print(\"You are putting bystanders at risk, you cannot fly your drone!\")\n",
    "else:\n",
    "    print(\"Go wild!\")"
   ]
  },
  {
   "cell_type": "markdown",
   "metadata": {},
   "source": [
    "## Any Bugs/Issues/Comments?\n",
    "\n",
    "If you've found a bug or have any comments about this notebook, please fill out this on-line form: https://forms.gle/tp2veeF8e7fbQMvY6.\n",
    "\n",
    "Any feedback we get we will try to correct/implement as soon as possible."
   ]
  }
 ],
 "metadata": {
  "kernelspec": {
   "display_name": "Python 3.9.7 ('python-zero-to-hero-beginners-course-cRi908hw')",
   "language": "python",
   "name": "python3"
  },
  "language_info": {
   "codemirror_mode": {
    "name": "ipython",
    "version": 3
   },
   "file_extension": ".py",
   "mimetype": "text/x-python",
   "name": "python",
   "nbconvert_exporter": "python",
   "pygments_lexer": "ipython3",
   "version": "3.9.7"
  },
  "vscode": {
   "interpreter": {
    "hash": "d769866b6f821afb3302734fef8b56cb7dc86bcc8e4d86f160ade10a565e9457"
   }
  },
  "widgets": {
   "application/vnd.jupyter.widget-state+json": {
    "state": {},
    "version_major": 2,
    "version_minor": 0
   }
  }
 },
 "nbformat": 4,
 "nbformat_minor": 4
}
