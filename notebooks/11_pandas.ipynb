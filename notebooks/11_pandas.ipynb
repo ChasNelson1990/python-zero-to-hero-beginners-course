{
 "cells": [
  {
   "cell_type": "markdown",
   "metadata": {},
   "source": [
    "# Python Modules - pandas\n",
    "\n",
    "*Dr Chas Nelson and Mikolaj Kundegorski*\n",
    "\n",
    "*Part of https://github.com/ChasNelson1990/python-zero-to-hero-beginners-course*"
   ]
  },
  {
   "cell_type": "markdown",
   "metadata": {},
   "source": [
    "## Objectives\n",
    "\n",
    "* Know about data analysis functions provided by `pandas`\n",
    "* Understand the concept of a `pandas.DataFrame`\n",
    "* Know how to access summary statistics with `.describe()`\n",
    "* Know how to access elements from a `pandas.DataFrame` by indices\n",
    "* Know how to select elements from a `pandas.DataFrame` by comparison\n",
    "* Know how to access the `pandas` documentation"
   ]
  },
  {
   "cell_type": "markdown",
   "metadata": {},
   "source": [
    "## pandas\n",
    "\n",
    "pandas (`pandas`) is a large and well developed module focused on data analytics functions and datatypes in Python. As pandas is a large module and we will only introduce you to a couple of functions today."
   ]
  },
  {
   "cell_type": "markdown",
   "metadata": {},
   "source": [
    "<div style=\"background-color:#fdae61; border-radius: 5px; padding: 10pt\"><strong>Exercise 11.1:</strong> Create a new code cell beneath this cell and import the <code>pandas</code> module. It is conventional to give <code>pandas</code> module the alias <code>pd</code>.\n",
    "<br/>\n",
    "When you've done this, or if you get stuck, see the video <a href='https://youtu.be/mxMFKjGJ3rE'>here</a> for a walkthrough.</div>"
   ]
  },
  {
   "cell_type": "markdown",
   "metadata": {},
   "source": [
    "### DataFrames\n",
    "\n",
    "One of the key features of pandas is the introduction of another new datatype: the `pandas.DataFrame`.\n",
    "\n",
    "We will use the `pandas.DataFrame` for the mini-project this afternoon (on your own data if your brought it).\n",
    "\n",
    "A `DataFrame` is a collection of `Series`. You can consider a `DataFrame` to be a table of data and a `Series` to be a column of data.\n",
    "\n",
    "pandas is built on top of NumPy and many NumPy array methods can be applied to `DataFrames` and `Series`.\n",
    "\n",
    "If you're used to the `R` programming language then `DataFrames` and `Series` may already be familiar to you; although Python has it's own special ways to deal with these.\n",
    "There are many benefits to using a `DataFrame` instead on a NumPy array and these include the ability for pandas to deal with missing values and the ability to use relational database operations between DataFrames."
   ]
  },
  {
   "cell_type": "markdown",
   "metadata": {},
   "source": [
    "<div style=\"background-color:#fdae61; border-radius: 5px; padding: 10pt\"><strong>Exercise 11.2:</strong> Find the pandas Documentation on-line and search the on-line pandas documentation to find the <code>pandas.DataFrame</code> and <code>pandas.Series</code> pages.\n",
    "<br/>\n",
    "When you've done this, or if you get stuck, see the video <a href='https://youtu.be/Rg6jFvgxSZ8'>here</a> for a walkthrough.</div>"
   ]
  },
  {
   "cell_type": "markdown",
   "metadata": {},
   "source": [
    "## Loading CSV Data\n",
    "\n",
    "The easiest way to load data as a DataFrame with pandas is to read a 'comma separated value' file. These can easily be exported from Excel or similar software if you already have data in a different format.\n",
    "\n",
    "**N.B.** `display()` can be used instead of `print()`, this is a Jupyter feature for pretty printing of complex objects like dataframes."
   ]
  },
  {
   "cell_type": "markdown",
   "metadata": {},
   "source": [
    "<div style=\"background-color:#fdae61; border-radius: 5px; padding: 10pt\"><strong>Exercise 11.3:</strong> Run the code cell beneath this one to see how to load a <code>pandas.DataFrame</code> from a csv file (here from example data on the internet). Note how the DataFrame has an extra column at the start - this is an 'index'. Note that this dataset is about sepal and petal size in irises.\n",
    "<br/>\n",
    "When you've done this, or if you get stuck, see the video <a href='https://youtu.be/lkgePvg6PoQ'>here</a> for a walkthrough.</div>"
   ]
  },
  {
   "cell_type": "code",
   "execution_count": null,
   "metadata": {},
   "outputs": [],
   "source": [
    "import pandas as pd\n",
    "\n",
    "iris = pd.read_csv(\"https://raw.githubusercontent.com/mwaskom/seaborn-data/master/iris.csv\")\n",
    "print(\"Our data is of type {0}\".format(type(iris)))  # print the datatype\n",
    "display(iris.head())  # print only the first five rows"
   ]
  },
  {
   "cell_type": "markdown",
   "metadata": {},
   "source": [
    "### Accessing Elements of a DataFrame - Selecting by Indexing\n",
    "\n",
    "DataFrames are accessible by indexing (as are the `numpy.ndarray`, `list` and `string` datatypes).\n",
    "\n",
    "However, unlike other datatypes we don't just use square brackets to select values by indexing. If we want to access elements of a `DataFrame` by index we must use the `.iloc` (Integer-LOCation) attribute."
   ]
  },
  {
   "cell_type": "markdown",
   "metadata": {},
   "source": [
    "<div style=\"background-color:#fdae61; border-radius: 5px; padding: 10pt\"><strong>Exercise 11.4:</strong> Run the code cell beneath this one to access elements of <code>iris</code> by indexing. Add two <code>display()</code> commands that display elements accessed by indexing:\n",
    "<ul>\n",
    "    <li>the last row, fifth column</li>\n",
    "    <li>the last row and last two columns.</li>\n",
    "</ul>\n",
    "When you've done this, or if you get stuck, see the video <a href='https://youtu.be/0o6Kt37NIp0'>here</a> for a walkthrough.\n",
    "</div>"
   ]
  },
  {
   "cell_type": "code",
   "execution_count": null,
   "metadata": {},
   "outputs": [],
   "source": [
    "# Access the first row, first column\n",
    "display(iris.iloc[0, 0])\n",
    "\n",
    "# Access the second and third rows, third column\n",
    "\n",
    "# Access the first ten rows, last three columns"
   ]
  },
  {
   "cell_type": "markdown",
   "metadata": {},
   "source": [
    "### Accessing Elements of a DataFrame - Selecting by Labels\n",
    "\n",
    "DataFrames are also accessible by labels, i.e. column headers (this is unlike the `numpy.ndarray`, `list` and `string` datatypes).\n",
    "\n",
    "If we want to access elements of a `DataFrame` by labels we must use the `.loc` (label-LOCation) attribute."
   ]
  },
  {
   "cell_type": "markdown",
   "metadata": {},
   "source": [
    "<div style=\"background-color:#fdae61; border-radius: 5px; padding: 10pt\"><strong>Exercise 11.5:</strong> Run the code cell beneath this one to access elements of <code>iris</code> by label. Note how, because of the index column the row labels happen to be the same as the row integer locations. Note also how slicing (<code>:</code>) with labels acts includes the last value (unlike slicing with indices above).\n",
    "<br/>\n",
    "When you've done this, or if you get stuck, see the video <a href='https://youtu.be/TOxcXnjLvg8'>here</a> for a walkthrough.</div>"
   ]
  },
  {
   "cell_type": "code",
   "execution_count": null,
   "metadata": {},
   "outputs": [],
   "source": [
    "# Access the first row, 'sepal_length' column,\n",
    "display(iris.loc[0, \"sepal_length\"])\n",
    "\n",
    "# Access the second and third rows, 'petal_length' column\n",
    "display(iris.loc[1:2, \"petal_length\"])\n",
    "\n",
    "# Access the first ten rows, last three columns\n",
    "display(iris.loc[0:9, \"petal_width\":\"species\"])"
   ]
  },
  {
   "cell_type": "markdown",
   "metadata": {},
   "source": [
    "<div style=\"background-color:#fdae61; border-radius: 5px; padding: 10pt\"><strong>Exercise 11.6:</strong> Run the cell below - why does <code>-1</code> not work when using <code>.loc</code>?\n",
    "<br/>\n",
    "When you've done this, or if you get stuck, see the video <a href='https://youtu.be/pj954WxfijI'>here</a> for a walkthrough.</div>"
   ]
  },
  {
   "cell_type": "code",
   "execution_count": null,
   "metadata": {},
   "outputs": [],
   "source": [
    "# Access the last row, last three columns\n",
    "display(iris.loc[-1, \"petal_width\"])"
   ]
  },
  {
   "cell_type": "markdown",
   "metadata": {},
   "source": [
    "### Accessing Elements of a DataFrame - Selecting Whole Columns or Rows\n",
    "\n",
    "To access a whole column (or row), we can use just a colon to indicate 'everything'."
   ]
  },
  {
   "cell_type": "markdown",
   "metadata": {},
   "source": [
    "<div style=\"background-color:#fdae61; border-radius: 5px; padding: 10pt\"><strong>Exercise 11.7:</strong> Run the cell below to see an example of printing a whole column. Note that <code>print()</code> truncates the data, but variable contains the whole column's data.\n",
    "<br/>\n",
    "When you've done this, or if you get stuck, see the video <a href='https://youtu.be/NE4WbMWv2y4'>here</a> for a walkthrough.</div>"
   ]
  },
  {
   "cell_type": "code",
   "execution_count": null,
   "metadata": {},
   "outputs": [],
   "source": [
    "# Access the whole 'species' column\n",
    "myVariable = iris.loc[:, \"species\"]\n",
    "display(myVariable)"
   ]
  },
  {
   "cell_type": "markdown",
   "metadata": {},
   "source": [
    "### Describing a DataFrame\n",
    "\n",
    "Often, we just want a quick summary of numerical data, e.g. the mean and standard deviation. `pandas.DataFrame` objects have a method to give you a quick overview: `.describe()`."
   ]
  },
  {
   "cell_type": "markdown",
   "metadata": {},
   "source": [
    "<div style=\"background-color:#fdae61; border-radius: 5px; padding: 10pt\"><strong>Exercise 11.8:</strong> Run the cell below to se an example of the <code>.describe()</code> method. Note how <code>.describe()</code> only considers numerical <code>Series</code> and ignores 'species'.\n",
    "<br/>\n",
    "When you've done this, or if you get stuck, see the video <a href='https://youtu.be/2dDVbYtFbkY'>here</a> for a walkthrough.</div>"
   ]
  },
  {
   "cell_type": "code",
   "execution_count": null,
   "metadata": {},
   "outputs": [],
   "source": [
    "display(iris.describe())"
   ]
  },
  {
   "cell_type": "markdown",
   "metadata": {},
   "source": [
    "### Accessing Elements of a DataFrame - Selecting By Comparison\n",
    "\n",
    "But what if we only want to see summary statistics for one species in our dataset? We could manually look through the `DataFrame` and pick the indices for each 'setosa' iris. In this case that will be indiced `0-49`, but in many cases the ordering of our data may be random.\n",
    "\n",
    "Luckily, DataFrames can be accessed not just be indices and labels but also by comparisons. Essentially, we create a Boolean 'mask' - a `True`/`False` value at every element, which tells the DataFrame what data to use."
   ]
  },
  {
   "cell_type": "markdown",
   "metadata": {},
   "source": [
    "<div style=\"background-color:#fdae61; border-radius: 5px; padding: 10pt\"><strong>Exercise 11.9:</strong> Read the cell below. This cells aims to create a mask for only setosa iris data and print out summary statistics for that species. Replace all the gaps (<code>____</code>) in the cell so that it runs without errors and produces the right output values.\n",
    "<br/>\n",
    "When you've done this, or if you get stuck, see the video <a href='https://youtu.be/QxxUMjt9xUg'>here</a> for a walkthrough.</div>"
   ]
  },
  {
   "cell_type": "code",
   "execution_count": null,
   "metadata": {},
   "outputs": [],
   "source": [
    "# Create a mask from the 'species' column\n",
    "mask = iris.____[:, ____] == \"setosa\"\n",
    "\n",
    "# Print the mask\n",
    "display(mask.head())\n",
    "\n",
    "# Print the masked DataFrame\n",
    "display(iris.loc[____])\n",
    "\n",
    "# Print summary statistics\n",
    "display(iris.____[mask].____())"
   ]
  },
  {
   "cell_type": "markdown",
   "metadata": {},
   "source": [
    "## Key Points\n",
    "\n",
    "* pandas increases the functionality of Python for data analaysis\n",
    "* Whilst pandas documentation can look overwhelming, it can easily be interpreted\n",
    "* `pandas.DataFrame` objects hold data in a table-like way and can be loaded from your existing data\n",
    "* There are lots of ways to access data from your `pandas.DataFrame`, not all will be appropriate for your scenario"
   ]
  },
  {
   "cell_type": "markdown",
   "metadata": {},
   "source": [
    "## Any Bugs/Issues/Comments?\n",
    "\n",
    "If you've found a bug or have any comments about this notebook, please fill out this on-line form: https://forms.gle/tp2veeF8e7fbQMvY6.\n",
    "\n",
    "Any feedback we get we will try to correct/implement as soon as possible."
   ]
  }
 ],
 "metadata": {
  "kernelspec": {
   "display_name": "Python 3",
   "language": "python",
   "name": "python3"
  },
  "language_info": {
   "codemirror_mode": {
    "name": "ipython",
    "version": 3
   },
   "file_extension": ".py",
   "mimetype": "text/x-python",
   "name": "python",
   "nbconvert_exporter": "python",
   "pygments_lexer": "ipython3",
   "version": "3.9.7"
  },
  "widgets": {
   "application/vnd.jupyter.widget-state+json": {
    "state": {},
    "version_major": 2,
    "version_minor": 0
   }
  }
 },
 "nbformat": 4,
 "nbformat_minor": 4
}
