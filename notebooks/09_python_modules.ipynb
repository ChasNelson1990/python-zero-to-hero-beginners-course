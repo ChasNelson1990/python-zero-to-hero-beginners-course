{
 "cells": [
  {
   "cell_type": "markdown",
   "metadata": {},
   "source": [
    "# Python Modules\n",
    "\n",
    "*Dr Chas Nelson and Mikolaj Kundegorski*\n",
    "\n",
    "*Part of https://github.com/ChasNelson1990/python-zero-to-hero-beginners-course*"
   ]
  },
  {
   "cell_type": "markdown",
   "metadata": {},
   "source": [
    "## Objectives\n",
    "\n",
    "* Understand what a module is in Python\n",
    "* Know about mathematical functions provided by `math`\n",
    "* Learn how to import functions from extended collection of Python libraries\n",
    "* Know how and when to import using an alias and what a namespace is"
   ]
  },
  {
   "cell_type": "markdown",
   "metadata": {},
   "source": [
    "## Python Modules: Doing More\n",
    "\n",
    "At some point, very soon, you will realise that not everything you can think of can be done by using built-in functions. You have learnt how to write your own functions but common problems already have common solutions written by other, more experience programmers. \n",
    "\n",
    "Python itself provides an extensive library of [modules](https://docs.python.org/3/library/index.html) which are collections of functions (and other objects, like datatypes) allowing us to do some more specific tasks. \n",
    "\n",
    "Let's follow a simple example using the `math` module. `math` is a module focussed on simple mathematical functions and data types in Python.\n",
    "\n",
    "First, let's calculate the factorial of 6 manually:\n",
    "<br>\n",
    "$6! = 1 \\times 2 \\times 3 \\times 4 \\times 5 \\times 6$"
   ]
  },
  {
   "cell_type": "markdown",
   "metadata": {},
   "source": [
    "<div style=\"background-color:#abd9e9; border-radius: 5px; padding: 10pt\"><strong>Task 9.1:</strong> Edit and run following cell to calculate factorial of 6 manually. Then run the next cell, which tries to use a built-in function to calculate the factorial. What does this <code>NameError</code> mean? Create a new Markdown cell and describe, in words you understand, what has gone wrong here.\n",
    "<br/>\n",
    "<!--When you've done this, or if you get stuck, see the video <a href='https://youtu.be/eeqdF6EJNQ8'>here</a> for a walkthrough.--></div>"
   ]
  },
  {
   "cell_type": "code",
   "execution_count": null,
   "metadata": {},
   "outputs": [],
   "source": [
    "# Manually calculate the factorial of 6 below:\n",
    "factorial_of_6 = ____\n",
    "\n",
    "print(f\"Factorial of 6 is {factorial_of_6}\")"
   ]
  },
  {
   "cell_type": "code",
   "execution_count": null,
   "metadata": {},
   "outputs": [],
   "source": [
    "# Let's assume there is a built-in factorial function. There should be one, right?\n",
    "factorial_using_builtin = factorial(6)\n",
    "print(f\"Factorial of 6 is {factorial_using_builtin}\")"
   ]
  },
  {
   "cell_type": "markdown",
   "metadata": {},
   "source": [
    "So Python has no built-in `factorial` function. However, there is a `factorial` function in `math`, which also covers many other simple mathematical operations. We will now _load_ the `math` module into our notebook environment.\n",
    "\n",
    "To load a module we use command `import <module name>`, e.g. `import math`. Once the module is imported new functions and variables will be available just like built-in functions and variables. Note that you only need to import a module once per notebook.\n",
    "\n",
    "To call a function from the imported module we use the syntax `<module name>.<function name>`, e.g. `math.factorial()`"
   ]
  },
  {
   "cell_type": "markdown",
   "metadata": {},
   "source": [
    "<div style=\"background-color:#abd9e9; border-radius: 5px; padding: 10pt\"><strong>Task 9.2:</strong> Run the following cell to import the <code>math</code> module and calculate factorial of 6. Fill in the blanks (`____`) and execute the code in the subsequent two cells to see more examples of the <code>math</code> module.\n",
    "<br/>\n",
    "<!--When you've done this, or if you get stuck, see the video <a href='https://youtu.be/80tzs58Hc4s'>here</a> for a walkthrough.--></div>"
   ]
  },
  {
   "cell_type": "code",
   "execution_count": null,
   "metadata": {},
   "outputs": [],
   "source": [
    "import math\n",
    "\n",
    "factorial_using_builtin = math.factorial(6)\n",
    "print(f\"Factorial of 6 is {factorial_using_builtin}\")"
   ]
  },
  {
   "cell_type": "code",
   "execution_count": null,
   "metadata": {},
   "outputs": [],
   "source": [
    "pi_val = ____.pi\n",
    "print(f\"Value of Pi with 6 digits accuracy is {pi_val:.6f}\""
   ]
  },
  {
   "cell_type": "code",
   "execution_count": null,
   "metadata": {},
   "outputs": [],
   "source": [
    "sin_of_pi = ____.____(____.____)\n",
    "print(f\"Sinus of Pi (180 degrees) with 2 digits accuracy is {sin_of_pi:____f}\")"
   ]
  },
  {
   "cell_type": "markdown",
   "metadata": {},
   "source": [
    "<div style=\"background-color:#abd9e9; border-radius: 5px; padding: 10pt\"><strong>Task 9.3:</strong> Run the following cell to see high level information about the <code>math</code> module and a list of available functions.\n",
    "<br/>\n",
    "When you've done this, or if you get stuck, see the video <a href='https://youtu.be/eiIMqMb26lc'>here</a> for a walkthrough.</div>"
   ]
  },
  {
   "cell_type": "code",
   "execution_count": null,
   "metadata": {},
   "outputs": [],
   "source": [
    "help(math)"
   ]
  },
  {
   "cell_type": "markdown",
   "metadata": {},
   "source": [
    "<div style=\"background-color:#fdae61; border-radius: 5px; padding: 10pt\"><strong>Exercise 9.4:</strong> Now you know the list of functions available in the <code>math</code> module, create a new code cell and calculate the square root of 42 using a <code>math</code> function.\n",
    "<br/>\n",
    "When you've done this, or if you get stuck, see the video <a href='https://youtu.be/1IIwEjToeiw'>here</a> for a walkthrough.</div>"
   ]
  },
  {
   "cell_type": "markdown",
   "metadata": {},
   "source": [
    "## Different Ways to Import\n",
    "\n",
    "### Importing Functions Directly\n",
    "\n",
    "In some cases you might need to use one specific function multiple times. But importing the whole module (like above) requires you to use the `<module name>.<function name>` syntax to access functions within that module. To make it simpler we can import one or more specific functions directly into our 'namespace'.\n",
    "\n",
    "To do that you can use the `from <module name> import <function name>` syntax, e.g.:\n",
    "\n",
    "```python\n",
    "from math import log\n",
    "```"
   ]
  },
  {
   "cell_type": "markdown",
   "metadata": {},
   "source": [
    "<div style=\"background-color:#abd9e9; border-radius: 5px; padding: 10pt\"><strong>Task 9.5:</strong> Run the following cell. Is the logarithm function avaliable in pure python? Add a line at the top of the cell to load the logarithm function from the <code>math</code> module and re-run the cell.\n",
    "<br/>\n",
    "<!--When you've done this, or if you get stuck, see the video <a href='https://youtu.be/MrxXjuE0X6s'>here</a> for a walkthrough.--></div>"
   ]
  },
  {
   "cell_type": "code",
   "execution_count": null,
   "metadata": {},
   "outputs": [],
   "source": [
    "# Using logarithm function math.log()\n",
    "log10_10 = math.log(10, 10)\n",
    "print(f\"Logarithm of 10 with base 10 is {log10_10}\")\n",
    "\n",
    "# Using logarithm function log()\n",
    "log8_2 = log(8, 2)\n",
    "print(f\"Logarithm of 8 with base 2 is {log8_2}\")\n",
    "print(\"Well done!\")"
   ]
  },
  {
   "cell_type": "markdown",
   "metadata": {},
   "source": [
    "### Importing with Aliases\n",
    "\n",
    "When we import libraries it is possible to shorten the library name to make coding easier. For instance, the module `datetime` ([details here](https://docs.python.org/3/library/datetime.html)) provides us with essential functionality for dealing with dates and time but its name is unnecessarily long.\n",
    "\n",
    "You can use the syntax `import <module name> as <module alias>` to make your own short name for an imported module."
   ]
  },
  {
   "cell_type": "markdown",
   "metadata": {},
   "source": [
    "<div style=\"background-color:#abd9e9; border-radius: 5px; padding: 10pt\"><strong>Task 9.6:</strong> Run the following cell to see an example of importing the <code>datetime</code> module using an alias. You will notice that module <code>datetime</code> contains a submodule of the same name - an unfortunate complication.\n",
    "<br/>\n",
    "When you've done this, or if you get stuck, see the video <a href='https://youtu.be/PToi3HohJlk'>here</a> for a walkthrough.</div>"
   ]
  },
  {
   "cell_type": "code",
   "execution_count": null,
   "metadata": {},
   "outputs": [],
   "source": [
    "import datetime as dt\n",
    "\n",
    "current_time = dt.datetime.now()\n",
    "print(f\"Current time is {current_time}\")"
   ]
  },
  {
   "cell_type": "markdown",
   "metadata": {},
   "source": [
    "<div style=\"background-color:#fdae61; border-radius: 5px; padding: 10pt\"><strong>Exercise 9.7:</strong> Run the following cell to import another useful library <code>os</code>. In this case the module name is very short, but for clarity you can give it a more descriptive alias.\n",
    "<br/>\n",
    "When you've done this, or if you get stuck, see the video <a href='https://youtu.be/bKPGqItaNjk'>here</a> for a walkthrough.</div>"
   ]
  },
  {
   "cell_type": "code",
   "execution_count": null,
   "metadata": {},
   "outputs": [],
   "source": [
    "import os as system_library\n",
    "\n",
    "work_dir = system_library.getcwd()\n",
    "print(f\"My working directory is {work_dir}\")"
   ]
  },
  {
   "cell_type": "markdown",
   "metadata": {},
   "source": [
    "## Key Points\n",
    "\n",
    "* Modules hold functions for many operations you may want to do\n",
    "* It's easier to import a module than write your own function from scratch\n",
    "* You can import specific functions or a whole module at a time\n",
    "* You can use an alias when importing to make your code easier to understand\n",
    "* Details for modules can be found in their documentation"
   ]
  },
  {
   "cell_type": "markdown",
   "metadata": {},
   "source": [
    "## Any Bugs/Issues/Comments?\n",
    "\n",
    "If you've found a bug or have any comments about this notebook, please fill out this on-line form: https://forms.gle/tp2veeF8e7fbQMvY6.\n",
    "\n",
    "Any feedback we get we will try to correct/implement as soon as possible."
   ]
  }
 ],
 "metadata": {
  "kernelspec": {
   "display_name": "Python 3.9.7 ('python-zero-to-hero-beginners-course-cRi908hw')",
   "language": "python",
   "name": "python3"
  },
  "language_info": {
   "codemirror_mode": {
    "name": "ipython",
    "version": 3
   },
   "file_extension": ".py",
   "mimetype": "text/x-python",
   "name": "python",
   "nbconvert_exporter": "python",
   "pygments_lexer": "ipython3",
   "version": "3.9.7"
  },
  "vscode": {
   "interpreter": {
    "hash": "d769866b6f821afb3302734fef8b56cb7dc86bcc8e4d86f160ade10a565e9457"
   }
  },
  "widgets": {
   "application/vnd.jupyter.widget-state+json": {
    "state": {},
    "version_major": 2,
    "version_minor": 0
   }
  }
 },
 "nbformat": 4,
 "nbformat_minor": 4
}
