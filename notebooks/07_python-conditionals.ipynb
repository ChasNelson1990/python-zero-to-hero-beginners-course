{
 "cells": [
  {
   "cell_type": "markdown",
   "metadata": {
    "slideshow": {
     "slide_type": "slide"
    }
   },
   "source": [
    "# `if` Statements in Python\n",
    "\n",
    "*Dr Chas Nelson and Mikolaj Kundegorski*\n",
    "\n",
    "*Part of https://github.com/ChasNelson1990/python-zero-to-hero-beginners-course*"
   ]
  },
  {
   "cell_type": "markdown",
   "metadata": {
    "slideshow": {
     "slide_type": "slide"
    }
   },
   "source": [
    "## Objectives\n",
    "\n",
    "* Understand that conditionals are used to make programs choose between multiple options\n",
    "* Know what a Boolean expression is\n",
    "* Be able to follow a simple piece of code with `if`, `elif` and `else` statements\n",
    "* Complete a simple `for` loop that contains a simple `if` statement"
   ]
  },
  {
   "cell_type": "markdown",
   "metadata": {
    "slideshow": {
     "slide_type": "slide"
    }
   },
   "source": [
    "## Conditionals and `if` statements\n",
    "\n",
    "In programming a 'conditional' gives code the ability to make a choice - usually a yes/no choice.\n",
    "\n",
    "The most common conditional is the `if` statement, which takes the following form:\n",
    "\n",
    "```python\n",
    "if <BooleanExpression>:\n",
    "    print('Do something in this special situation.')\n",
    "```\n",
    "\n",
    "Like a `for` loop, there are two special features of `if` statements:\n",
    "\n",
    "1. `if` statements must end in a colon, this signals the start of the code you want to run in that situation.\n",
    "2. The body of an `if` statement (called a branch) must be indented,. Thankfully, Jupyter should autoindent lines following a colon for you."
   ]
  },
  {
   "cell_type": "code",
   "execution_count": null,
   "metadata": {
    "slideshow": {
     "slide_type": "fragment"
    }
   },
   "outputs": [],
   "source": []
  },
  {
   "cell_type": "markdown",
   "metadata": {
    "slideshow": {
     "slide_type": "slide"
    }
   },
   "source": [
    "### Boolean expressions\n",
    "\n",
    "But what about our `<BooleanExpression>` (above).\n",
    "\n",
    "A Boolean expression is any expression that can be evaluated as true or false, e.g.\n",
    "\n",
    "* $1=1$ is true\n",
    "* $1=2$ is false\n",
    "* $1<2$ is true\n",
    "* $4\\ge5$ is false"
   ]
  },
  {
   "cell_type": "code",
   "execution_count": 15,
   "metadata": {},
   "outputs": [
    {
     "data": {
      "text/plain": [
       "True"
      ]
     },
     "execution_count": 15,
     "metadata": {},
     "output_type": "execute_result"
    }
   ],
   "source": [
    "(my_var < 2) or (my_var > 1) and True"
   ]
  },
  {
   "cell_type": "code",
   "execution_count": 1,
   "metadata": {
    "slideshow": {
     "slide_type": "slide"
    }
   },
   "outputs": [],
   "source": [
    "my_var = 1"
   ]
  },
  {
   "cell_type": "code",
   "execution_count": null,
   "metadata": {},
   "outputs": [],
   "source": []
  },
  {
   "cell_type": "markdown",
   "metadata": {
    "slideshow": {
     "slide_type": "slide"
    }
   },
   "source": [
    "<div style=\"border: 3px solid #1b9e77; border-radius: 5px; padding: 10pt\"><strong>Task 7.1:</strong> Run the following cells to see different examples of boolean expressions.\n",
    "<br/>\n",
    "When you've done this, or if you get stuck, see the video <a href='https://youtu.be/Au420nePsJ0'>here</a> for a walkthrough.</div>"
   ]
  },
  {
   "cell_type": "code",
   "execution_count": 18,
   "metadata": {
    "slideshow": {
     "slide_type": "fragment"
    }
   },
   "outputs": [
    {
     "data": {
      "text/plain": [
       "False"
      ]
     },
     "execution_count": 18,
     "metadata": {},
     "output_type": "execute_result"
    }
   ],
   "source": [
    "True and False"
   ]
  },
  {
   "cell_type": "code",
   "execution_count": 23,
   "metadata": {},
   "outputs": [
    {
     "name": "stdout",
     "output_type": "stream",
     "text": [
      "hello\n"
     ]
    }
   ],
   "source": [
    "if my_var >= 1:\n",
    "    print(\"hello\")"
   ]
  },
  {
   "cell_type": "markdown",
   "metadata": {
    "slideshow": {
     "slide_type": "fragment"
    }
   },
   "source": [
    "Note that in Python, if we want to see if two numbers are equal we use a double equals: `1==1`.\n",
    "\n",
    "Like `None` (see Built-in Functions, Help and Documentation, above), `True` and `False` are special Python values."
   ]
  },
  {
   "cell_type": "markdown",
   "metadata": {
    "slideshow": {
     "slide_type": "slide"
    }
   },
   "source": [
    "<div style=\"border: 3px solid #1b9e77; border-radius: 5px; padding: 10pt\"><strong>Task 7.2:</strong> Run the following cell to see a simple example of a Boolean expression. In the same cell, write an <code>if</code> statement that only prints a message if <code>my_variable</code> equals one.\n",
    "<br/>\n",
    "When you've done this, or if you get stuck, see the video <a href='https://youtu.be/loaDJy1E1Lo'>here</a> for a walkthrough.</div>"
   ]
  },
  {
   "cell_type": "code",
   "execution_count": 24,
   "metadata": {
    "slideshow": {
     "slide_type": "fragment"
    }
   },
   "outputs": [
    {
     "name": "stdout",
     "output_type": "stream",
     "text": [
      "An example of a False Boolean expression:\n",
      "False\n",
      "An example of a True Boolean expression:\n",
      "True\n"
     ]
    }
   ],
   "source": [
    "my_variable = 1\n",
    "# here we assign a value of 1 to our variable\n",
    "\n",
    "print(\"An example of a False Boolean expression:\")\n",
    "print(my_variable == 10)  # our variable does not equal 10, i.e. this statement is False\n",
    "\n",
    "print(\"An example of a True Boolean expression:\")\n",
    "print(my_variable == 1)  # our variable does equal 1, i.e. this statement is True"
   ]
  },
  {
   "cell_type": "code",
   "execution_count": 26,
   "metadata": {},
   "outputs": [],
   "source": [
    "if my_variable == 2:\n",
    "    print(\"Success!\")"
   ]
  },
  {
   "cell_type": "markdown",
   "metadata": {
    "slideshow": {
     "slide_type": "skip"
    }
   },
   "source": [
    "<div style=\"border: 3px solid #d95f02; border-radius: 5px; padding: 10pt\"><strong>Exercise 7.3:</strong> Fill in the gaps, so that the following expressions evaluate to <code>True</code>. What could you do to make these easier to understand?\n",
    "<br/>\n",
    "When you've done this, or if you get stuck, see the video <a href='https://youtu.be/ARKEkL4q3gE'>here</a> for a walkthrough.\n",
    "</div>"
   ]
  },
  {
   "cell_type": "code",
   "execution_count": null,
   "metadata": {
    "slideshow": {
     "slide_type": "skip"
    }
   },
   "outputs": [],
   "source": [
    "3 == 4 or True and ____"
   ]
  },
  {
   "cell_type": "code",
   "execution_count": null,
   "metadata": {
    "slideshow": {
     "slide_type": "skip"
    }
   },
   "outputs": [],
   "source": [
    "a = 13\n",
    "b = 7\n",
    "a > 2 * b or (b == ____ and not ____)"
   ]
  },
  {
   "cell_type": "code",
   "execution_count": null,
   "metadata": {
    "slideshow": {
     "slide_type": "skip"
    }
   },
   "outputs": [],
   "source": [
    "\"2.45\" == f\"{2.4467:____}\""
   ]
  },
  {
   "cell_type": "markdown",
   "metadata": {
    "slideshow": {
     "slide_type": "slide"
    }
   },
   "source": [
    "## `if`, `elif` and `else`\n",
    "\n",
    "So an `if` statement allows us to run some code in only a specific situation (a branch), but what if we have more than one situation (multiple branches)? Or want to have some default code that's run in all situations where the `if` branch is not taken.\n",
    "\n",
    "Python has two additional statements for these cases:\n",
    "\n",
    "* `elif`, short for 'else if', allows us to use multiple conditions and create several branches of code.\n",
    "* `else`, allows us to set an alternative code that it run only if no branches are taken.\n",
    "\n",
    "Note that all conditionals are run in order."
   ]
  },
  {
   "cell_type": "markdown",
   "metadata": {
    "slideshow": {
     "slide_type": "slide"
    }
   },
   "source": [
    "<div style=\"border: 3px solid #1b9e77; border-radius: 5px; padding: 10pt\"><strong>Task 7.4:</strong> Read the following cell. What do you expect the output to be? Run the cell to confirm this. Now change the value of <code>my_variable</code> so that a different branch is taken. Re-run the cell and repeat for the third branch.\n",
    "<br/>\n",
    "When you've done this, or if you get stuck, see the video <a href='https://youtu.be/7ncn_MV7yyQ'>here</a> for a walkthrough.</div>"
   ]
  },
  {
   "cell_type": "code",
   "execution_count": 32,
   "metadata": {
    "slideshow": {
     "slide_type": "fragment"
    }
   },
   "outputs": [
    {
     "name": "stdout",
     "output_type": "stream",
     "text": [
      "my_variable is larger than one\n",
      "The end\n"
     ]
    }
   ],
   "source": [
    "my_variable = 2\n",
    "\n",
    "if my_variable > 1:\n",
    "    print(\"my_variable is larger than one\")\n",
    "elif my_variable == 2:\n",
    "    print(\"my_variable is equal to two\")\n",
    "else:\n",
    "    print(\"my_variable equals anything else\")\n",
    "print('The end')"
   ]
  },
  {
   "cell_type": "markdown",
   "metadata": {
    "slideshow": {
     "slide_type": "skip"
    }
   },
   "source": [
    "<div style=\"border: 3px solid #d95f02; border-radius: 5px; padding: 10pt\"><strong>Exercise 7.5:</strong> The following algorithm is design to check whether or not conditions are safe for flying your drone. Fill in the gaps.\n",
    "<br/>\n",
    "When you've done this, or if you get stuck, see the video <a href='https://youtu.be/0MHau3_xIgs'>here</a> for a walkthrough.</div>"
   ]
  },
  {
   "cell_type": "code",
   "execution_count": null,
   "metadata": {
    "slideshow": {
     "slide_type": "skip"
    }
   },
   "outputs": [],
   "source": [
    "rain = False\n",
    "bystanders = 0\n",
    "wind = 15  # km/h\n",
    "\n",
    "if rain == ____ or wind ____ 20:\n",
    "    print('You cannot fly a drone due to weather conditions (either rain of strong wind)!')\n",
    "elif bystanders ____ 0:\n",
    "    print('You are putting bystanders at risk, you cannot fly your drone!')\n",
    "else:\n",
    "    print('Go wild!')"
   ]
  },
  {
   "cell_type": "markdown",
   "metadata": {
    "slideshow": {
     "slide_type": "slide"
    }
   },
   "source": [
    "## Combining conditionals and loops\n",
    "\n",
    "More often than not an `if` conditional is most useful inside a `for` loop - the `for` loop can run through a series of values and the `if` conditional can choose what to do with that value."
   ]
  },
  {
   "cell_type": "code",
   "execution_count": 35,
   "metadata": {
    "slideshow": {
     "slide_type": "fragment"
    }
   },
   "outputs": [
    {
     "name": "stdout",
     "output_type": "stream",
     "text": [
      "Warning: Program did not use this plate as it had only 9 colonies, which is too low.\n",
      "Warning: Program did not use this plate as it had only 2 colonies, which is too low.\n",
      "Warning: Program did not use this plate as it had only 7 colonies, which is too low.\n",
      "Warning: Program did not use this plate as it had only 10 colonies, which is too low.\n",
      "Warning: Program did not use this plate as it had only 4 colonies, which is too low.\n",
      "Warning: Program did not use this plate as it had only 1 colonies, which is too low.\n",
      "Warning: Program did not use this plate as it had only 6 colonies, which is too low.\n",
      "The total number of valid colonies is 89\n"
     ]
    }
   ],
   "source": [
    "wellplate_counts = [12, 9, 13, 19, 2, 16, 7, 10, 4, 1, 6, 18, 11]\n",
    "total_valid_counts = 0\n",
    "\n",
    "for number_of_colonies in wellplate_counts:\n",
    "    if number_of_colonies > 10:\n",
    "        total_valid_counts = total_valid_counts + number_of_colonies\n",
    "    else:\n",
    "        print(f\"Warning: Program did not use this plate as it had only {number_of_colonies} colonies, which is too low.\")\n",
    "\n",
    "print(f\"The total number of valid colonies is {total_valid_counts}\")"
   ]
  },
  {
   "cell_type": "markdown",
   "metadata": {
    "slideshow": {
     "slide_type": "slide"
    }
   },
   "source": [
    "## Key Points\n",
    "\n",
    "* Conditionals enable your Python codes to choose between options\n",
    "* An `if` statement uses a Boolean conditional to decide whether or not to execute some code (a branch)\n",
    "* `if` statements must have a colon and everything after the colon should be indented\n",
    "* There can be many lines of code inside an `if` statement (a branch).\n",
    "* `elif` statements can be used to include additional branches of code\n",
    "* `else` statements can be used to run a branch of code when no `if` or `elif` statements are run\n",
    "* Conditionals are tested in order."
   ]
  },
  {
   "cell_type": "markdown",
   "metadata": {
    "slideshow": {
     "slide_type": "skip"
    }
   },
   "source": [
    "<div style=\"border: 3px solid #7570b3; border-radius: 5px; padding: 10pt\"><strong>Challenge 7.7:</strong> Fill in the gaps, so that the following expressions evaluate to <code>True</code>. What could you do to make these easier to understand?</div>"
   ]
  },
  {
   "cell_type": "code",
   "execution_count": null,
   "metadata": {
    "slideshow": {
     "slide_type": "skip"
    }
   },
   "outputs": [],
   "source": [
    "43 < 5 and not True or not (____ and True)"
   ]
  },
  {
   "cell_type": "code",
   "execution_count": null,
   "metadata": {
    "slideshow": {
     "slide_type": "skip"
    }
   },
   "outputs": [],
   "source": [
    "True and \"Lion\"[1] == \"____\"[1]"
   ]
  },
  {
   "cell_type": "markdown",
   "metadata": {
    "slideshow": {
     "slide_type": "skip"
    }
   },
   "source": [
    "## Any Bugs/Issues/Comments?\n",
    "\n",
    "If you've found a bug or have any comments about this notebook, please fill out this on-line form: https://forms.gle/tp2veeF8e7fbQMvY6.\n",
    "\n",
    "Any feedback we get we will try to correct/implement as soon as possible."
   ]
  }
 ],
 "metadata": {
  "celltoolbar": "Slideshow",
  "kernelspec": {
   "display_name": "Python 3 (ipykernel)",
   "language": "python",
   "name": "python3"
  },
  "language_info": {
   "codemirror_mode": {
    "name": "ipython",
    "version": 3
   },
   "file_extension": ".py",
   "mimetype": "text/x-python",
   "name": "python",
   "nbconvert_exporter": "python",
   "pygments_lexer": "ipython3",
   "version": "3.9.16"
  },
  "vscode": {
   "interpreter": {
    "hash": "d769866b6f821afb3302734fef8b56cb7dc86bcc8e4d86f160ade10a565e9457"
   }
  },
  "widgets": {
   "application/vnd.jupyter.widget-state+json": {
    "state": {},
    "version_major": 2,
    "version_minor": 0
   }
  }
 },
 "nbformat": 4,
 "nbformat_minor": 4
}
