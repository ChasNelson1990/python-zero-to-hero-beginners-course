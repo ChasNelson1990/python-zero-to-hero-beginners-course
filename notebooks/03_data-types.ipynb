{
 "cells": [
  {
   "cell_type": "markdown",
   "metadata": {},
   "source": [
    "# Data Types in Python\n",
    "\n",
    "*Dr Chas Nelson and Mikolaj Kundegorski*\n",
    "\n",
    "*Part of https://github.com/ChasNelson1990/python-zero-to-hero-beginners-course*"
   ]
  },
  {
   "cell_type": "markdown",
   "metadata": {},
   "source": [
    "## Objectives\n",
    "\n",
    "* Understand that variables can hold any information - but needs to know the 'type'\n",
    "* Know the most commonly used built-in Python data types\n",
    "* Explain the differences between `int` and `float` variables\n",
    "* Convert between data types"
   ]
  },
  {
   "cell_type": "markdown",
   "metadata": {},
   "source": [
    "## Data Types\n",
    "\n",
    "So far we've said that variables store information or data. But Python needs to know what 'type' of data a variable is in order to understand that data.\n",
    "\n",
    "For example, Python (and hopefully you) thinks that it's perfectly okay to multiply two numbers together but not two words!\n",
    "\n",
    "Python has a large number of types but for now we will consider only three:\n",
    "\n",
    "* `int` or integers (whole numbers)\n",
    "* `float` or floats (numbers with decimal information)\n",
    "* `str` or character strings, i.e. text\n",
    "  * Note that strings are always delimited by `'` or `\"`\n",
    "\n",
    "Python also has a built-in function that will tell you what type some data is."
   ]
  },
  {
   "cell_type": "markdown",
   "metadata": {},
   "source": [
    "<div style=\"background-color:#abd9e9; border-radius: 5px; padding: 10pt\"><strong>Task 3.1:</strong> Read the next cell and predict what the five outputs will be - then run the cell.\n",
    "<br/>\n",
    "When you've done this, or if you get stuck, see the video <a href='https://youtu.be/ajgHILv0p-4'>here</a> for a walkthrough.</div>"
   ]
  },
  {
   "cell_type": "code",
   "execution_count": null,
   "metadata": {},
   "outputs": [],
   "source": [
    "print(type(52))\n",
    "\n",
    "print(type(\"52\"))\n",
    "\n",
    "print(type(52.0))\n",
    "\n",
    "print(type(52.0))\n",
    "\n",
    "myVariable = 52\n",
    "\n",
    "print(type(myVariable))"
   ]
  },
  {
   "cell_type": "markdown",
   "metadata": {},
   "source": [
    "<div style=\"background-color:#fdae61; border-radius: 5px; padding: 10pt\"><strong>Exercise 3.2:</strong> What type of values might you use for the following:\n",
    "<ul>\n",
    "    <li>Number of days till International Talk Like a Pirate Day?</li>\n",
    "    <li>Time since the start of an experiment (what unit might you use?)?</li>\n",
    "    <li>Unique identifier for an animal?</li>\n",
    "    <li>The name of a data file?</li>\n",
    "</ul>\n",
    "When you've done this, or if you get stuck, see the video <a href='https://youtu.be/zzV6VRF3g-4'>here</a> for a walkthrough.</div>"
   ]
  },
  {
   "cell_type": "markdown",
   "metadata": {},
   "source": [
    "## Operations and Types\n",
    "\n",
    "All operators, methods and functions will only work on specific data types. Or, perhaps more confusingly, will act differently on different data types."
   ]
  },
  {
   "cell_type": "markdown",
   "metadata": {},
   "source": [
    "<div style=\"background-color:#abd9e9; border-radius: 5px; padding: 10pt\"><strong>Task 3.3:</strong> Create a new code cell below this one for each of the following:\n",
    "    <ol>\n",
    "        <li>add (using <code>+</code>) an <code>int</code> with a different <code>int</code></li>\n",
    "        <li>add an <code>int</code> with a <code>float</code></li>\n",
    "        <li>add a <code>str</code> with a different <code>str</code></li>\n",
    "        <li>add a <code>str</code> with an <code>int</code></li>\n",
    "    </ol>\n",
    "When you've done this, or if you get stuck, see the video <a href='https://youtu.be/_s6seW4vpuE'>here</a> for a walkthrough.</div>"
   ]
  },
  {
   "cell_type": "markdown",
   "metadata": {},
   "source": [
    "### Mixing `int` and `float`\n",
    "\n",
    "In some scenarios it makes sense to mix `float` and `int` data in our calculations.\n",
    "\n",
    "For example, if dinner costs £141.24 (a `float`) and we want to split the bill amongst 6 people (an `int`) Python can do that. In the background it sees that we're mixing `float` and `int` variables and converts everything to `float`."
   ]
  },
  {
   "cell_type": "markdown",
   "metadata": {},
   "source": [
    "<div style=\"background-color:#abd9e9; border-radius: 5px; padding: 10pt\"><strong>Task 3.4:</strong> Complete the next cell to work out the cost of dinner per person. What type is the output of your calculation?\n",
    "<br/>\n",
    "When you've done this, or if you get stuck, see the video <a href='https://youtu.be/QqSlrCmP3eg'>here</a> for a walkthrough.</div>"
   ]
  },
  {
   "cell_type": "code",
   "execution_count": null,
   "metadata": {},
   "outputs": [],
   "source": [
    "totalCost = 141.24\n",
    "\n",
    "numberOfPeople = 6\n",
    "\n",
    "costPerPerson = ____\n",
    "\n",
    "print(costPerPerson)"
   ]
  },
  {
   "cell_type": "markdown",
   "metadata": {},
   "source": [
    "<div style=\"background-color:#fdae61; border-radius: 5px; padding: 10pt\"><strong>Exercise 3.5:</strong> Python allows two types of division: <code>/</code> and <code>//</code>. Create a new code cell below and try both types. Create a new Markdown cell and describe the difference between the two types of division.\n",
    "<br/>\n",
    "When you've done this, or if you get stuck, see the video <a href='https://youtu.be/d0Hj4-p_CPM'>here</a> for a walkthrough.</div>"
   ]
  },
  {
   "cell_type": "markdown",
   "metadata": {},
   "source": [
    "## Methods/Functions and Types\n",
    "\n",
    "And what about methods, like `.format()`, or functions, like `len()`?"
   ]
  },
  {
   "cell_type": "markdown",
   "metadata": {},
   "source": [
    "<div style=\"background-color:#abd9e9; border-radius: 5px; padding: 10pt\"><strong>Task 3.6:</strong> Create a new code cell below this one for each of the following tasks:\n",
    "    <ol>\n",
    "        <li>Run <code>.format()</code> on a variable that holds an integer (don't forget to use <code>print()</code> as well)</li>\n",
    "        <li>Print the length (<code>len()</code>) of a variable that holds a float</li>\n",
    "    </ol>\n",
    "What do the <code>AttributeError</code> and <code>TypeError</code> mean? Create a new Markdown cell and describe, in words you understand, what has gone wrong here.\n",
    "<br/>\n",
    "When you've done this, or if you get stuck, see the video <a href='https://youtu.be/mrtTnlJ3Prs'>here</a> for a walkthrough.</div>"
   ]
  },
  {
   "cell_type": "markdown",
   "metadata": {},
   "source": [
    "## `.format()` and Types\n",
    "\n",
    "We've shown in the above exercises that the `.format()` methods works on `str`s and not on `int`s (nor `float`s).\n",
    "\n",
    "So, how do we do pretty printing of our number data?\n",
    "\n",
    "As a reminder, in the previous notebook we defined four variables: `age`, `first_name`, `last_name` and `shoe_size` and we printed them with some formatting."
   ]
  },
  {
   "cell_type": "markdown",
   "metadata": {},
   "source": [
    "<div style=\"background-color:#abd9e9; border-radius: 5px; padding: 10pt\"><strong>Task 3.7:</strong> Run the following code cell. The variables are not shared between different notebooks so you need to initialise them again.\n",
    "<br/>\n",
    "When you've done this, or if you get stuck, see the video <a href='https://youtu.be/HrL71GHOEa4'>here</a> for a walkthrough.</div>"
   ]
  },
  {
   "cell_type": "code",
   "execution_count": null,
   "metadata": {},
   "outputs": [],
   "source": [
    "age =\n",
    "first_name =\n",
    "last_name =\n",
    "shoe_size =\n",
    "print('{0} {1} is {2} years old.'.format(first_name, last_name, age))"
   ]
  },
  {
   "cell_type": "markdown",
   "metadata": {},
   "source": [
    "In this scenario, Python has guessed that `first_name` and `last_name` are `str` and that `age` is an `int`.\n",
    "\n",
    "But what if age was a float?\n",
    "\n",
    "And what if we wanted to print the integer number of years from that float?"
   ]
  },
  {
   "cell_type": "markdown",
   "metadata": {},
   "source": [
    "<div style=\"background-color:#abd9e9; border-radius: 5px; padding: 10pt\"><strong>Task 3.8:</strong> In the following cell, assign a new float value to <code>age</code> that is your exact age (or there abouts - use at least 5 decimal places). Then run the cell, what is the output when this new age is printed?\n",
    "<br/>\n",
    "When you've done this, or if you get stuck, see the video <a href='https://youtu.be/RZtaCoCkIRQ'>here</a> for a walkthrough.</div>"
   ]
  },
  {
   "cell_type": "code",
   "execution_count": null,
   "metadata": {},
   "outputs": [],
   "source": [
    "age =\n",
    "\n",
    "print('{0} {1} is {2} years old.'.format(first_name, last_name, age))"
   ]
  },
  {
   "cell_type": "markdown",
   "metadata": {},
   "source": [
    "As you can see, Python now interprets `age` as a `float`, which it is.\n",
    "\n",
    "In order to print just the integer number of years we can take two approaches:\n",
    "\n",
    "1. We can modify our data and round age to the nearest whole number and there are a few ways to do that in Python *but* this changes our data and we just want to print it in a formatted way.\n",
    "2. We can modify the string that `.format()` acts upon. And this is what we'll do.\n",
    "\n",
    "When we first learnt `.format()` we learnt that `{0}` means 'put the first variable here' and `{2}` means 'put the third variable here' and that the variables are given inside the parentheses.\n",
    "\n",
    "Inside the braces (`{` and `}`) we can put extra information that tells Python what data type we're passing and how we want Python to treat it.\n",
    "\n",
    "The syntax for providing additional formatting information is to follow the variable number with a colon (`:`) and the formatting specifiers. To tell Python that this variable is a `float` we use `f` and to tell it that we want zero decimal places we use `.0`. Note that type (here `f`) always comes at the end.\n",
    "\n",
    "Altogether `{2}` becomes `{2:.0f}`."
   ]
  },
  {
   "cell_type": "markdown",
   "metadata": {},
   "source": [
    "<div style=\"background-color:#abd9e9; border-radius: 5px; padding: 10pt\"><strong>Task 3.9:</strong> Run the next cell. Change the number after the decimal to print your age to two decimal places - don't forget to rerun the cell.\n",
    "<br/>\n",
    "When you've done this, or if you get stuck, see the video <a href='https://youtu.be/Aib31-o8o-0'>here</a> for a walkthrough.</div>"
   ]
  },
  {
   "cell_type": "code",
   "execution_count": null,
   "metadata": {},
   "outputs": [],
   "source": [
    "print(\"{0} {1} is {2:.0f} years old.\".format(first_name, last_name, age))"
   ]
  },
  {
   "cell_type": "markdown",
   "metadata": {},
   "source": [
    "Now, you might like to add more decimal places to the displayed age. To do that write number of decimal places after dot: `2.1f` for one decimal, `2.2f` for two. \n",
    "You can also display `int` with decimal points if you choose to, by formatting them as floats!"
   ]
  },
  {
   "cell_type": "markdown",
   "metadata": {},
   "source": [
    "<div style=\"background-color:#abd9e9; border-radius: 5px; padding: 10pt\"><strong>Task 3.10:</strong> Modify the code below to display height with 1 mm accuracy.\n",
    "<br/>\n",
    "When you've done this, or if you get stuck, see the video <a href='https://youtu.be/Z4M_9Z3-rxw'>here</a> for a walkthrough.</div>"
   ]
  },
  {
   "cell_type": "code",
   "execution_count": null,
   "metadata": {},
   "outputs": [],
   "source": [
    "height = 181  # cm\n",
    "print(\"My height is precisely {0} cm\".format(height))"
   ]
  },
  {
   "cell_type": "markdown",
   "metadata": {},
   "source": [
    "Usually, you will be formatting floats to a given number of decimals places so we won't cover any other formatting options in this course."
   ]
  },
  {
   "cell_type": "markdown",
   "metadata": {},
   "source": [
    "<div style=\"background-color:#fdae61; border-radius: 5px; padding: 10pt\"><strong>Exercise 3.11:</strong> You can display an integer with <code>'My number is {0:d}'.format(7)</code> but you cannot use it to convert a floating point number, e.g. <code>'My number is {0:d}'.format(7.7)</code> .\n",
    "In a new cell try this code and then correct it to display the floating point number with no decimal places.\n",
    "<br/>\n",
    "When you've done this, or if you get stuck, see the video <a href='https://youtu.be/bHBQfbFmbBw'>here</a> for a walkthrough.</div>"
   ]
  },
  {
   "cell_type": "markdown",
   "metadata": {},
   "source": [
    "<div style=\"background-color:#fdae61; border-radius: 5px; padding: 10pt\"><strong>Exercise 3.12:</strong> Refer to <a href=https://docs.python.org/3/library/string.html>Python's documentation on strings</a>. Create a new cell below and display the variable <code>strange_value=0.34567</code> as a percentage with one decimal place using <code>.format()</code>\n",
    "<br/>\n",
    "When you've done this, or if you get stuck, see the video <a href='https://youtu.be/Vj_ExV9sKQ8'>here</a> for a walkthrough.</div>"
   ]
  },
  {
   "cell_type": "markdown",
   "metadata": {},
   "source": [
    "<div style=\"background-color:#fdae61; border-radius: 5px; padding: 10pt\"><strong>Exercise 3.13:</strong> Refer to <a href=https://docs.python.org/3/library/string.html>Python's documentation on strings</a>. Create a new cell below and display the variable <code>e = 2.7182818284</code> with four decimal places and a sign (i.e. $+2.7182$) using <code>.format()</code>\n",
    "<br/>\n",
    "When you've done this, or if you get stuck, see the video <a href='https://youtu.be/4_3FfjogO9M'>here</a> for a walkthrough.</div>"
   ]
  },
  {
   "cell_type": "markdown",
   "metadata": {},
   "source": [
    "## Key Points\n",
    "\n",
    "* Data has a type\n",
    "* The built-in Python function `type()` will tell you the type of some data\n",
    "* Types act differently under different operators, functions and methods\n",
    "* Some functions will not work on some types - the error messages should make this clear\n",
    "* The `str.format()` built-in method allows you to format data of specific types in specific ways"
   ]
  },
  {
   "cell_type": "markdown",
   "metadata": {},
   "source": [
    "## Any Bugs/Issues/Comments?\n",
    "\n",
    "If you've found a bug or have any comments about this notebook, please fill out this on-line form: https://forms.gle/tp2veeF8e7fbQMvY6.\n",
    "\n",
    "Any feedback we get we will try to correct/implement as soon as possible."
   ]
  }
 ],
 "metadata": {
  "kernelspec": {
   "display_name": "Python 3",
   "language": "python",
   "name": "python3"
  },
  "language_info": {
   "codemirror_mode": {
    "name": "ipython",
    "version": 3
   },
   "file_extension": ".py",
   "mimetype": "text/x-python",
   "name": "python",
   "nbconvert_exporter": "python",
   "pygments_lexer": "ipython3",
   "version": "3.9.7"
  },
  "widgets": {
   "application/vnd.jupyter.widget-state+json": {
    "state": {},
    "version_major": 2,
    "version_minor": 0
   }
  }
 },
 "nbformat": 4,
 "nbformat_minor": 4
}
