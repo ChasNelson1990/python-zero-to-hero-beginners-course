{
 "cells": [
  {
   "cell_type": "markdown",
   "metadata": {},
   "source": [
    "# Python Lists\n",
    "\n",
    "*Dr Chas Nelson and Mikolaj Kundegorski*\n",
    "\n",
    "*Part of https://github.com/ChasNelson1990/python-zero-to-hero-beginners-course*"
   ]
  },
  {
   "cell_type": "markdown",
   "metadata": {},
   "source": [
    "## Objectives\n",
    "\n",
    "* Understand the `list` data type in Python\n",
    "* Know how to access individual elements in lists (indexing)\n",
    "* Know how to access multiple elements in lists (slicing)\n",
    "* Know about the `.append()` and `.remove()` methods"
   ]
  },
  {
   "cell_type": "markdown",
   "metadata": {},
   "source": [
    "## The `list` data type\n",
    "\n",
    "As scientists, we usually work with many samples or measurements. Creating a new variable for each measurement would make our codes complex and cumbersome. With enough different variables we might as well do it all by hand.\n",
    "\n",
    "In Python there are several ways to storing lots of values in a single variable. We will cover three of these in the course: \n",
    "- Python lists, \n",
    "- NumPy arrays, \n",
    "- Pandas dataframes.\n",
    "\n",
    "The Python `list` is a data type (remember our other data types). Unlike, for example, `int`, the `list` data type is able to store many different values in one place.\n",
    "\n",
    "A `list` is 'contained' within square brackets (`[...]`) and each element within the list is separated by a comma (`,`)."
   ]
  },
  {
   "cell_type": "markdown",
   "metadata": {},
   "source": [
    "<div style=\"background-color:#abd9e9; border-radius: 5px; padding: 10pt\"><strong>Task 5.1:</strong> Look at the cell below to see an example of creating a list of numbers. Add a line to print the entire list and run the cell. How might we find out how many elements are in our list?\n",
    "<br/>\n",
    "When you've done this, or if you get stuck, see the video <a href='https://youtu.be/Im-ybtmQ8w0'>here</a> for a walkthrough.\n",
    "</div>"
   ]
  },
  {
   "cell_type": "code",
   "execution_count": null,
   "metadata": {},
   "outputs": [],
   "source": [
    "myVariable = [100, 2.5, 17.0, 9.5, 12.0]"
   ]
  },
  {
   "cell_type": "markdown",
   "metadata": {},
   "source": [
    "## Indexing (continued)\n",
    "\n",
    "We learnt earlier about indexing character strings. Strings and lists are similar in some ways and indexing is one of them."
   ]
  },
  {
   "cell_type": "markdown",
   "metadata": {},
   "source": [
    "<div style=\"background-color:#abd9e9; border-radius: 5px; padding: 10pt\"><strong>Task 5.2:</strong> Create a new code cell below this one. Remembering that variables persist between cells, print only the first element in <code>myVariable</code>. Edit your code to print the last variable in the list and run the cell again.\n",
    "<br/>\n",
    "When you've done this, or if you get stuck, see the video <a href='https://youtu.be/qAbNbnwyrNg'>here</a> for a walkthrough.\n",
    "</div>"
   ]
  },
  {
   "cell_type": "markdown",
   "metadata": {},
   "source": [
    "Once you know the index of an element, you can modify that element within the list.\n",
    "\n",
    "We've made a mistake when defining our list above - we've used floats for every element but the first."
   ]
  },
  {
   "cell_type": "markdown",
   "metadata": {},
   "source": [
    "<div style=\"background-color:#abd9e9; border-radius: 5px; padding: 10pt\"><strong>Task 5.3:</strong> Create a new code cell below this one. Remembering the <code>type()</code> built-in Python function, print the data type of the first and last elements.\n",
    "<br/>\n",
    "If you get stuck, see the video <a href='https://youtu.be/uCbWE3z4EfM'>here</a> for a walkthrough that includes the answer for the next task too.\n",
    "</div>"
   ]
  },
  {
   "cell_type": "markdown",
   "metadata": {},
   "source": [
    "This is important - lists can contain elements of different datatypes. In fact, lists can even contain other lists!\n",
    "\n",
    "Beware, this is not always true of other data structures."
   ]
  },
  {
   "cell_type": "markdown",
   "metadata": {},
   "source": [
    "<div style=\"background-color:#abd9e9; border-radius: 5px; padding: 10pt\"><strong>Task 5.4:</strong> Correct this mistake by replacing the first element of <code>myVariable</code> with the same number but as a float.\n",
    "<br/>\n",
    "When you've done this and the cell above, or if you get stuck, see the video <a href='https://youtu.be/uCbWE3z4EfM'>here</a> for a walkthrough.\n",
    "</div>"
   ]
  },
  {
   "cell_type": "markdown",
   "metadata": {},
   "source": [
    "## Slicing\n",
    "\n",
    "As well as accessing individual elements of a list, we can access a 'slice' of elements.\n",
    "\n",
    "List slicing requires a `start` index, a `stop`, index and a `step` size (which defaults to 1):\n",
    "```python\n",
    "myVariable = [100.0,2.5,17.0,9.5,12.0]\n",
    "slicedElements = myVariable[start:stop:step]\n",
    "```\n",
    "\n",
    "**Important** Remember that Python starts indexing at `0` and that the last element can also be accessed as `-1`. So accessing every other element of the whole list would be:\n",
    "```python\n",
    "myVariable = [100.0,2.5,17.0,9.5,12.0]\n",
    "slicedElements = myVariable[0:-1:2]\n",
    "```"
   ]
  },
  {
   "cell_type": "markdown",
   "metadata": {},
   "source": [
    "<div style=\"background-color:#abd9e9; border-radius: 5px; padding: 10pt\"><strong>Task 5.5:</strong> Create a new code cell below. In it, slice <code>myVariable</code> to access the third, fourth and fifth elements and store them as a new variable. Print that variable.\n",
    "<br/>\n",
    "When you've done this, or if you get stuck, see the video <a href='https://youtu.be/v92RAPgBISY'>here</a> for a walkthrough.\n",
    "</div>"
   ]
  },
  {
   "cell_type": "markdown",
   "metadata": {},
   "source": [
    "<div style=\"background-color:#fdae61; border-radius: 5px; padding: 10pt\"><strong>Exercise 5.6:</strong> Consider a list, <code>myVariable</code>, that has 30 elements, if <code>start</code> is equal to 5 and <code>stop</code> is equal to 25, how many elements are in <code>myVariable[start:stop]</code>. In the code cell below, add code to test your answer.\n",
    "<br/>\n",
    "When you've done this, or if you get stuck, see the video <a href='https://youtu.be/1-ZqHOlGMc0'>here</a> for a walkthrough.\n",
    "</div>"
   ]
  },
  {
   "cell_type": "code",
   "execution_count": null,
   "metadata": {},
   "outputs": [],
   "source": [
    "myVariable = [\n",
    "    0,\n",
    "    1,\n",
    "    2,\n",
    "    3,\n",
    "    4,\n",
    "    5,\n",
    "    6,\n",
    "    7,\n",
    "    8,\n",
    "    9,\n",
    "    10,\n",
    "    11,\n",
    "    12,\n",
    "    13,\n",
    "    14,\n",
    "    15,\n",
    "    16,\n",
    "    17,\n",
    "    18,\n",
    "    19,\n",
    "    20,\n",
    "    21,\n",
    "    22,\n",
    "    23,\n",
    "    24,\n",
    "    25,\n",
    "    26,\n",
    "    27,\n",
    "    28,\n",
    "    29,\n",
    "]"
   ]
  },
  {
   "cell_type": "markdown",
   "metadata": {},
   "source": [
    "<div style=\"background-color:#fdae61; border-radius: 5px; padding: 10pt\"><strong>Exercise 5.7:</strong> In a new cell, extract even numbers from the list <code>myList=[0,1,2,3,4,5,6,7,8,9,10]</code>\n",
    "<br/>\n",
    "When you've done this, or if you get stuck, see the video <a href='https://youtu.be/G1J5Av67dkI'>here</a> for a walkthrough.\n",
    "</div>"
   ]
  },
  {
   "cell_type": "markdown",
   "metadata": {},
   "source": [
    "## `list` Methods\n",
    "\n",
    "There are many methods for the list data type. You can find a list of `list` methods with the help function or using online documentation.\n",
    "\n",
    "Remember that methods (like `str.format()`) act on an object, which is before the `.`, and (like functions) accept input parameters, which go between the parantheses.\n",
    "\n",
    "Note that many of these methods work 'in-place', i.e. they update the variable they act on (and thus return `None`).\n",
    "\n",
    "We are going to focus on two methods that are commonly used:\n",
    "\n",
    "* `list.append()`, which appends a new element to the end of a list in-place and returns `None`\n",
    "* `list.pop()`, which removes an element from a list in-place and returns that element"
   ]
  },
  {
   "cell_type": "markdown",
   "metadata": {},
   "source": [
    "<div style=\"background-color:#abd9e9; border-radius: 5px; padding: 10pt\"><strong>Task 5.8:</strong> Run the cells below to see examples of both of these methods.\n",
    "<br/>\n",
    "When you've done this, or if you get stuck, see the video <a href='https://youtu.be/fSbbaUNLc0k'>here</a> for a walkthrough.\n",
    "</div>"
   ]
  },
  {
   "cell_type": "code",
   "execution_count": null,
   "metadata": {},
   "outputs": [],
   "source": [
    "myVariable = [100.0, 2.5, 17.0, 9.5, 12.0]\n",
    "print(\"My original list:\")\n",
    "print(myVariable)"
   ]
  },
  {
   "cell_type": "code",
   "execution_count": null,
   "metadata": {},
   "outputs": [],
   "source": [
    "myVariable.append(51.6)  # add some new data\n",
    "print(\"My list with an extra element:\")\n",
    "print(myVariable)"
   ]
  },
  {
   "cell_type": "code",
   "execution_count": null,
   "metadata": {},
   "outputs": [],
   "source": [
    "myElement = 0  # the element to 'pop'\n",
    "myValue = myVariable.pop(myElement)  # remove an anomolous piece of data\n",
    "print(\"My list with a removed element:\")\n",
    "print(myVariable)\n",
    "print(\"I removed element {0} with value {1}\".format(myElement, myValue))"
   ]
  },
  {
   "cell_type": "markdown",
   "metadata": {},
   "source": [
    "# Errors are helpful (continued)\n",
    "\n",
    "## `IndexError`\n",
    "\n",
    "Now we're comfortable with indexing and slicing we can introduce a new error: `IndexError`."
   ]
  },
  {
   "cell_type": "markdown",
   "metadata": {},
   "source": [
    "<div style=\"background-color:#abd9e9; border-radius: 5px; padding: 10pt\"><strong>Task 5.9:</strong> Run the cell below. What does this <code>IndexError</code> mean? Create a new Markdown cell and describe, in words you understand, what has gone wrong here.\n",
    "<br/>\n",
    "When you've done this, or if you get stuck, see the video <a href='https://youtu.be/uKomV_6PPo4'>here</a> for a walkthrough.\n",
    "</div>"
   ]
  },
  {
   "cell_type": "code",
   "execution_count": null,
   "metadata": {},
   "outputs": [],
   "source": [
    "print(myVariable[100])"
   ]
  },
  {
   "cell_type": "markdown",
   "metadata": {},
   "source": [
    "## Key Points\n",
    "\n",
    "* `list`s are a Python data type\n",
    "* `list`s can store many values (of different data types) as a single variable\n",
    "* `list`s can be indexed and sliced to access the elements within the list\n",
    "* Python has methods for modifying `list` variable such as `list.append()` and `list.pop()`\n",
    "* Errors are helpful! (again)\n",
    "* `IndexError` indicates an attempt to access an index beyond the end of a list"
   ]
  },
  {
   "cell_type": "markdown",
   "metadata": {},
   "source": [
    "<div style=\"background-color:#ffa8a8; border-radius: 5px; padding: 10pt\"><strong>Challenge 5.10:</strong> Fill in the blanks in the next cell so that the three printed lines show <code>[1, 2, 3, 4]</code>, <code>2</code>, and <code>[1, 3, 5]</code>, respectively.</div>"
   ]
  },
  {
   "cell_type": "code",
   "execution_count": null,
   "metadata": {},
   "outputs": [],
   "source": [
    "myVariable = []\n",
    "myVariable.____(1)\n",
    "myVariable.____(2)\n",
    "myVariable.____(____)\n",
    "myVariable.____(____)\n",
    "print(myVariable)\n",
    "myItem = myVariable.____(____)\n",
    "print(myItem)\n",
    "myVariable[____] = ____\n",
    "print(myVariable)"
   ]
  },
  {
   "cell_type": "markdown",
   "metadata": {},
   "source": [
    "<div style=\"background-color:#ffa8a8; border-radius: 5px; padding: 10pt\"><strong>Challenge 5.11:</strong> Many methods have function equivalents, for example, <code>list.sort()</code> and <code>sorted(list)</code>; however, there are subtle differences. Run and, if needed, modify the following cell to understand this difference. Create a Markdown cell below and describe this difference.</div>"
   ]
  },
  {
   "cell_type": "code",
   "execution_count": null,
   "metadata": {},
   "outputs": [],
   "source": [
    "myVariable = [100.0, 2.5, 17.0, 9.5, 12.0]\n",
    "print(myVariable)\n",
    "results = sorted(myVariable)\n",
    "print(results)\n",
    "\n",
    "results = myVariable.sort()\n",
    "print(results)"
   ]
  },
  {
   "cell_type": "markdown",
   "metadata": {},
   "source": [
    "## Any Bugs/Issues/Comments?\n",
    "\n",
    "If you've found a bug or have any comments about this notebook, please fill out this on-line form: https://forms.gle/tp2veeF8e7fbQMvY6.\n",
    "\n",
    "Any feedback we get we will try to correct/implement as soon as possible."
   ]
  }
 ],
 "metadata": {
  "kernelspec": {
   "display_name": "Python 3",
   "language": "python",
   "name": "python3"
  },
  "language_info": {
   "codemirror_mode": {
    "name": "ipython",
    "version": 3
   },
   "file_extension": ".py",
   "mimetype": "text/x-python",
   "name": "python",
   "nbconvert_exporter": "python",
   "pygments_lexer": "ipython3",
   "version": "3.9.7"
  },
  "widgets": {
   "application/vnd.jupyter.widget-state+json": {
    "state": {},
    "version_major": 2,
    "version_minor": 0
   }
  }
 },
 "nbformat": 4,
 "nbformat_minor": 4
}
