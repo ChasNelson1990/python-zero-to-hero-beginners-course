{
 "cells": [
  {
   "cell_type": "markdown",
   "metadata": {
    "slideshow": {
     "slide_type": "slide"
    }
   },
   "source": [
    "# Python Lists\n",
    "\n",
    "*Dr Chas Nelson and Mikolaj Kundegorski*\n",
    "\n",
    "*Part of https://github.com/ChasNelson1990/python-zero-to-hero-beginners-course*"
   ]
  },
  {
   "cell_type": "markdown",
   "metadata": {
    "slideshow": {
     "slide_type": "skip"
    }
   },
   "source": [
    "## Objectives\n",
    "\n",
    "* Understand the `list` data type in Python\n",
    "* Know how to access individual elements in lists (indexing)\n",
    "* Know how to access multiple elements in lists (slicing)\n",
    "* Know about the `.append()` and `.remove()` methods"
   ]
  },
  {
   "cell_type": "markdown",
   "metadata": {
    "slideshow": {
     "slide_type": "slide"
    }
   },
   "source": [
    "## The `list` data type\n",
    "\n",
    "As scientists, we usually work with many samples or measurements. Creating a new variable for each measurement would make our codes complex and cumbersome. With enough different variables we might as well do it all by hand.\n",
    "\n",
    "In Python there are several ways to storing lots of values in a single variable. We will cover three of these in the course: \n",
    "- Python lists, \n",
    "- NumPy arrays, \n",
    "- Pandas dataframes.\n",
    "\n",
    "The Python `list` is a data type (remember our other data types). Unlike, for example, `int`, the `list` data type is able to store many different values in one place.\n",
    "\n",
    "A `list` is 'contained' within square brackets (`[...]`) and each element within the list is separated by a comma (`,`)."
   ]
  },
  {
   "cell_type": "markdown",
   "metadata": {
    "slideshow": {
     "slide_type": "slide"
    }
   },
   "source": [
    "<div style=\"border: 3px solid #1b9e77; border-radius: 5px; padding: 10pt\"><strong>Task 5.1:</strong> Look at the cell below to see an example of creating a list of numbers, let's assume they are a list of experiment run times in seconds. Add a line to print the entire list and run the cell. How might we find out how many experiments we have run, i.e. how many elements are in our list?\n",
    "<br/>\n",
    "When you've done this, or if you get stuck, see the video <a href='https://youtu.be/4lL2lq-RaOI'>here</a> for a walkthrough.\n",
    "</div>"
   ]
  },
  {
   "cell_type": "code",
   "execution_count": null,
   "metadata": {
    "slideshow": {
     "slide_type": "fragment"
    }
   },
   "outputs": [],
   "source": [
    "experiment_run_times_seconds = [100, 2.5, 17.0, 9.5, 12.0]"
   ]
  },
  {
   "cell_type": "markdown",
   "metadata": {
    "slideshow": {
     "slide_type": "slide"
    }
   },
   "source": [
    "## Indexing (continued)\n",
    "\n",
    "We learnt earlier about indexing character strings. Strings and lists are similar in some ways and indexing is one of them."
   ]
  },
  {
   "cell_type": "markdown",
   "metadata": {
    "slideshow": {
     "slide_type": "slide"
    }
   },
   "source": [
    "<div style=\"border: 3px solid #1b9e77; border-radius: 5px; padding: 10pt\"><strong>Task 5.2:</strong> Create a new code cell below this one. Remembering that variables persist between cells, print only the first element in <code>experiment_run_times_seconds</code>. Edit your code to print the last variable in the list and run the cell again.\n",
    "<br/>\n",
    "When you've done this, or if you get stuck, see the video <a href='https://youtu.be/Opd3tSyjEDg'>here</a> for a walkthrough.\n",
    "</div>"
   ]
  },
  {
   "cell_type": "markdown",
   "metadata": {
    "slideshow": {
     "slide_type": "skip"
    }
   },
   "source": [
    "Once you know the index of an element, you can modify that element within the list.\n",
    "\n",
    "We've made a mistake when defining our list above - we've used floats for every element but the first."
   ]
  },
  {
   "cell_type": "markdown",
   "metadata": {
    "slideshow": {
     "slide_type": "slide"
    }
   },
   "source": [
    "<div style=\"border: 3px solid #1b9e77; border-radius: 5px; padding: 10pt\"><strong>Task 5.3:</strong> Create a new code cell below this one. Remembering the <code>type()</code> built-in Python function, print the data type of the first and last elements.\n",
    "<br/>\n",
    "If you get stuck, see the video <a href='https://youtu.be/ea3GZX-KT0Q'>here</a> for a walkthrough that includes the answer for the next task too.\n",
    "</div>"
   ]
  },
  {
   "cell_type": "markdown",
   "metadata": {
    "slideshow": {
     "slide_type": "skip"
    }
   },
   "source": [
    "This is important - lists can contain elements of different datatypes. In fact, lists can even contain other lists!\n",
    "\n",
    "Beware, this is not always true of other data structures."
   ]
  },
  {
   "cell_type": "markdown",
   "metadata": {
    "slideshow": {
     "slide_type": "slide"
    }
   },
   "source": [
    "<div style=\"border: 3px solid #1b9e77; border-radius: 5px; padding: 10pt\"><strong>Task 5.4:</strong> Correct this mistake by replacing the first element of <code>experiment_run_times_seconds</code> with the same number but as a float.\n",
    "<br/>\n",
    "</div>"
   ]
  },
  {
   "cell_type": "markdown",
   "metadata": {
    "slideshow": {
     "slide_type": "slide"
    }
   },
   "source": [
    "## Slicing\n",
    "\n",
    "As well as accessing individual elements of a list, we can access a 'slice' of elements.\n",
    "\n",
    "List slicing requires a `start` index, a `stop`, index and a `step` size (which defaults to 1):\n",
    "```python\n",
    "experiment_run_times_seconds = [100.0,2.5,17.0,9.5,12.0]\n",
    "subset_of_results = experiment_run_times_seconds[start:stop:step]\n",
    "```\n",
    "\n",
    "**Important** Remember that Python starts indexing at `0` and that the last element can also be accessed as `-1`. So accessing every other element of the whole list would be:\n",
    "```python\n",
    "experiment_run_times_seconds = [100.0,2.5,17.0,9.5,12.0]\n",
    "subset_of_results = experiment_run_times_seconds[0:-1:2]\n",
    "```"
   ]
  },
  {
   "cell_type": "markdown",
   "metadata": {
    "slideshow": {
     "slide_type": "slide"
    }
   },
   "source": [
    "<div style=\"border: 3px solid #1b9e77; border-radius: 5px; padding: 10pt\"><strong>Task 5.5:</strong> Create a new code cell below. In it, slice <code>experiment_run_times_seconds</code> to access the results of the third, fourth and fifth experiments and store them as a new variable. Print that variable.\n",
    "<br/>\n",
    "When you've done this, or if you get stuck, see the video <a href='https://youtu.be/UCQA4BVczHw'>here</a> for a walkthrough.\n",
    "</div>"
   ]
  },
  {
   "cell_type": "markdown",
   "metadata": {
    "slideshow": {
     "slide_type": "skip"
    }
   },
   "source": [
    "<div style=\"border: 3px solid #d95f02; border-radius: 5px; padding: 10pt\"><strong>Exercise 5.6:</strong> Consider a list, <code>list_of_numbers</code>, that has 30 elements, if <code>start</code> is equal to 5 and <code>stop</code> is equal to 25, how many elements are in <code>list_of_numbers[start:stop]</code>. In the code cell below, add code to test your answer.\n",
    "<br/>\n",
    "When you've done this, or if you get stuck, see the video <a href='https://youtu.be/hjwl_Bd4zOE'>here</a> for a walkthrough.\n",
    "</div>"
   ]
  },
  {
   "cell_type": "code",
   "execution_count": null,
   "metadata": {
    "slideshow": {
     "slide_type": "skip"
    }
   },
   "outputs": [],
   "source": [
    "list_of_numbers = [\n",
    "    0,\n",
    "    1,\n",
    "    2,\n",
    "    3,\n",
    "    4,\n",
    "    5,\n",
    "    6,\n",
    "    7,\n",
    "    8,\n",
    "    9,\n",
    "    10,\n",
    "    11,\n",
    "    12,\n",
    "    13,\n",
    "    14,\n",
    "    15,\n",
    "    16,\n",
    "    17,\n",
    "    18,\n",
    "    19,\n",
    "    20,\n",
    "    21,\n",
    "    22,\n",
    "    23,\n",
    "    24,\n",
    "    25,\n",
    "    26,\n",
    "    27,\n",
    "    28,\n",
    "    29,\n",
    "]"
   ]
  },
  {
   "cell_type": "markdown",
   "metadata": {
    "slideshow": {
     "slide_type": "skip"
    }
   },
   "source": [
    "<div style=\"border: 3px solid #d95f02; border-radius: 5px; padding: 10pt\"><strong>Exercise 5.7:</strong> In a new cell, extract all the even numbers from <code>list_of_numbers</code>.\n",
    "<br/>\n",
    "<!--When you've done this, or if you get stuck, see the video <a href='https://youtu.be/G1J5Av67dkI'>here</a> for a walkthrough.-->\n",
    "</div>"
   ]
  },
  {
   "cell_type": "markdown",
   "metadata": {
    "slideshow": {
     "slide_type": "slide"
    }
   },
   "source": [
    "## `list` Methods\n",
    "\n",
    "There are many methods for the list data type. You can find a list of `list` methods with the help function or using online documentation.\n",
    "\n",
    "As an example, the `list.append()` function operates on the list before the dot too - we call this type of function a method.\n",
    "Think of it as a function which has a \"special argument\" which is written before the dot, and the normal arguments passed in a bracket as usual.\n",
    "In the case of `.append()`, the data before the dot must be a list (or a variable with type `list`).\n",
    "\n",
    "Note that many of these methods work 'in-place', i.e. they update the variable they act on (and thus return `None`).\n",
    "\n",
    "We are going to focus on two methods that are commonly used:\n",
    "\n",
    "* `list.append()`, which appends a new element to the end of a list in-place and returns `None`\n",
    "* `list.pop()`, which removes an element from a list in-place and returns that element"
   ]
  },
  {
   "cell_type": "markdown",
   "metadata": {
    "slideshow": {
     "slide_type": "slide"
    }
   },
   "source": [
    "<div style=\"border: 3px solid #1b9e77; border-radius: 5px; padding: 10pt\"><strong>Task 5.8:</strong> Run the cells below to see examples of both of these methods.\n",
    "<br/>\n",
    "When you've done this, or if you get stuck, see the video <a href='https://youtu.be/ffx-lSLZWRU'>here</a> for a walkthrough.\n",
    "</div>"
   ]
  },
  {
   "cell_type": "code",
   "execution_count": null,
   "metadata": {
    "slideshow": {
     "slide_type": "slide"
    }
   },
   "outputs": [],
   "source": [
    "experiment_run_times_seconds = [100.0, 2.5, 17.0, 9.5, 12.0]\n",
    "print(\"My current experiment results:\")\n",
    "print(experiment_run_times_seconds)"
   ]
  },
  {
   "cell_type": "code",
   "execution_count": null,
   "metadata": {
    "slideshow": {
     "slide_type": "slide"
    }
   },
   "outputs": [],
   "source": [
    "experiment_run_times_seconds.append(51.6)  # add some new data\n",
    "print(\"My results including my latest experiment:\")\n",
    "print(experiment_run_times_seconds)"
   ]
  },
  {
   "cell_type": "code",
   "execution_count": null,
   "metadata": {
    "slideshow": {
     "slide_type": "slide"
    }
   },
   "outputs": [],
   "source": [
    "anomolous_experiment = 0  # the experiment / element to 'pop', i.e. delete\n",
    "anomolous_result = experiment_run_times_seconds.pop(anomolous_experiment)  # remove an anomolous piece of data\n",
    "print(\"My list with the anomolous experiment removed:\")\n",
    "print(experiment_run_times_seconds)\n",
    "print(f\"I removed experiment {anomolous_experiment} with result {anomolous_result}\")"
   ]
  },
  {
   "cell_type": "markdown",
   "metadata": {
    "slideshow": {
     "slide_type": "slide"
    }
   },
   "source": [
    "# Errors are helpful (continued)\n",
    "\n",
    "## `IndexError`\n",
    "\n",
    "Now we're comfortable with indexing and slicing we can introduce a new error: `IndexError`."
   ]
  },
  {
   "cell_type": "markdown",
   "metadata": {
    "slideshow": {
     "slide_type": "slide"
    }
   },
   "source": [
    "<div style=\"border: 3px solid #1b9e77; border-radius: 5px; padding: 10pt\"><strong>Task 5.9:</strong> Run the cell below. What does this <code>IndexError</code> mean? Create a new Markdown cell and describe, in words you understand, what has gone wrong here.\n",
    "<br/>\n",
    "When you've done this, or if you get stuck, see the video <a href='https://youtu.be/je8HAKmEF1c'>here</a> for a walkthrough.\n",
    "</div>"
   ]
  },
  {
   "cell_type": "code",
   "execution_count": null,
   "metadata": {
    "slideshow": {
     "slide_type": "fragment"
    }
   },
   "outputs": [],
   "source": [
    "print(experiment_run_times_seconds[100])"
   ]
  },
  {
   "cell_type": "markdown",
   "metadata": {
    "slideshow": {
     "slide_type": "slide"
    }
   },
   "source": [
    "## Key Points\n",
    "\n",
    "* `list`s are a Python data type\n",
    "* `list`s can store many values (of different data types) as a single variable\n",
    "* `list`s can be indexed and sliced to access the elements within the list\n",
    "* Python has methods for modifying `list` variable such as `list.append()` and `list.pop()`\n",
    "* Errors are helpful! (again)\n",
    "* `IndexError` indicates an attempt to access an index beyond the end of a list"
   ]
  },
  {
   "cell_type": "markdown",
   "metadata": {
    "slideshow": {
     "slide_type": "skip"
    }
   },
   "source": [
    "<div style=\"border: 3px solid #7570b3; border-radius: 5px; padding: 10pt\"><strong>Challenge 5.10:</strong> Fill in the blanks in the next cell so that the three printed lines show <code>[1, 2, 3, 4]</code>, <code>2</code>, and <code>[1, 3, 5]</code>, respectively.</div>"
   ]
  },
  {
   "cell_type": "code",
   "execution_count": null,
   "metadata": {
    "slideshow": {
     "slide_type": "skip"
    }
   },
   "outputs": [],
   "source": [
    "my_variable = []\n",
    "my_variable.____(1)\n",
    "my_variable.____(2)\n",
    "my_variable.____(____)\n",
    "my_variable.____(____)\n",
    "print(my_variable)\n",
    "my_value = my_variable.____(____)\n",
    "print(my_value)\n",
    "my_variable[____] = ____\n",
    "print(my_variable)"
   ]
  },
  {
   "cell_type": "markdown",
   "metadata": {
    "slideshow": {
     "slide_type": "skip"
    }
   },
   "source": [
    "<div style=\"border: 3px solid #7570b3; border-radius: 5px; padding: 10pt\"><strong>Challenge 5.11:</strong> Many methods have function equivalents, for example, <code>list.sort()</code> and <code>sorted(list)</code>; however, there are subtle differences. Run and, if needed, modify the following cell to understand this difference. Create a Markdown cell below and describe this difference.</div>"
   ]
  },
  {
   "cell_type": "code",
   "execution_count": null,
   "metadata": {
    "slideshow": {
     "slide_type": "skip"
    }
   },
   "outputs": [],
   "source": [
    "experiment_run_times_seconds = [100.0, 2.5, 17.0, 9.5, 12.0]\n",
    "print(experiment_run_times_seconds)\n",
    "sorted_run_times = sorted(experiment_run_times_seconds)\n",
    "print(sorted_run_times)\n",
    "\n",
    "run_times_dot_sort = experiment_run_times_seconds.sort()\n",
    "print(run_times_dot_sort)"
   ]
  },
  {
   "cell_type": "markdown",
   "metadata": {
    "slideshow": {
     "slide_type": "skip"
    }
   },
   "source": [
    "## Any Bugs/Issues/Comments?\n",
    "\n",
    "If you've found a bug or have any comments about this notebook, please fill out this on-line form: https://forms.gle/tp2veeF8e7fbQMvY6.\n",
    "\n",
    "Any feedback we get we will try to correct/implement as soon as possible."
   ]
  }
 ],
 "metadata": {
  "celltoolbar": "Slideshow",
  "kernelspec": {
   "display_name": "Python 3 (ipykernel)",
   "language": "python",
   "name": "python3"
  },
  "language_info": {
   "codemirror_mode": {
    "name": "ipython",
    "version": 3
   },
   "file_extension": ".py",
   "mimetype": "text/x-python",
   "name": "python",
   "nbconvert_exporter": "python",
   "pygments_lexer": "ipython3",
   "version": "3.9.16"
  },
  "vscode": {
   "interpreter": {
    "hash": "d769866b6f821afb3302734fef8b56cb7dc86bcc8e4d86f160ade10a565e9457"
   }
  },
  "widgets": {
   "application/vnd.jupyter.widget-state+json": {
    "state": {},
    "version_major": 2,
    "version_minor": 0
   }
  }
 },
 "nbformat": 4,
 "nbformat_minor": 4
}
