{
 "cells": [
  {
   "cell_type": "markdown",
   "metadata": {},
   "source": [
    "# Python Modules - Matplotlib and Seaborn\n",
    "\n",
    "*Dr Chas Nelson and Mikolaj Kundegorski*\n",
    "\n",
    "*Part of https://github.com/ChasNelson1990/python-zero-to-hero-beginners-course*"
   ]
  },
  {
   "cell_type": "markdown",
   "metadata": {},
   "source": [
    "## Objectives\n",
    "\n",
    "* Know about the plotting functions provided by Matplotlib (`matplotlib`)\n",
    "* Know about the plotting functions provided by Seaborn (`seaborn`)\n",
    "* Know how to plot a scatterplot (with a regression model) with Seaborn\n",
    "* Know how to plot boxplots with Seaborn\n",
    "* Know how to edit and save plots with Matplotlib\n",
    "* See that it is possible to do more complex plotting with Seaborn"
   ]
  },
  {
   "cell_type": "markdown",
   "metadata": {},
   "source": [
    "## Matplotlib\n",
    "\n",
    "Matplotlib (`matplotlib`) is the most widely used scientific plotting module in Python. Many other modules are built upon Matplotlib and we will explore one of these in particular: Seaborn.\n",
    "\n",
    "Matplotlib is a huge module and we will only introduce you to a few plotting tools today.\n",
    "\n",
    "In order to make Jupyter show plots just saved with command `plt.savefig()` we need to use a 'magic' command: `%matplotlib inline`\n",
    "\n",
    "Most of the functions we will need are in the `matplotlib.pyplot` submodule - so we will only import that today."
   ]
  },
  {
   "cell_type": "markdown",
   "metadata": {},
   "source": [
    "<div style=\"border: 3px solid #d95f02; border-radius: 5px; padding: 10pt\"><strong>Exercise 12.1:</strong> In the cell below, add a line to import the <code>matplotlib.pyplot</code> submodule. It is conventional to give this the alias <code>plt</code>. In the same cell import the <code>pandas</code> module.\n",
    "<br/>\n",
    "If you get stuck, see the video <a href='https://youtu.be/8eMkAYZYGEs'>here</a> for a walkthrough, which also covers the next task.</div>"
   ]
  },
  {
   "cell_type": "markdown",
   "metadata": {},
   "source": [
    "<div style=\"border: 3px solid #d95f02; border-radius: 5px; padding: 10pt\"><strong>Exercise 12.2:</strong> Find the Matplotlib Documentation on-line. Can you easily navigate the documentation to find useful functions such as <code>plot</code>?\n",
    "<br/>\n",
    "When you've done this and the previous task, or if you get stuck, see the video <a href='https://youtu.be/8eMkAYZYGEs'>here</a> for a walkthrough, which also includes the previous task.</div>"
   ]
  },
  {
   "cell_type": "code",
   "execution_count": null,
   "metadata": {},
   "outputs": [],
   "source": [
    "import pandas as pd\n",
    "\n",
    "# Add you imports here\n",
    "\n",
    "\n",
    "iris = pd.read_csv(\"https://raw.githubusercontent.com/mwaskom/seaborn-data/master/iris.csv\")\n",
    "display(iris.head())"
   ]
  },
  {
   "cell_type": "markdown",
   "metadata": {},
   "source": [
    "### Scatter Plotting with Matplotlib\n",
    "\n",
    "Plotting with Matplotlib is powerful but can be complicated (especially when you first start).\n",
    "\n",
    "The basic framework for a Matplotlib figure is the following:\n",
    "\n",
    "```python\n",
    "plt.figure()\n",
    "\n",
    "<FIGURE CODE>  # Where line and scatter plots are added\n",
    "\n",
    "plt.legend()\n",
    "\n",
    "plt.title('Plot Title')\n",
    "plt.xlabel('X Axis Label')\n",
    "plt.ylabel('Y Axis Label')\n",
    "\n",
    "plt.savefig('myplot.png')  # To save the plot\n",
    "plt.show()  # To display the plot\n",
    "\n",
    "```"
   ]
  },
  {
   "cell_type": "markdown",
   "metadata": {},
   "source": [
    "<div style=\"border: 3px solid #d95f02; border-radius: 5px; padding: 10pt\"><strong>Exercise 12.3:</strong> Run the following cell to show how to create a scatter plot between two variables for each iris species (using a different colour) with a linear regression model fit for each. Don't worry about understanding everything - this is just to show you the complexities of plotting.\n",
    "<br/>\n",
    "When you've done this, or if you get stuck, see the video <a href='https://youtu.be/wLPjm0XR7es'>here</a> for a walkthrough.</div>"
   ]
  },
  {
   "cell_type": "code",
   "execution_count": null,
   "metadata": {},
   "outputs": [],
   "source": [
    "# Imports\n",
    "import numpy as np\n",
    "import pandas as pd\n",
    "import matplotlib.pyplot as plt\n",
    "import scipy.stats\n",
    "\n",
    "# Create figure thats 5 by 5 inches\n",
    "plt.figure(figsize=[5, 5])\n",
    "\n",
    "# Create a mask for each species\n",
    "mask_setosa = iris.loc[:, \"species\"] == \"setosa\"\n",
    "mask_versicolor = iris.loc[:, \"species\"] == \"versicolor\"\n",
    "mask_virginica = iris.loc[:, \"species\"] == \"virginica\"\n",
    "\n",
    "# Plot a scatter for each species in a unqiue colour showing sepal_length against sepal_width\n",
    "plt.scatter(\n",
    "    iris.loc[mask_setosa, \"sepal_length\"],\n",
    "    iris.loc[mask_setosa, \"sepal_width\"],\n",
    "    color=\"#FF0000\",\n",
    "    label=\"Setosa\",\n",
    ")\n",
    "plt.scatter(\n",
    "    iris.loc[mask_versicolor, \"sepal_length\"],\n",
    "    iris.loc[mask_versicolor, \"sepal_width\"],\n",
    "    color=\"#00FF00\",\n",
    "    label=\"Versicolor\",\n",
    ")\n",
    "plt.scatter(\n",
    "    iris.loc[mask_virginica, \"sepal_length\"],\n",
    "    iris.loc[mask_virginica, \"sepal_width\"],\n",
    "    color=\"#0000FF\",\n",
    "    label=\"Virginica\",\n",
    ")\n",
    "\n",
    "# Calculate a linear regression model for each species\n",
    "(\n",
    "    slope_setosa,\n",
    "    intercept_setosa,\n",
    "    r_value_setosa,\n",
    "    p_value_setosa,\n",
    "    std_err_setosa,\n",
    ") = scipy.stats.linregress(iris.loc[mask_setosa, \"sepal_length\"], iris.loc[mask_setosa, \"sepal_width\"])\n",
    "(\n",
    "    slope_versicolor,\n",
    "    intercept_versicolor,\n",
    "    r_value_versicolor,\n",
    "    p_value_versicolor,\n",
    "    std_err_versicolor,\n",
    ") = scipy.stats.linregress(iris.loc[mask_versicolor, \"sepal_length\"], iris.loc[mask_versicolor, \"sepal_width\"])\n",
    "(\n",
    "    slope_virginica,\n",
    "    intercept_virginica,\n",
    "    r_value_virginica,\n",
    "    p_value_virginica,\n",
    "    std_err_virginica,\n",
    ") = scipy.stats.linregress(iris.loc[mask_virginica, \"sepal_length\"], iris.loc[mask_virginica, \"sepal_width\"])\n",
    "\n",
    "# Plot a line for each model over the range of sepal widths using the colours from the appropriate scatter\n",
    "x_Setosa = np.linspace(\n",
    "    iris.loc[mask_setosa, \"sepal_length\"].min(),\n",
    "    iris.loc[mask_setosa, \"sepal_length\"].max(),\n",
    "    100,\n",
    ")\n",
    "y_Setosa = slope_setosa * x_Setosa + intercept_setosa\n",
    "plt.plot(x_Setosa, y_Setosa, color=\"#FF0000\")\n",
    "x_versicolor = np.linspace(\n",
    "    iris.loc[mask_versicolor, \"sepal_length\"].min(),\n",
    "    iris.loc[mask_versicolor, \"sepal_length\"].max(),\n",
    "    100,\n",
    ")\n",
    "y_versicolor = slope_versicolor * x_versicolor + intercept_versicolor\n",
    "plt.plot(x_versicolor, y_versicolor, color=\"#00FF00\")\n",
    "x_virginica = np.linspace(\n",
    "    iris.loc[mask_virginica, \"sepal_length\"].min(),\n",
    "    iris.loc[mask_virginica, \"sepal_length\"].max(),\n",
    "    100,\n",
    ")\n",
    "y_virginica = slope_virginica * x_virginica + intercept_virginica\n",
    "plt.plot(x_virginica, y_virginica, color=\"#0000FF\")\n",
    "\n",
    "# Add a legend\n",
    "plt.legend()\n",
    "\n",
    "# Add a title and axis labels\n",
    "plt.title(\"Sepal length against sepal width\")\n",
    "plt.ylabel(\"Sepal width\")\n",
    "plt.xlabel(\"Sepal length\")\n",
    "\n",
    "plt.savefig(\"my_matplotlib_figure.png\")"
   ]
  },
  {
   "cell_type": "markdown",
   "metadata": {},
   "source": [
    "## Seaborn\n",
    "\n",
    "I'm sure we all agree that that's quite a lot of code - and quite daunting if you've never seen it before. But don't worry! Seaborn is here to make you life easier.\n",
    "\n",
    "Matplotlib is an extremely powerful module. However, it can be complex, so some packages, like Seaborn, build upon Matplotlib to make plotting a little quicker and easier.\n",
    "\n",
    "### Scatter Plotting with `seaborn`\n",
    "\n",
    "Let's start by recreating the plot above."
   ]
  },
  {
   "cell_type": "markdown",
   "metadata": {},
   "source": [
    "<div style=\"border: 3px solid #d95f02; border-radius: 5px; padding: 10pt\"><strong>Exercise 12.4:</strong> Run the following cell to show how import <code>seaborn</code> and to create a scatter plot between two variables for each iris species (using a different colour) with a linear regression model fit for each.\n",
    "<br/>\n",
    "When you've done this, or if you get stuck, see the video <a href='https://youtu.be/YQrCY9YWUr0'>here</a> for a walkthrough.</div>"
   ]
  },
  {
   "cell_type": "code",
   "execution_count": null,
   "metadata": {},
   "outputs": [],
   "source": [
    "# Imports\n",
    "import seaborn as sns\n",
    "\n",
    "# Create a plot of sepal_length vs sepal_width where colour (hue) is controlled by the species\n",
    "#\n",
    "# 'height' controls the figure height in inches\n",
    "# 'truncate' prevents the regression extending beyond the data\n",
    "sns.lmplot(x=\"sepal_length\", y=\"sepal_width\", data=iris, hue=\"species\", height=5, truncate=True)\n",
    "\n",
    "# Save figure\n",
    "plt.savefig(\"my_seaborn_figure.png\")"
   ]
  },
  {
   "cell_type": "markdown",
   "metadata": {},
   "source": [
    "### Faceted plotting with Seaborn\n",
    "\n",
    "Isn't that a lot simpler?!\n",
    "\n",
    "Seaborn is doing all the hard work for you - it creates the figure, the scatter plots, the legend and it does the regression and plots the model with error bounds too.\n",
    "\n",
    "But what if we want to split the data across three plots? Again, Seaborn comes to the rescue."
   ]
  },
  {
   "cell_type": "markdown",
   "metadata": {},
   "source": [
    "<div style=\"border: 3px solid #d95f02; border-radius: 5px; padding: 10pt\"><strong>Exercise 12.5:</strong> Compare the following code cell to the code cell above. Can you spot the difference? Run the cell to show how easy it is to create a faceted plot (which is what this is called).\n",
    "<br/>\n",
    "When you've done this, or if you get stuck, see the video <a href='https://youtu.be/rLcfMBMMNKM'>here</a> for a walkthrough.</div>"
   ]
  },
  {
   "cell_type": "code",
   "execution_count": null,
   "metadata": {},
   "outputs": [],
   "source": [
    "# Imports\n",
    "import seaborn as sns\n",
    "\n",
    "# Create a plot of sepal_length vs sepal_width where colour (hue) is controlled by the species\n",
    "# height controls the figure height in inches\n",
    "# truncate prevents the regression extending beyond the data\n",
    "sns.lmplot(\n",
    "    x=\"sepal_length\",\n",
    "    y=\"sepal_width\",\n",
    "    data=iris,\n",
    "    hue=\"species\",\n",
    "    col=\"species\",\n",
    "    height=5,\n",
    "    truncate=True,\n",
    ")\n",
    "\n",
    "# Save figure\n",
    "plt.savefig(\"my_faceted_seaborn_figure.png\")"
   ]
  },
  {
   "cell_type": "markdown",
   "metadata": {},
   "source": [
    "## Boxplots\n",
    "\n",
    "Scatter and line plots are all part of Seaborn's relational plot tools. But sometimes we have categorical data (such as species) and might want to use box plots to explore this data."
   ]
  },
  {
   "cell_type": "markdown",
   "metadata": {},
   "source": [
    "<div style=\"border: 3px solid #d95f02; border-radius: 5px; padding: 10pt\"><strong>Exercise 12.6:</strong> Read the cell below. This cells aims to create a boxplot using <code>seaborn</code> for the sepal widths of each species (each species should be a different colour). Create a new Markdown cell below and write down, in plain English, what each line is doing. What does <code>.melt()</code> do and why is it needed?\n",
    "<br/>\n",
    "When you've done this, or if you get stuck, see the video <a href='https://youtu.be/8HMumN8EGYo'>here</a> for a walkthrough.</div>"
   ]
  },
  {
   "cell_type": "code",
   "execution_count": null,
   "metadata": {},
   "outputs": [],
   "source": [
    "# 'Melt' the data\n",
    "iris_melted = iris.melt(\n",
    "    id_vars=\"species\",\n",
    "    value_vars=[\"sepal_length\", \"sepal_width\", \"petal_length\", \"petal_width\"],\n",
    "    var_name=\"measure\",\n",
    "    value_name=\"measurement\",\n",
    ")\n",
    "\n",
    "# Plot the melted data\n",
    "sns.catplot(\n",
    "    x=\"species\",\n",
    "    y=\"measurement\",\n",
    "    col=\"measure\",\n",
    "    data=iris_melted,\n",
    "    kind=\"box\",\n",
    "    height=5,\n",
    "    aspect=0.5,\n",
    ")\n",
    "\n",
    "# Save the plot\n",
    "plt.savefig(\"my_seaborn_boxplot.png\")"
   ]
  },
  {
   "cell_type": "markdown",
   "metadata": {},
   "source": [
    "## Plotting Contexts\n",
    "\n",
    "And finally, we often make plots for different purposes. And Seaborn has, yet again, got us covered. "
   ]
  },
  {
   "cell_type": "markdown",
   "metadata": {},
   "source": [
    "<div style=\"border: 3px solid #d95f02; border-radius: 5px; padding: 10pt\"><strong>Exercise 12.7:</strong> Run the following cell to show how the same scatter plot as above can be easily replicated with subtle display difference for four different contexts.\n",
    "<br/>\n",
    "When you've done this, or if you get stuck, see the video <a href='https://youtu.be/HSj180pc0q4'>here</a> for a walkthrough.</div>"
   ]
  },
  {
   "cell_type": "code",
   "execution_count": null,
   "metadata": {},
   "outputs": [],
   "source": [
    "with sns.plotting_context(\"notebook\"):\n",
    "    sns.lmplot(\n",
    "        x=\"sepal_length\",\n",
    "        y=\"sepal_width\",\n",
    "        data=iris,\n",
    "        hue=\"species\",\n",
    "        height=5,\n",
    "        truncate=True,\n",
    "    )\n",
    "\n",
    "with sns.plotting_context(\"paper\"):\n",
    "    sns.lmplot(\n",
    "        x=\"sepal_length\",\n",
    "        y=\"sepal_width\",\n",
    "        data=iris,\n",
    "        hue=\"species\",\n",
    "        height=5,\n",
    "        truncate=True,\n",
    "    )\n",
    "\n",
    "with sns.plotting_context(\"talk\"):\n",
    "    sns.lmplot(\n",
    "        x=\"sepal_length\",\n",
    "        y=\"sepal_width\",\n",
    "        data=iris,\n",
    "        hue=\"species\",\n",
    "        height=5,\n",
    "        truncate=True,\n",
    "    )\n",
    "\n",
    "with sns.plotting_context(\"poster\"):\n",
    "    sns.lmplot(\n",
    "        x=\"sepal_length\",\n",
    "        y=\"sepal_width\",\n",
    "        data=iris,\n",
    "        hue=\"species\",\n",
    "        height=5,\n",
    "        truncate=True,\n",
    "    )"
   ]
  },
  {
   "cell_type": "markdown",
   "metadata": {},
   "source": [
    "## Key Points\n",
    "\n",
    "* `matplotlib` adds plotting functionality to your Python codes\n",
    "* `seaborn` makes plotting lots of data very quick and easy\n",
    "* `matplotlib` can be used to modify plots produced by `seaborn`\n",
    "* `sns.plotting_context()` can be used to create different plots for different purposes\n",
    "* Knowing how to plot exactly what you want will come with time, practice and a bit of on-line searching!"
   ]
  },
  {
   "cell_type": "markdown",
   "metadata": {},
   "source": [
    "## Any Bugs/Issues/Comments?\n",
    "\n",
    "If you've found a bug or have any comments about this notebook, please fill out this on-line form: https://forms.gle/tp2veeF8e7fbQMvY6.\n",
    "\n",
    "Any feedback we get we will try to correct/implement as soon as possible."
   ]
  }
 ],
 "metadata": {
  "kernelspec": {
   "display_name": "Python 3",
   "language": "python",
   "name": "python3"
  },
  "language_info": {
   "codemirror_mode": {
    "name": "ipython",
    "version": 3
   },
   "file_extension": ".py",
   "mimetype": "text/x-python",
   "name": "python",
   "nbconvert_exporter": "python",
   "pygments_lexer": "ipython3",
   "version": "3.9.7"
  },
  "vscode": {
   "interpreter": {
    "hash": "d769866b6f821afb3302734fef8b56cb7dc86bcc8e4d86f160ade10a565e9457"
   }
  },
  "widgets": {
   "application/vnd.jupyter.widget-state+json": {
    "state": {},
    "version_major": 2,
    "version_minor": 0
   }
  }
 },
 "nbformat": 4,
 "nbformat_minor": 4
}
