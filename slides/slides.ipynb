{
 "cells": [
  {
   "cell_type": "markdown",
   "metadata": {
    "slideshow": {
     "slide_type": "slide"
    }
   },
   "source": [
    "# The Basics of Programming with Python"
   ]
  },
  {
   "cell_type": "markdown",
   "metadata": {
    "slideshow": {
     "slide_type": "slide"
    }
   },
   "source": [
    "These first nine notebooks will take you from zero to hero: teaching you the basics of python syntax and the key features of programming in Python.\n",
    "\n",
    "The remaining three notebooks will introduce key modules that you're likely to use in the future. We will talk through these during the course but you will do the exercises after the course.\n",
    "\n",
    "We will use the notebooks to work through a series of descriptive text, examples and exercises.\n",
    "\n",
    "Tasks (in light blue) will be completed during the course with Exercises (in light orange) for completing outside the course and building up your skills."
   ]
  },
  {
   "cell_type": "markdown",
   "metadata": {
    "slideshow": {
     "slide_type": "slide"
    }
   },
   "source": [
    "## Why Python?\n",
    "\n",
    "First, why are we using Python? You may have heard of other programming languages like R, Java or C++ and each programming language has its benefits. Python has several benefits that make it an ideal starting language for most scientists:\n",
    "\n",
    "* Simple syntax that's human readable\n",
    "* Very widely used in the scientific community\n",
    "* large community support and good documentation\n",
    "* Packages provide almost infinite extensiblility - and there are many scientifically-focussed packages\n",
    "* Obvious 'pythonic' ways of doing things"
   ]
  },
  {
   "cell_type": "markdown",
   "metadata": {
    "slideshow": {
     "slide_type": "slide"
    }
   },
   "source": [
    "## Python Files\n",
    "\n",
    "Generally, Python files are plain text files that end with the `.py` extension. This let's the operating system know that the file is a Python program and to interpret the text as Python commands. Such files can be edited with a text editor and run from the shell."
   ]
  },
  {
   "cell_type": "markdown",
   "metadata": {
    "slideshow": {
     "slide_type": "slide"
    }
   },
   "source": [
    "## Jupyter Lab\n",
    "\n",
    "However, we will focus on using Jupyter Lab notebooks (`.ipynb` extension). Notebooks are a more user-friendly way or working with Python and enable you to combine text notes (like this 'cell'), your Python codes and the results of codes - all in one place.\n",
    "\n",
    "In general, Jupyter Lab will probably satisfy most of your programming needs in the near future."
   ]
  },
  {
   "cell_type": "markdown",
   "metadata": {
    "slideshow": {
     "slide_type": "slide"
    }
   },
   "source": [
    "## Cells\n",
    "\n",
    "In Jupyter each block is called a cell. The currently selected cell is highlighted by a blue bar to the left and, if the cell is being edited, a blue frame around the cell.\n",
    "\n",
    "You can move between cells using the arrow keys (up and down); however, you must exit edit mode before doing so. This can be done by hitting the <kbd>Esc</kbd> key."
   ]
  },
  {
   "cell_type": "markdown",
   "metadata": {
    "slideshow": {
     "slide_type": "slide"
    }
   },
   "source": [
    "### Markdown Cells\n",
    "\n",
    "Markdown cells, like this cell, are a form of formatted text. If you double click this cell (or press <kbd>Enter</kbd> when the cell is highlighted) it will change from pretty, formatted text to Markdown text."
   ]
  },
  {
   "cell_type": "markdown",
   "metadata": {
    "slideshow": {
     "slide_type": "skip"
    }
   },
   "source": [
    "<div style=\"background-color:#abd9e9; border-radius: 5px; padding: 10pt\"><strong>Task 1.1:</strong> Double click this cell to see the following.\n",
    "<br/>\n",
    "When you've done this, or if you get stuck, see the video <a href='https://youtu.be/OGFurQ15a5s '>here</a> for a walkthrough.</div>\n",
    "\n",
    "1. How numbered lists work\n",
    "2. How bulleted lists work:\n",
    "  * How **bold** text can be created\n",
    "  * How to use *italics*\n",
    "  * And how to show `code`\n",
    "  \n",
    "Throughout this course we recommend you add your own Markdown cells to make additional notes that you may find useful in the future."
   ]
  },
  {
   "cell_type": "markdown",
   "metadata": {
    "slideshow": {
     "slide_type": "slide"
    }
   },
   "source": [
    "To add a new cell, highlight an existing cell, and hit the <kbd>A</kbd> key to create a cell above or <kbd>B</kbd> to create one below. This cell is, by default, a code cell. Hit <kbd>M</kbd> to change the cell to Markdown. (You can always hit <kbd>Y</kbd> to convert it back to code.)"
   ]
  },
  {
   "cell_type": "markdown",
   "metadata": {
    "slideshow": {
     "slide_type": "skip"
    }
   },
   "source": [
    "<div style=\"background-color:#abd9e9; border-radius: 5px; padding: 10pt\"><strong>Task 1.2:</strong> Let's create a new Markdown cell below this one where we can describe how to do this with the mouse and user interface.\n",
    "<br/>\n",
    "When you've done this, or if you get stuck, see the video <a href=' https://youtu.be/Ce3meEVIyfI'>here</a> for a walkthrough.</div>"
   ]
  },
  {
   "cell_type": "markdown",
   "metadata": {
    "slideshow": {
     "slide_type": "slide"
    }
   },
   "source": [
    "### Python Cells\n",
    "\n",
    "Code cells, like the one below, can be filled with a series of Python commands. When the cell is run (<kbd>Ctrl+Enter</kbd> or <kbd>Shift+Enter</kbd>) the output is printed below.\n",
    "\n",
    "Note that a code cell has a pair of square brackets to the left of the cell. If the square brackets are empty (`[ ]`) then the cell has not been run; if the square brackets contain an asterisk (`[*]`) then the cell is running; and if the square brackets contain a number (e.g. `[5]`) then the cell has been run and was the, for example, fifth cell to be run. The running order of cells is important as Jupyter can only know about data and functions in cells that have already been run."
   ]
  },
  {
   "cell_type": "markdown",
   "metadata": {
    "slideshow": {
     "slide_type": "skip"
    }
   },
   "source": [
    "<div style=\"background-color:#abd9e9; border-radius: 5px; padding: 10pt\"><strong>Task 1.4:</strong> Let's run our first Python script - Hello World! (This is a conventional first code for any programming language.)\n",
    "<br/>\n",
    "When you've done this, or if you get stuck, see the video <a href=' https://youtu.be/4tnTID73n2g'>here</a> for a walkthrough.</div>"
   ]
  },
  {
   "cell_type": "code",
   "execution_count": null,
   "metadata": {
    "slideshow": {
     "slide_type": "skip"
    }
   },
   "outputs": [],
   "source": [
    "print(\"Hello World!\")"
   ]
  },
  {
   "cell_type": "markdown",
   "metadata": {
    "slideshow": {
     "slide_type": "skip"
    }
   },
   "source": [
    "<div style=\"background-color:#abd9e9; border-radius: 5px; padding: 10pt\"><strong>Task 1.5:</strong> The cell below contains some Python code; however, it has accidentally been converted to a Markdown cell (see above for how to do this). Can you convert the cell back to a code cell using the Jupyter Lab interface? How might you do this with a keyboard shortcut?\n",
    "<br/>\n",
    "When you've done this, or if you get stuck, see the video <a href='https://youtu.be/ep04qB40-lM'>here</a> for a walkthrough.</div>"
   ]
  },
  {
   "cell_type": "markdown",
   "metadata": {
    "slideshow": {
     "slide_type": "skip"
    }
   },
   "source": [
    "print(1 + 2)"
   ]
  },
  {
   "cell_type": "markdown",
   "metadata": {
    "slideshow": {
     "slide_type": "slide"
    }
   },
   "source": [
    "### Closing Notebooks\n",
    "\n",
    "Now we've completed this notebook we need to close it a shutdown the 'kernel', which runs and stores the Python data. We do this to prevent an old notebook for keeping resources such as your computer's memory."
   ]
  },
  {
   "cell_type": "markdown",
   "metadata": {
    "slideshow": {
     "slide_type": "skip"
    }
   },
   "source": [
    "<div style=\"background-color:#abd9e9; border-radius: 5px; padding: 10pt\"><strong>Task 1.6:</strong> Close this notebook and shutdown the kernel.\n",
    "<br/>\n",
    "When you've done this, or if you get stuck, see the video <a href=' https://youtu.be/Z4GGt3LyZ08 '>here</a> for a walkthrough.</div>"
   ]
  },
  {
   "cell_type": "markdown",
   "metadata": {
    "slideshow": {
     "slide_type": "slide"
    }
   },
   "source": [
    "### Help with Jupyter\n",
    "\n",
    "Sometimes we all need help. Thankfully Jupyter Lab has a help menu that links to helpful documentations for:\n",
    "\n",
    "* Keyboard Shortcuts in Jupyter\n",
    "* Jupyter\n",
    "* Markdown\n",
    "* Python\n",
    "* NumPy, SciPy, Matplotlib and pandas (all of which we'll get to later)\n",
    "\n",
    "**Now let's do the blue Tasks 1.1 to 1.5 - around 10 minutes in breakout rooms (with 5 minute wrap-up afterwards).**"
   ]
  },
  {
   "cell_type": "markdown",
   "metadata": {
    "slideshow": {
     "slide_type": "slide"
    }
   },
   "source": [
    "# Basic Python Syntax and Variables"
   ]
  },
  {
   "cell_type": "markdown",
   "metadata": {
    "slideshow": {
     "slide_type": "slide"
    }
   },
   "source": [
    "## Comments\n",
    "\n",
    "First, let's address comments. As well as using Markdown cells in Jupyter, it's good practice to use Python comments throughout your code, giving the reader (usually you, six months later) useful hints about what variables contain or operations do.\n",
    "\n",
    "In Python, the comments are specified by the `#` symbol. Anything after the `#` symbol will not be executed when you run the cell."
   ]
  },
  {
   "cell_type": "markdown",
   "metadata": {
    "slideshow": {
     "slide_type": "skip"
    }
   },
   "source": [
    "<div style=\"background-color:#abd9e9; border-radius: 5px; padding: 10pt\"><strong>Task 2.1:</strong> Run the following cells note how everything after the <code>#</code> is ignored. Note how Jupyter Lab automatically prints the final line of each cell.\n",
    "<br/>\n",
    "When you've done this, or if you get stuck, see the video <a href='https://youtu.be/9iB1ov8N2Q4'>here</a> for a walkthrough.\n",
    "</div>"
   ]
  },
  {
   "cell_type": "code",
   "execution_count": null,
   "metadata": {
    "slideshow": {
     "slide_type": "skip"
    }
   },
   "outputs": [],
   "source": [
    "1 + 1 + 2 + 3"
   ]
  },
  {
   "cell_type": "code",
   "execution_count": null,
   "metadata": {
    "slideshow": {
     "slide_type": "skip"
    }
   },
   "outputs": [],
   "source": [
    "# Everything after the # is ignored\n",
    "1  # + 1 + 2 +3"
   ]
  },
  {
   "cell_type": "markdown",
   "metadata": {
    "slideshow": {
     "slide_type": "slide"
    }
   },
   "source": [
    "## Arithmetic Calculations\n",
    "\n",
    "Python has several standard operators, which can be used without any special knowledge. In the next two cells we use the `+` and `*` (multiplication) operators."
   ]
  },
  {
   "cell_type": "code",
   "execution_count": null,
   "metadata": {
    "scrolled": true,
    "slideshow": {
     "slide_type": "-"
    }
   },
   "outputs": [],
   "source": [
    "total = 1000\n",
    "total"
   ]
  },
  {
   "cell_type": "code",
   "execution_count": null,
   "metadata": {
    "slideshow": {
     "slide_type": "-"
    }
   },
   "outputs": [],
   "source": [
    "print(total)"
   ]
  },
  {
   "cell_type": "markdown",
   "metadata": {
    "slideshow": {
     "slide_type": "skip"
    }
   },
   "source": [
    "<div style=\"background-color:#abd9e9; border-radius: 5px; padding: 10pt\"><strong>Task 2.2:</strong> Create two new Python cells (below this one) and take a guess at how to calculate:\n",
    "<ol>\n",
    "    <li>1024 minus 512</li>\n",
    "    <li>42 divided by 6</li>\n",
    "</ol>\n",
    "When you've done this, or if you get stuck, see the video <a href='https://youtu.be/ZmvUGkbXtvc'>here</a> for a walkthrough.</div>"
   ]
  },
  {
   "cell_type": "markdown",
   "metadata": {
    "slideshow": {
     "slide_type": "slide"
    }
   },
   "source": [
    "## Variables\n",
    "\n",
    "**Variables** are ways of accessing data that we want to use multiple times or that we want to perform operations on. Variables are created with the `=` symbol - we call this 'assignment'.\n",
    "\n",
    "Variable names can only contain letters, numbers and underscores and they cannot start with a number (nor should they start with an underscore). There are many conventions for naming variables but the key thing is: **make it understandable**."
   ]
  },
  {
   "cell_type": "markdown",
   "metadata": {
    "slideshow": {
     "slide_type": "skip"
    }
   },
   "source": [
    "<div style=\"background-color:#abd9e9; border-radius: 5px; padding: 10pt\"><strong>Task 2.4:</strong> In the next cell, complete the Python with your own details and run the cell.\n",
    "<br/>\n",
    "When you've done this, or if you get stuck, see the video <a href='https://youtu.be/2Eg07VFnOZw'>here</a> for a walkthrough.</div>"
   ]
  },
  {
   "cell_type": "code",
   "execution_count": null,
   "metadata": {
    "slideshow": {
     "slide_type": "skip"
    }
   },
   "outputs": [],
   "source": [
    "age =\n",
    "first_name =\n",
    "last_name =\n",
    "shoe_size ="
   ]
  },
  {
   "cell_type": "markdown",
   "metadata": {
    "slideshow": {
     "slide_type": "skip"
    }
   },
   "source": [
    "**N.B.** Strings (letters, words and sentences) must always be delimited by `'` or `\"`. We will encounter some other rules about strings as the course proceeds."
   ]
  },
  {
   "cell_type": "markdown",
   "metadata": {
    "slideshow": {
     "slide_type": "slide"
    }
   },
   "source": [
    "### Operations on Variables\n",
    "\n",
    "Operations can be done on variables just as they can on raw numbers.\n",
    "\n",
    "It's also very important to understand that variables **persist** between cells - they continue to exist after a cell has been run.\n",
    "\n",
    "**Now let's do the blue Tasks 2.1 to 2.5 - around 10 minutes in breakout rooms (with 5 minute wrap-up afterwards).**"
   ]
  },
  {
   "cell_type": "markdown",
   "metadata": {
    "slideshow": {
     "slide_type": "skip"
    }
   },
   "source": [
    "<div style=\"background-color:#abd9e9; border-radius: 5px; padding: 10pt\"><strong>Task 2.5:</strong> Given that knowledge, create a new Python cell (below this one) and calculate your age divide by your shoe size.\n",
    "<br/>\n",
    "When you've done this, or if you get stuck, see the video <a href='https://youtu.be/gPu4Jr4sBec'>here</a> for a walkthrough.</div>"
   ]
  },
  {
   "cell_type": "markdown",
   "metadata": {
    "slideshow": {
     "slide_type": "slide"
    }
   },
   "source": [
    "### Indexing\n",
    "\n",
    "Certain variables, such as those holding strings, can be 'indexed' - we can access individual elements (like letters in word).\n",
    "\n",
    "In Python we do this with square brackets, `[]`.\n",
    "\n",
    "**Important:** But it's really important to remember that Python (like many other programming languages) starts indexing at `0`."
   ]
  },
  {
   "cell_type": "markdown",
   "metadata": {
    "slideshow": {
     "slide_type": "skip"
    }
   },
   "source": [
    "<div style=\"background-color:#abd9e9; border-radius: 5px; padding: 10pt\"><strong>Task 2.7:</strong> In the next cell index your <code>first_name</code> variable to get just the first vowel in your name.\n",
    "<br/>\n",
    "When you've done this, or if you get stuck, see the video <a href='https://youtu.be/7-LHjwRsJCo'>here</a> for a walkthrough.</div>"
   ]
  },
  {
   "cell_type": "code",
   "execution_count": null,
   "metadata": {
    "slideshow": {
     "slide_type": "skip"
    }
   },
   "outputs": [],
   "source": [
    "first_name[]"
   ]
  },
  {
   "cell_type": "markdown",
   "metadata": {
    "slideshow": {
     "slide_type": "slide"
    }
   },
   "source": [
    "### Length of Variables\n",
    "\n",
    "Variables that can be indexed, such as strings (above), also have a length (i.e. how many letters in a word).\n",
    "\n",
    "Python has a built-in function, `len()`, which will give you this length.\n",
    "\n",
    "**Now let's do the blue Tasks 2.7 and 2.10 - around 10 minutes in breakout rooms (with 5 minute wrap-up afterwards).**"
   ]
  },
  {
   "cell_type": "markdown",
   "metadata": {
    "slideshow": {
     "slide_type": "skip"
    }
   },
   "source": [
    "<div style=\"background-color:#abd9e9; border-radius: 5px; padding: 10pt\"><strong>Task 2.10:</strong> In the cell below, add your variable to find the length of your last name.\n",
    "<br/>\n",
    "When you've done this, or if you get stuck, see the video <a href='https://youtu.be/N2Fq5JXNlXo'>here</a> for a walkthrough.</div>"
   ]
  },
  {
   "cell_type": "code",
   "execution_count": null,
   "metadata": {
    "slideshow": {
     "slide_type": "skip"
    }
   },
   "outputs": [],
   "source": [
    "len()"
   ]
  },
  {
   "cell_type": "markdown",
   "metadata": {
    "slideshow": {
     "slide_type": "slide"
    }
   },
   "source": [
    "## Printing Variables\n",
    "\n",
    "You've already seen the `print()` function in the first notebook - remember 'Hello World!'?\n",
    "\n",
    "The `print()` function (note the brackets) is one of many built-in Python functions and we'll use it a lot throughout this course.\n",
    "\n",
    "Knowing how to print variables is one of the most important tools in a Python programmer's arsenal. If your code isn't working then printing important variables can be a useful tool for debugging (fixing your code).\n",
    "\n",
    "Sometimes you just want to print a variable, such as `first_name` in which case you would just pass that variable name to the print function:\n",
    "```python\n",
    "print(first_name)\n",
    "```\n",
    "Often it's more useful to print out several variables and some context."
   ]
  },
  {
   "cell_type": "markdown",
   "metadata": {
    "slideshow": {
     "slide_type": "slide"
    }
   },
   "source": [
    "<div style=\"background-color:#abd9e9; border-radius: 5px; padding: 10pt\"><strong>Task 2.11:</strong> Run the next cell to print out your full name, age in the context of a complete and useful statement. There's a lot of new syntax in this next cell but we'll discuss it all afterwards.\n",
    "<br/>\n",
    "When you've done this, or if you get stuck, see the video <a href='https://youtu.be/Jv3-nGJkV7I'>here</a> for a walkthrough.</div>"
   ]
  },
  {
   "cell_type": "code",
   "execution_count": null,
   "metadata": {
    "slideshow": {
     "slide_type": "-"
    }
   },
   "outputs": [],
   "source": [
    "print(\"{0} {1} is {2} years old.\".format(first_name, last_name, age))"
   ]
  },
  {
   "cell_type": "markdown",
   "metadata": {
    "slideshow": {
     "slide_type": "slide"
    }
   },
   "source": [
    "### The `.format()` Method\n",
    "\n",
    "**Disclaimer**: This topic is a little tricky to start with. Don't worry if you don't get it straight away - as with a lot of Python it becomes clearer the more you use it and we will use it throughout the course.\n",
    "\n",
    "Let's take some of this new syntax one step at a time.\n",
    "\n",
    "`.format()` (technically `str.format()`), just like `print()`, is a built-in function."
   ]
  },
  {
   "cell_type": "markdown",
   "metadata": {
    "slideshow": {
     "slide_type": "slide"
    }
   },
   "source": [
    "However, the `print()` function only operates on what you pass into the brackets, such as `first_name` in the example above.\n",
    "\n",
    "The `str.format()` function operates on the data before the dot too - we call this type of function a method. Think of it as a function which has a \"special argument\" which is written before the dot, and the normal arguments passed in a bracket as usual.\n",
    "\n",
    "In the case of `.format()`, the data before the dot must be a string (or `str`).\n",
    "\n",
    "In the example above we have a string `'{0} {1} is {2} years old and has a shoe size of {3}.'` and we call the `.format()` method on that string - so Python will do a formatting operation on that string.\n",
    "\n",
    "So how does Python know what to format and how?"
   ]
  },
  {
   "cell_type": "markdown",
   "metadata": {
    "slideshow": {
     "slide_type": "slide"
    }
   },
   "source": [
    "In this example we haven't told Python 'how' to format anything - Python is very good at taking guesses with that - and we won't cover this until much later in the course.\n",
    "\n",
    "But we have told Python 'what' to format - we passed four variables to `.format()` inside the brackets: `first_name`, `last_name`, `age` and `shoe_size`.\n",
    "\n",
    "So Python knows the four things it needs to format, and guesses how it should format them, but 'where' should Python put this formatted data?\n",
    "\n",
    "That's where `{0}` comes in - `{0}` means 'put the zeroth variable here', `{1}` means 'put the first variable here', and so on. (Remember that Python indexes from zero.)"
   ]
  },
  {
   "cell_type": "markdown",
   "metadata": {
    "slideshow": {
     "slide_type": "skip"
    }
   },
   "source": [
    "<div style=\"background-color:#abd9e9; border-radius: 5px; padding: 10pt\"><strong>Task 2.12:</strong> In the cell below, change the code to swap your first name and your last name and report your shoe size instead of your age.\n",
    "<br/>\n",
    "When you've done this, or if you get stuck, see the video <a href='https://youtu.be/7egvS4tsea0'>here</a> for a walkthrough.</div>"
   ]
  },
  {
   "cell_type": "code",
   "execution_count": null,
   "metadata": {
    "slideshow": {
     "slide_type": "skip"
    }
   },
   "outputs": [],
   "source": [
    "print(\"{0} {1} is {2} years old\".format(first_name, last_name, age))"
   ]
  },
  {
   "cell_type": "markdown",
   "metadata": {
    "slideshow": {
     "slide_type": "slide"
    }
   },
   "source": [
    "## Watching Variables Change\n",
    "\n",
    "It's often very useful to watch how a variable changes after each operation - usually when you're confirming your codes work or trying to find out why they don't!\n",
    "\n",
    "**Now let's do the blue Tasks 2.12 and 2.13 - around 10 minutes in breakout rooms (with 5 minute wrap-up afterwards).**"
   ]
  },
  {
   "cell_type": "markdown",
   "metadata": {
    "slideshow": {
     "slide_type": "skip"
    }
   },
   "source": [
    "<div style=\"background-color:#abd9e9; border-radius: 5px; padding: 10pt\"><strong>Task 2.13:</strong> Read the following Python code cell - what value do you think <code>myVariable</code> will be at each call of the <code>print()</code> function? Don't run the cell before you make a prediction and add your prediction as a comment on each line.\n",
    "<br/>\n",
    "Run the cell to confirm your expectations.\n",
    "<br/>\n",
    "When you've done this, or if you get stuck, see the video <a href='https://youtu.be/egujpXm8gkc'>here</a> for a walkthrough.</div>"
   ]
  },
  {
   "cell_type": "code",
   "execution_count": null,
   "metadata": {
    "slideshow": {
     "slide_type": "skip"
    }
   },
   "outputs": [],
   "source": [
    "myVariable = age\n",
    "print(myVariable)\n",
    "\n",
    "myVariable = myVariable / shoe_size\n",
    "print(myVariable)\n",
    "\n",
    "myVariable = myVariable + 10\n",
    "print(myVariable)\n",
    "\n",
    "myVariable = first_name\n",
    "print(myVariable)"
   ]
  },
  {
   "cell_type": "markdown",
   "metadata": {
    "slideshow": {
     "slide_type": "slide"
    }
   },
   "source": [
    "# Data Types in Python"
   ]
  },
  {
   "cell_type": "markdown",
   "metadata": {
    "slideshow": {
     "slide_type": "slide"
    }
   },
   "source": [
    "## Data Types\n",
    "\n",
    "So far we've said that variables store information or data. But Python needs to know what 'type' of data a variable is in order to understand that data.\n",
    "\n",
    "For example, Python (and hopefully you) thinks that it's perfectly okay to multiply two numbers together but not two words!\n",
    "\n",
    "Python has a large number of types but for now we will consider only three:\n",
    "\n",
    "* `int` or integers (whole numbers)\n",
    "* `float` or floats (numbers with decimal information)\n",
    "* `str` or character strings, i.e. text\n",
    "  * Note that strings are always delimited by `'` or `\"`\n",
    "\n",
    "Python also has a built-in function that will tell you what type some data is."
   ]
  },
  {
   "cell_type": "markdown",
   "metadata": {
    "slideshow": {
     "slide_type": "skip"
    }
   },
   "source": [
    "<div style=\"background-color:#abd9e9; border-radius: 5px; padding: 10pt\"><strong>Task 3.1:</strong> Read the next cell and predict what the five outputs will be - then run the cell.\n",
    "<br/>\n",
    "When you've done this, or if you get stuck, see the video <a href='https://youtu.be/ajgHILv0p-4'>here</a> for a walkthrough.</div>"
   ]
  },
  {
   "cell_type": "code",
   "execution_count": null,
   "metadata": {
    "slideshow": {
     "slide_type": "skip"
    }
   },
   "outputs": [],
   "source": [
    "#### print(type(52))\n",
    "\n",
    "print(type(\"52\"))\n",
    "\n",
    "print(type(52.0))\n",
    "\n",
    "print(type(52.0))\n",
    "\n",
    "myVariable = 52\n",
    "\n",
    "print(type(myVariable))"
   ]
  },
  {
   "cell_type": "markdown",
   "metadata": {
    "slideshow": {
     "slide_type": "slide"
    }
   },
   "source": [
    "## Operations and Types\n",
    "\n",
    "All operators, methods and functions will only work on specific data types. Or, perhaps more confusingly, will act differently on different data types."
   ]
  },
  {
   "cell_type": "markdown",
   "metadata": {
    "slideshow": {
     "slide_type": "skip"
    }
   },
   "source": [
    "<div style=\"background-color:#abd9e9; border-radius: 5px; padding: 10pt\"><strong>Task 3.3:</strong> Create a new code cell below this one for each of the following:\n",
    "    <ol>\n",
    "        <li>add (using <code>+</code>) an <code>int</code> with a different <code>int</code></li>\n",
    "        <li>add an <code>int</code> with a <code>float</code></li>\n",
    "        <li>add a <code>str</code> with a different <code>str</code></li>\n",
    "        <li>add a <code>str</code> with an <code>int</code></li>\n",
    "    </ol>\n",
    "When you've done this, or if you get stuck, see the video <a href='https://youtu.be/_s6seW4vpuE'>here</a> for a walkthrough.</div>"
   ]
  },
  {
   "cell_type": "markdown",
   "metadata": {
    "slideshow": {
     "slide_type": "slide"
    }
   },
   "source": [
    "### Mixing `int` and `float`\n",
    "\n",
    "In some scenarios it makes sense to mix `float` and `int` data in our calculations.\n",
    "\n",
    "For example, if dinner costs £141.24 (a `float`) and we want to split the bill amongst 6 people (an `int`) Python can do that. In the background it sees that we're mixing `float` and `int` variables and converts everything to `float`.\n",
    "\n",
    "**Now let's do the blue Tasks 3.1 to 3.4 - around 10 minutes in breakout rooms (with 5 minute wrap-up afterwards).**"
   ]
  },
  {
   "cell_type": "markdown",
   "metadata": {
    "slideshow": {
     "slide_type": "skip"
    }
   },
   "source": [
    "<div style=\"background-color:#abd9e9; border-radius: 5px; padding: 10pt\"><strong>Task 3.4:</strong> Complete the next cell to work out the cost of dinner per person. What type is the output of your calculation?\n",
    "<br/>\n",
    "When you've done this, or if you get stuck, see the video <a href='https://youtu.be/QqSlrCmP3eg'>here</a> for a walkthrough.</div>"
   ]
  },
  {
   "cell_type": "code",
   "execution_count": null,
   "metadata": {
    "slideshow": {
     "slide_type": "skip"
    }
   },
   "outputs": [],
   "source": [
    "totalCost = 141.24\n",
    "\n",
    "numberOfPeople = 6\n",
    "\n",
    "costPerPerson =\n",
    "\n",
    "print(costPerPerson)"
   ]
  },
  {
   "cell_type": "markdown",
   "metadata": {
    "slideshow": {
     "slide_type": "slide"
    }
   },
   "source": [
    "## Methods/Functions and Types\n",
    "\n",
    "And what about methods, like `.format()`, or functions, like `len()`?"
   ]
  },
  {
   "cell_type": "markdown",
   "metadata": {
    "slideshow": {
     "slide_type": "skip"
    }
   },
   "source": [
    "<div style=\"background-color:#abd9e9; border-radius: 5px; padding: 10pt\"><strong>Task 3.6:</strong> Create a new code cell below this one for each of the following tasks:\n",
    "    <ol>\n",
    "        <li>Run <code>.format()</code> on a variable that holds an integer (don't forget to use <code>print()</code> as well)</li>\n",
    "        <li>Print the length (<code>len()</code>) of a variable that holds a float</li>\n",
    "    </ol>\n",
    "What do the <code>AttributeError</code> and <code>TypeError</code> mean? Create a new Markdown cell and describe, in words you understand, what has gone wrong here.\n",
    "<br/>\n",
    "When you've done this, or if you get stuck, see the video <a href='https://youtu.be/mrtTnlJ3Prs'>here</a> for a walkthrough.</div>"
   ]
  },
  {
   "cell_type": "markdown",
   "metadata": {
    "slideshow": {
     "slide_type": "slide"
    }
   },
   "source": [
    "## `.format()` and Types\n",
    "\n",
    "We've shown in the above exercises that the `.format()` methods works on `str`s and not on `int`s (nor `float`s).\n",
    "\n",
    "So, how do we do pretty printing of our number data?\n",
    "\n",
    "As a reminder, in the previous notebook we defined four variables: `age`, `first_name`, `last_name` and `shoe_size` and we printed them with some formatting."
   ]
  },
  {
   "cell_type": "markdown",
   "metadata": {
    "slideshow": {
     "slide_type": "slide"
    }
   },
   "source": [
    "<div style=\"background-color:#abd9e9; border-radius: 5px; padding: 10pt\"><strong>Task 3.7:</strong> Run the following code cell. The variables are not shared between different notebooks so you need to initialise them again.\n",
    "<br/>\n",
    "When you've done this, or if you get stuck, see the video <a href='https://youtu.be/HrL71GHOEa4'>here</a> for a walkthrough.</div>"
   ]
  },
  {
   "cell_type": "code",
   "execution_count": null,
   "metadata": {
    "slideshow": {
     "slide_type": "-"
    }
   },
   "outputs": [],
   "source": [
    "age =\n",
    "first_name =\n",
    "last_name =\n",
    "shoe_size =\n",
    "print('{0} {1} is {2} years old.'.format(first_name, last_name, age))"
   ]
  },
  {
   "cell_type": "markdown",
   "metadata": {
    "slideshow": {
     "slide_type": "slide"
    }
   },
   "source": [
    "In this scenario, Python has guessed that `first_name` and `last_name` are `str` and that `age` is an `int`.\n",
    "\n",
    "But what if age was a float?\n",
    "\n",
    "And what if we wanted to print the integer number of years from that float?"
   ]
  },
  {
   "cell_type": "markdown",
   "metadata": {
    "slideshow": {
     "slide_type": "slide"
    }
   },
   "source": [
    "<div style=\"background-color:#abd9e9; border-radius: 5px; padding: 10pt\"><strong>Task 3.8:</strong> In the following cell, assign a new float value to <code>age</code> that is your exact age (or there abouts - use at least 5 decimal places). Then run the cell, what is the output when this new age is printed?\n",
    "<br/>\n",
    "When you've done this, or if you get stuck, see the video <a href='https://youtu.be/RZtaCoCkIRQ'>here</a> for a walkthrough.</div>"
   ]
  },
  {
   "cell_type": "code",
   "execution_count": null,
   "metadata": {
    "slideshow": {
     "slide_type": "-"
    }
   },
   "outputs": [],
   "source": [
    "age =\n",
    "\n",
    "print('{0} {1} is {2} years old.'.format(first_name, last_name, age))"
   ]
  },
  {
   "cell_type": "markdown",
   "metadata": {
    "slideshow": {
     "slide_type": "slide"
    }
   },
   "source": [
    "As you can see, Python now interprets `age` as a `float`, which it is.\n",
    "\n",
    "In order to print just the integer number of years we can take two approaches:\n",
    "\n",
    "1. We can modify our data and round age to the nearest whole number and there are a few ways to do that in Python *but* this changes our data and we just want to print it in a formatted way.\n",
    "2. We can modify the string that `.format()` acts upon. And this is what we'll do.\n",
    "\n",
    "When we first learnt `.format()` we learnt that `{0}` means 'put the first variable here' and `{2}` means 'put the third variable here' and that the variables are given inside the parentheses.\n",
    "\n",
    "Inside the braces (`{` and `}`) we can put extra information that tells Python what data type we're passing and how we want Python to treat it.\n",
    "\n",
    "The syntax for providing additional formatting information is to follow the variable number with a colon (`:`) and the formatting specifiers. To tell Python that this variable is a `float` we use `f` and to tell it that we want zero decimal places we use `.0`. Note that type (here `f`) always comes at the end.\n",
    "\n",
    "Altogether `{2}` becomes `{2:.0f}`.\n",
    "\n",
    "**Now let's do the blue Tasks 3.9 and 3.10 - around 10 minutes in breakout rooms (with 5 minute wrap-up afterwards).**"
   ]
  },
  {
   "cell_type": "markdown",
   "metadata": {
    "slideshow": {
     "slide_type": "skip"
    }
   },
   "source": [
    "<div style=\"background-color:#abd9e9; border-radius: 5px; padding: 10pt\"><strong>Task 3.9:</strong> Run the next cell. Change the number after the decimal to print your age to two decimal places - don't forget to rerun the cell.\n",
    "<br/>\n",
    "When you've done this, or if you get stuck, see the video <a href='https://youtu.be/Aib31-o8o-0'>here</a> for a walkthrough.</div>"
   ]
  },
  {
   "cell_type": "code",
   "execution_count": null,
   "metadata": {
    "slideshow": {
     "slide_type": "skip"
    }
   },
   "outputs": [],
   "source": [
    "print(\"{0} {1} is {2:.0f} years old.\".format(first_name, last_name, age))"
   ]
  },
  {
   "cell_type": "markdown",
   "metadata": {
    "slideshow": {
     "slide_type": "skip"
    }
   },
   "source": [
    "Now, you might like to add more decimal places to the displayed age. To do that write number of decimal places after dot: `2.1f` for one decimal, `2.2f` for two. \n",
    "You can also display `int` with decimal points if you choose to, by formatting them as floats!"
   ]
  },
  {
   "cell_type": "markdown",
   "metadata": {
    "slideshow": {
     "slide_type": "skip"
    }
   },
   "source": [
    "<div style=\"background-color:#abd9e9; border-radius: 5px; padding: 10pt\"><strong>Task 3.10:</strong> Modify the code below to display height with 1 mm accuracy.\n",
    "<br/>\n",
    "When you've done this, or if you get stuck, see the video <a href='https://youtu.be/Z4M_9Z3-rxw'>here</a> for a walkthrough.</div>"
   ]
  },
  {
   "cell_type": "code",
   "execution_count": null,
   "metadata": {
    "slideshow": {
     "slide_type": "skip"
    }
   },
   "outputs": [],
   "source": [
    "height = 181  # cm\n",
    "print(\"My height is precisely {0} cm\".format(height))"
   ]
  },
  {
   "cell_type": "markdown",
   "metadata": {
    "slideshow": {
     "slide_type": "skip"
    }
   },
   "source": [
    "Usually, you will be formatting floats to a given number of decimals places so we won't cover any other formatting options in this course."
   ]
  },
  {
   "cell_type": "markdown",
   "metadata": {
    "slideshow": {
     "slide_type": "slide"
    }
   },
   "source": [
    "# Built-in Functions, Help and Documentation"
   ]
  },
  {
   "cell_type": "markdown",
   "metadata": {
    "slideshow": {
     "slide_type": "slide"
    }
   },
   "source": [
    "## Functions\n",
    "\n",
    "A function is a short command that allows you to access an underlying algorithm. Often a function takes some input data and returns some output data that has been transformed in some way.\n",
    "\n",
    "We've already been introduced to, and used, three built-in Python functions: `print()`, `len()` and `type()`. \n",
    "\n",
    "* `len()` takes some input data (usually a string) and returns the length of that string\n",
    "* `type()` takes some input data and returns that data's type\n",
    "* `print()` takes some input data (a string) and prints it to your notebook (we will discuss what `print()` returns below)\n",
    "\n",
    "Python has many, many built-in functions and, through packages, other functions."
   ]
  },
  {
   "cell_type": "markdown",
   "metadata": {
    "slideshow": {
     "slide_type": "slide"
    }
   },
   "source": [
    "All Python functions have several features in common:\n",
    "* They take zero or more parameters or arguments (inputs)\n",
    "* They always return something (an output or result) \n",
    "* They sometimes *do* something (for instance, print things) \n",
    "* They (should) return useful error messages when something goes wrong\n",
    "* They (should) be well documented"
   ]
  },
  {
   "cell_type": "markdown",
   "metadata": {
    "slideshow": {
     "slide_type": "slide"
    }
   },
   "source": [
    "### Built-in Functions\n",
    "\n",
    "Python built-in functions are all functions that don't need a Python package to be imported (this will make more sense later).\n",
    "\n",
    "One common function that you might use is `round()`.\n",
    "\n",
    "This function takes a float as an input parameter and returns a new float (not an int) rounded to zero decimal places."
   ]
  },
  {
   "cell_type": "markdown",
   "metadata": {
    "slideshow": {
     "slide_type": "skip"
    }
   },
   "source": [
    "<div style=\"background-color:#abd9e9; border-radius: 5px; padding: 10pt\"><strong>Task 4.1:</strong> In the code cell below this cell, create a new variable with pi rounded to zero decimal places. Print this variable and it's type.\n",
    "<br/>\n",
    "When you've done this, or if you get stuck, see the video <a href='https://youtu.be/uCWjUQTt1qI'>here</a> for a walkthrough.\n",
    "</div>"
   ]
  },
  {
   "cell_type": "code",
   "execution_count": null,
   "metadata": {
    "slideshow": {
     "slide_type": "skip"
    }
   },
   "outputs": [],
   "source": [
    "piToSix = 3.141593"
   ]
  },
  {
   "cell_type": "markdown",
   "metadata": {
    "slideshow": {
     "slide_type": "slide"
    }
   },
   "source": [
    "### Optional Parameters\n",
    "\n",
    "Actually, `round()` can take more than one parameter. This function, and many others, has an optional parameter.\n",
    "\n",
    "An optional parameter is a parameter that has a default value.\n",
    "\n",
    "The optional parameter for `round()` is `ndigits` and the default value is `None`. Note that `None` is a special Python object that we'll cover in more detail below. When `ndigits=None`, the `round()` function rounds the number to zero decimal places.\n",
    "\n",
    "But what if `ndigits=3`?"
   ]
  },
  {
   "cell_type": "markdown",
   "metadata": {
    "slideshow": {
     "slide_type": "skip"
    }
   },
   "source": [
    "<div style=\"background-color:#abd9e9; border-radius: 5px; padding: 10pt\"><strong>Task 4.2:</strong> Create a new code cell below this cell. In it create a new variable with pi rounded to three decimal places. Print this variable.\n",
    "<br/>\n",
    "When you've done this, or if you get stuck, see the video <a href='https://youtu.be/d2qlShqrpfk'>here</a> for a walkthrough.\n",
    "</div>"
   ]
  },
  {
   "cell_type": "markdown",
   "metadata": {
    "slideshow": {
     "slide_type": "slide"
    }
   },
   "source": [
    "## Returns\n",
    "\n",
    "As mentioned above, all functions return something. That means, everytime a function is called (run) a new piece of information is provided.\n",
    "\n",
    "In our examples above (rounding pi), `round()` returned a float, which we assigned to a variable.\n",
    "\n",
    "**N.B.** Remember that variables persist throughout the life of a notebook. This means `piToSix` defined above can be 'seen' by the cell below.\n",
    "\n",
    "**Now let's do the blue Tasks 4.1 to 4.3 - around 10 minutes in breakout rooms (with 5 minute wrap-up afterwards).**"
   ]
  },
  {
   "cell_type": "markdown",
   "metadata": {
    "slideshow": {
     "slide_type": "skip"
    }
   },
   "source": [
    "<div style=\"background-color:#abd9e9; border-radius: 5px; padding: 10pt\"><strong>Task 4.3:</strong> What does a call to <code>print()</code> return? Run the next cell to find out.\n",
    "<br/>\n",
    "When you've done this, or if you get stuck, see the video <a href='https://youtu.be/8nUYnJaPjqo'>here</a> for a walkthrough.</div>"
   ]
  },
  {
   "cell_type": "code",
   "execution_count": null,
   "metadata": {
    "slideshow": {
     "slide_type": "skip"
    }
   },
   "outputs": [],
   "source": [
    "print(piToSix)  # This function does something, but we don't store its result\n",
    "returnFromPrint = print(piToSix)  # Now, we also store the result of printing.\n",
    "print(returnFromPrint)  # The result is not very interesting.... Or is it?"
   ]
  },
  {
   "cell_type": "markdown",
   "metadata": {
    "slideshow": {
     "slide_type": "slide"
    }
   },
   "source": [
    "### `None`\n",
    "\n",
    "We've now encountered this magical `None` a couple of times.\n",
    "\n",
    "`None` is a special Python value.\n",
    "\n",
    "Sometimes we have a piece of information, returned from a function for example, that has no value, i.e. it's empty. Amongst other issues, leaving this piece of information blank would cause problems for a human trying to see what's going on in their code. So Python puts this special `None` value there."
   ]
  },
  {
   "cell_type": "markdown",
   "metadata": {
    "slideshow": {
     "slide_type": "slide"
    }
   },
   "source": [
    "## Function Documentation\n",
    "\n",
    "When any programmer encounters new functions, uncommon functions or functions they've just forgotten how to use they need help. This is the purpose of documentation.\n",
    "\n",
    "### `help()`\n",
    "\n",
    "There are many ways of accessing the documentation for Python functions.\n",
    "\n",
    "One way is to use Python's built-in `help()` function.\n",
    "\n",
    "Calling `help()` with a function name as a parameter will return the documentation for that function."
   ]
  },
  {
   "cell_type": "markdown",
   "metadata": {
    "slideshow": {
     "slide_type": "slide"
    }
   },
   "source": [
    "### Jupyter's Tricks\n",
    "\n",
    "Jupyter Lab has two other quick ways to access documentation for a function:\n",
    "\n",
    "* Place the cursor between the parenthesis of a function and press `Shift+Tab`\n",
    "* Type a function name followed by a question mark and run the cell"
   ]
  },
  {
   "cell_type": "markdown",
   "metadata": {
    "slideshow": {
     "slide_type": "slide"
    }
   },
   "source": [
    "## Online Documentation\n",
    "\n",
    "Finally, most Python package functions and all built-in functions have online documentation.\n",
    "\n",
    "**Now let's do the blue Tasks 4.5 to 4.8 - around 10 minutes in breakout rooms (with 5 minute wrap-up afterwards).**"
   ]
  },
  {
   "cell_type": "markdown",
   "metadata": {
    "slideshow": {
     "slide_type": "slide"
    }
   },
   "source": [
    "## Errors Are Helpful\n",
    "\n",
    "One of the most off-putting things for new programmers are errors.\n",
    "\n",
    "But, in reality, a good error message can be a really helpful tool. An error message can help you identify a mistake you've made, or a mistake that you might not notice until it's too late.\n",
    "\n",
    "One things for sure, an error message is more helpful than when the code runs (without errors) but returns an unexpected value.\n",
    "\n",
    "**Now let's do the blue Tasks 4.10 to 4.13 - around 10 minutes in breakout rooms (with 5 minute wrap-up afterwards).**"
   ]
  },
  {
   "cell_type": "markdown",
   "metadata": {
    "slideshow": {
     "slide_type": "slide"
    }
   },
   "source": [
    "### `TypeError`"
   ]
  },
  {
   "cell_type": "markdown",
   "metadata": {},
   "source": [
    "<div style=\"background-color:#abd9e9; border-radius: 5px; padding: 10pt\"><strong>Task 4.10:</strong> Run the cell below. What does this <code>TypeError</code> mean? Create a new Markdown cell and describe, in words you understand, what has gone wrong here. What useful information does the traceback tell you?\n",
    "<br/>\n",
    "When you've done this, or if you get stuck, see the video <a href='https://youtu.be/8d6Rg_4_ThA'>here</a> for a walkthrough.</div>"
   ]
  },
  {
   "cell_type": "code",
   "execution_count": null,
   "metadata": {},
   "outputs": [],
   "source": [
    "myVariable = \"This is an example string.\"\n",
    "\n",
    "round(myVariable)"
   ]
  },
  {
   "cell_type": "markdown",
   "metadata": {
    "slideshow": {
     "slide_type": "slide"
    }
   },
   "source": [
    "### `SyntaxError`"
   ]
  },
  {
   "cell_type": "markdown",
   "metadata": {},
   "source": [
    "<div style=\"background-color:#abd9e9; border-radius: 5px; padding: 10pt\"><strong>Task 4.12:</strong> Run the cell below. What does this <code>SyntaxError</code> mean? Create a new Markdown cell and describe, in words you understand, what has gone wrong here. What does the arrow in the traceback point to? Fix this error and run the cell again.\n",
    "<br/>\n",
    "When you've done this, or if you get stuck, see the video <a href='https://youtu.be/HH8UQyzpmbk'>here</a> for a walkthrough.</div>"
   ]
  },
  {
   "cell_type": "code",
   "execution_count": null,
   "metadata": {},
   "outputs": [],
   "source": [
    "myVariable = = 'This is an example string.\n",
    "\n",
    "# print(myVariable"
   ]
  },
  {
   "cell_type": "markdown",
   "metadata": {
    "slideshow": {
     "slide_type": "slide"
    }
   },
   "source": [
    "### `NameError`"
   ]
  },
  {
   "cell_type": "markdown",
   "metadata": {},
   "source": [
    "<div style=\"background-color:#abd9e9; border-radius: 5px; padding: 10pt\"><strong>Task 4.13:</strong> Run the cell below. What does this <code>NameError</code> mean? Create a new Markdown cell and describe, in words you understand, what has gone wrong here.\n",
    "<br/>\n",
    "When you've done this, or if you get stuck, see the video <a href='https://youtu.be/tqIoriOKuh8'>here</a> for a walkthrough.</div>"
   ]
  },
  {
   "cell_type": "code",
   "execution_count": null,
   "metadata": {},
   "outputs": [],
   "source": [
    "myVariable = \"This is an example string.\"\n",
    "\n",
    "print(myString)"
   ]
  },
  {
   "cell_type": "markdown",
   "metadata": {
    "slideshow": {
     "slide_type": "slide"
    }
   },
   "source": [
    "# What We've Covered So Far\n",
    "\n",
    "* Python and Jupyter Lab\n",
    "* Variables and types\n",
    "* Functions and methods\n",
    "* Printing and `.format()`\n",
    "* Documentation and `help()`\n",
    "* Errors are useful!"
   ]
  },
  {
   "cell_type": "markdown",
   "metadata": {
    "slideshow": {
     "slide_type": "slide"
    }
   },
   "source": [
    "## Some Reminders About Errors\n",
    "\n",
    "* `TypeError` indicates a function parameter has an incompatible data type, e.g. calling `round()` on a string\n",
    "* `AttributeError` often indicates an object does not have the method you've tried to call, e.g. calling `.format()` on a number\n",
    "* `SyntaxError` indicates a writing error in your code, usually an open string or missing parenthesis - look for the arrowhead\n",
    "* `NameError` indicates that the function or variable you've called doesn't exist (did you forget to run a previous cell?)"
   ]
  },
  {
   "cell_type": "markdown",
   "metadata": {
    "slideshow": {
     "slide_type": "slide"
    }
   },
   "source": [
    "Remember: you can post question's in the chat and Miks will answer them in there or will ask me to explain if it's likely to be a question everybody has.\n",
    "\n",
    "Also, feel free to email me: chas.nelson@glasgow.ac.uk."
   ]
  },
  {
   "cell_type": "markdown",
   "metadata": {
    "slideshow": {
     "slide_type": "slide"
    }
   },
   "source": [
    "# Python Lists (Notebook 05)"
   ]
  },
  {
   "cell_type": "markdown",
   "metadata": {
    "slideshow": {
     "slide_type": "slide"
    }
   },
   "source": [
    "## The `list` data type\n",
    "\n",
    "As scientists, we usually work with many samples or measurements. Creating a new variable for each measurement would make our codes complex and cumbersome. With enough different variables we might as well do it all by hand.\n",
    "\n",
    "In Python there are several ways to storing lots of values in a single variable. We will cover three of these in the course: \n",
    "- Python lists, \n",
    "- NumPy arrays, \n",
    "- Pandas dataframes.\n",
    "\n",
    "The Python `list` is a data type (remember our other data types). Unlike, for example, `int`, the `list` data type is able to store many different values in one place.\n",
    "\n",
    "A `list` is 'contained' within square brackets (`[...]`) and each element within the list is separated by a comma (`,`)."
   ]
  },
  {
   "cell_type": "markdown",
   "metadata": {
    "slideshow": {
     "slide_type": "skip"
    }
   },
   "source": [
    "<div style=\"background-color:#abd9e9; border-radius: 5px; padding: 10pt\"><strong>Task 5.1:</strong> Look at the cell below to see an example of creating a list of numbers. Add a line to print the entire list and run the cell. How might we find out how many elements are in our list?\n",
    "<br/>\n",
    "When you've done this, or if you get stuck, see the video <a href='https://youtu.be/Im-ybtmQ8w0'>here</a> for a walkthrough.\n",
    "</div>"
   ]
  },
  {
   "cell_type": "code",
   "execution_count": null,
   "metadata": {
    "slideshow": {
     "slide_type": "skip"
    }
   },
   "outputs": [],
   "source": [
    "myVariable = [100, 2.5, 17.0, 9.5, 12.0]"
   ]
  },
  {
   "cell_type": "markdown",
   "metadata": {
    "slideshow": {
     "slide_type": "slide"
    }
   },
   "source": [
    "## Indexing (continued)\n",
    "\n",
    "We learnt earlier about indexing character strings. Strings and lists are similar in some ways and indexing is one of them.\n",
    "\n",
    "```python\n",
    "my_string = \"Hello world!\"\n",
    "print(my_string[4])  # will print \"o\"\n",
    "\n",
    "my_list = [\"H\", \"e\", \"l\", \"l\", \"o\", \" \", \"w\", \"o\", \"r\", \"l\", \"d\", \"!\"]\n",
    "print(my_list[4])  # will also print \"o\"\n",
    "```"
   ]
  },
  {
   "cell_type": "markdown",
   "metadata": {
    "slideshow": {
     "slide_type": "skip"
    }
   },
   "source": [
    "<div style=\"background-color:#abd9e9; border-radius: 5px; padding: 10pt\"><strong>Task 5.2:</strong> Create a new code cell below this one. Remembering that variables persist between cells, print only the first element in <code>myVariable</code>. Edit your code to print the last variable in the list and run the cell again.\n",
    "<br/>\n",
    "When you've done this, or if you get stuck, see the video <a href='https://youtu.be/qAbNbnwyrNg'>here</a> for a walkthrough.\n",
    "</div>"
   ]
  },
  {
   "cell_type": "markdown",
   "metadata": {
    "slideshow": {
     "slide_type": "slide"
    }
   },
   "source": [
    "Once you know the index of an element, you can also modify that element within the list."
   ]
  },
  {
   "cell_type": "markdown",
   "metadata": {
    "slideshow": {
     "slide_type": "skip"
    }
   },
   "source": [
    "<div style=\"background-color:#abd9e9; border-radius: 5px; padding: 10pt\"><strong>Task 5.3:</strong> Create a new code cell below this one. Remembering the <code>type()</code> built-in Python function, print the data type of the first and last elements.\n",
    "<br/>\n",
    "If you get stuck, see the video <a href='https://youtu.be/uCbWE3z4EfM'>here</a> for a walkthrough that includes the answer for the next task too.\n",
    "</div>"
   ]
  },
  {
   "cell_type": "markdown",
   "metadata": {
    "slideshow": {
     "slide_type": "-"
    }
   },
   "source": [
    "Lists can contain elements of different datatypes. In fact, lists can even contain other lists!\n",
    "\n",
    "Beware, this is not always true of other data structures."
   ]
  },
  {
   "cell_type": "markdown",
   "metadata": {
    "slideshow": {
     "slide_type": "skip"
    }
   },
   "source": [
    "<div style=\"background-color:#abd9e9; border-radius: 5px; padding: 10pt\"><strong>Task 5.4:</strong> Correct this mistake by replacing the first element of <code>myVariable</code> with the same number but as a float.\n",
    "<br/>\n",
    "When you've done this and the cell above, or if you get stuck, see the video <a href='https://youtu.be/uCbWE3z4EfM'>here</a> for a walkthrough.\n",
    "</div>"
   ]
  },
  {
   "cell_type": "markdown",
   "metadata": {
    "slideshow": {
     "slide_type": "slide"
    }
   },
   "source": [
    "## Slicing\n",
    "\n",
    "As well as accessing individual elements of a list, we can access a 'slice' of elements.\n",
    "\n",
    "List slicing requires a `start` index, a `stop`, index and a `step` size (which defaults to 1):\n",
    "```python\n",
    "myVariable = [100.0,2.5,17.0,9.5,12.0]\n",
    "slicedElements = myVariable[start:stop:step]\n",
    "```\n",
    "\n",
    "**Important** Remember that Python starts indexing at `0` and that the last element can also be accessed as `-1`. So accessing every other element of the whole list would be:\n",
    "```python\n",
    "myVariable = [100.0,2.5,17.0,9.5,12.0]\n",
    "slicedElements = myVariable[0:-1:2]\n",
    "```"
   ]
  },
  {
   "cell_type": "markdown",
   "metadata": {
    "slideshow": {
     "slide_type": "skip"
    }
   },
   "source": [
    "<div style=\"background-color:#abd9e9; border-radius: 5px; padding: 10pt\"><strong>Task 5.5:</strong> Create a new code cell below. In it, slice <code>myVariable</code> to access the third, fourth and fifth elements and store them as a new variable. Print that variable.\n",
    "<br/>\n",
    "When you've done this, or if you get stuck, see the video <a href='https://youtu.be/v92RAPgBISY'>here</a> for a walkthrough.\n",
    "</div>"
   ]
  },
  {
   "cell_type": "markdown",
   "metadata": {
    "slideshow": {
     "slide_type": "slide"
    }
   },
   "source": [
    "## `list` Methods\n",
    "\n",
    "There are many methods for the list data type. You can find a list of `list` methods with the help function or using online documentation.\n",
    "\n",
    "Remember that methods (like `str.format()`) act on an object, which is before the `.`, and (like functions) accept input parameters, which go between the parantheses.\n",
    "\n",
    "Note that many of these methods work 'in-place', i.e. they update the variable they act on (and thus return `None`).\n",
    "\n",
    "We are going to focus on two methods that are commonly used:\n",
    "\n",
    "* `list.append()`, which appends a new element to the end of a list in-place and returns `None`\n",
    "* `list.pop()`, which removes an element from a list in-place and returns that element"
   ]
  },
  {
   "cell_type": "markdown",
   "metadata": {
    "slideshow": {
     "slide_type": "skip"
    }
   },
   "source": [
    "<div style=\"background-color:#abd9e9; border-radius: 5px; padding: 10pt\"><strong>Task 5.8:</strong> Run the cells below to see examples of both of these methods.\n",
    "<br/>\n",
    "When you've done this, or if you get stuck, see the video <a href='https://youtu.be/fSbbaUNLc0k'>here</a> for a walkthrough.\n",
    "</div>"
   ]
  },
  {
   "cell_type": "code",
   "execution_count": null,
   "metadata": {
    "slideshow": {
     "slide_type": "skip"
    }
   },
   "outputs": [],
   "source": [
    "myVariable = [100.0, 2.5, 17.0, 9.5, 12.0]\n",
    "print(\"My original list:\")\n",
    "print(myVariable)"
   ]
  },
  {
   "cell_type": "code",
   "execution_count": null,
   "metadata": {
    "slideshow": {
     "slide_type": "skip"
    }
   },
   "outputs": [],
   "source": [
    "myVariable.append(51.6)  # add some new data\n",
    "print(\"My list with an extra element:\")\n",
    "print(myVariable)"
   ]
  },
  {
   "cell_type": "code",
   "execution_count": null,
   "metadata": {
    "slideshow": {
     "slide_type": "skip"
    }
   },
   "outputs": [],
   "source": [
    "myElement = 0  # the element to 'pop'\n",
    "myValue = myVariable.pop(myElement)  # remove an anomolous piece of data\n",
    "print(\"My list with a removed element:\")\n",
    "print(myVariable)\n",
    "print(\"I removed element {0} with value {1}\".format(myElement, myValue))"
   ]
  },
  {
   "cell_type": "markdown",
   "metadata": {
    "slideshow": {
     "slide_type": "skip"
    }
   },
   "source": [
    "# Errors are helpful (continued)\n",
    "\n",
    "## `IndexError`\n",
    "\n",
    "Now we're comfortable with indexing and slicing we can introduce a new error: `IndexError`."
   ]
  },
  {
   "cell_type": "markdown",
   "metadata": {
    "slideshow": {
     "slide_type": "skip"
    }
   },
   "source": [
    "<div style=\"background-color:#abd9e9; border-radius: 5px; padding: 10pt\"><strong>Task 5.9:</strong> Run the cell below. What does this <code>IndexError</code> mean? Create a new Markdown cell and describe, in words you understand, what has gone wrong here.\n",
    "<br/>\n",
    "When you've done this, or if you get stuck, see the video <a href='https://youtu.be/uKomV_6PPo4'>here</a> for a walkthrough.\n",
    "</div>"
   ]
  },
  {
   "cell_type": "code",
   "execution_count": null,
   "metadata": {
    "slideshow": {
     "slide_type": "skip"
    }
   },
   "outputs": [],
   "source": [
    "print(myVariable[100])"
   ]
  },
  {
   "cell_type": "markdown",
   "metadata": {
    "slideshow": {
     "slide_type": "slide"
    }
   },
   "source": [
    "## Key Points\n",
    "\n",
    "* `list`s are a Python data type\n",
    "* `list`s can store many values (of different data types) as a single variable\n",
    "* `list`s can be indexed and sliced to access the elements within the list\n",
    "* Python has methods for modifying `list` variable such as `list.append()` and `list.pop()`\n",
    "* Errors are helpful! (again)\n",
    "* `IndexError` indicates an attempt to access an index beyond the end of a list\n",
    "\n",
    "**Now let's do the blue Tasks - 10 minutes in breakout rooms (with 5 minute wrap-up afterwards).**"
   ]
  },
  {
   "cell_type": "code",
   "execution_count": null,
   "metadata": {
    "slideshow": {
     "slide_type": "slide"
    }
   },
   "outputs": [],
   "source": [
    "myVariable = [100, 2.5, 17.0, 9.5, 12.0]\n",
    "\n",
    "print(len(myVariable))  # How long is my list (Task 5.1)\n",
    "\n",
    "print(myVariable[0])  # The first element of my list (Task 5.2)\n",
    "print(myVariable[-1])  # The last element of my list (Task 5.2)\n",
    "\n",
    "print(type(myVariable[0]))  # The type of the first element of my list (Task 5.3)\n",
    "print(type(myVariable[-1]))  # The type of the last element of my list (Task 5.3)"
   ]
  },
  {
   "cell_type": "code",
   "execution_count": null,
   "metadata": {
    "slideshow": {
     "slide_type": "slide"
    }
   },
   "outputs": [],
   "source": [
    "myVariable[0] = float(myVariable[0])  # or `myVariable[0] = 100.0` (Task 5.4)\n",
    "print(myVariable)\n",
    "\n",
    "newVariable = myVariable[\n",
    "    2:5\n",
    "]  # The third, fourth and fifth elements as a new variable (Task 5.5)\n",
    "print(newVariable)\n",
    "\n",
    "newVariable.append(10.0)  # append a new number\n",
    "print(newVariable)"
   ]
  },
  {
   "cell_type": "markdown",
   "metadata": {
    "slideshow": {
     "slide_type": "slide"
    }
   },
   "source": [
    "# `for` Loops in Python (Notebook 06)"
   ]
  },
  {
   "cell_type": "markdown",
   "metadata": {
    "slideshow": {
     "slide_type": "slide"
    }
   },
   "source": [
    "## Loops\n",
    "\n",
    "As with lists, we usually want to process many samples or measurements. Writing a line of code to process each measurement would make our codes complex and cumbersome. Like with lists, with enough variables to process, we might as well do it all by hand.\n",
    "\n",
    "There are two key ways to do repetitive tasks in Python - the `for` loop and the `while` loop. They work in slightly different ways but we'll only cover `for` loops today.\n",
    "\n",
    "## `for` loops\n",
    "\n",
    "In Python, a `for` loop takes a group of values and does an operation on each value in turn."
   ]
  },
  {
   "cell_type": "markdown",
   "metadata": {
    "slideshow": {
     "slide_type": "skip"
    }
   },
   "source": [
    "<div style=\"background-color:#abd9e9; border-radius: 5px; padding: 10pt\"><strong>Task 6.1:</strong> Run the next two cells and compare their outputs. Imagine you had hundreds of values to process, which would you rather do?\n",
    "<br/>\n",
    "When you've done this, or if you get stuck, see the video <a href='https://youtu.be/ToKt2Wi9BMc'>here</a> for a walkthrough.</div>"
   ]
  },
  {
   "cell_type": "code",
   "execution_count": null,
   "metadata": {
    "slideshow": {
     "slide_type": "skip"
    }
   },
   "outputs": [],
   "source": [
    "print(1)\n",
    "print(1 * 1)\n",
    "print(2)\n",
    "print(2 * 2)\n",
    "print(5)\n",
    "print(5 * 5)\n",
    "print(9)\n",
    "print(9 * 9)"
   ]
  },
  {
   "cell_type": "code",
   "execution_count": null,
   "metadata": {
    "slideshow": {
     "slide_type": "slide"
    }
   },
   "outputs": [],
   "source": [
    "for number in [1,2,5,9]:"
   ]
  },
  {
   "cell_type": "markdown",
   "metadata": {
    "slideshow": {
     "slide_type": "slide"
    }
   },
   "source": [
    "Let's break this `for` loop down:\n",
    "\n",
    "* The `for` statement tells Python we want to run a loop.\n",
    "* `number` is a variable that exists only within the loop, we call it the *iterator*. An iterator always represents \"the thing we want to process now\".\n",
    "* `in [1,2,5,9]` tells the `for` loop that `number` should take (in turn) the values *in the list* `[1,2,5,9]`.\n",
    "* Finally, `print(number)`, or whatever code we choose to do inside your loop, is the code we want to repeat.\n",
    "\n",
    "But there are two other extremely important features of the cell above:\n",
    "\n",
    "1. The `for` statement must end in a colon, this signals the start of the code you want to repeat.\n",
    "2. The body of the statement must be indented, this is usually four spaces but can be anything consistent, e.g. one space, one tab, etc.. Thankfully, Jupyter should autoindent lines following a colon for you."
   ]
  },
  {
   "cell_type": "markdown",
   "metadata": {
    "slideshow": {
     "slide_type": "skip"
    }
   },
   "source": [
    "<div style=\"background-color:#abd9e9; border-radius: 5px; padding: 10pt\"><strong>Task 6.2:</strong> Read the next cell carefully. What do you think the value of <code>myVariable</code> will be during each step of the loop? Add a call to <code>print()</code> in the cell and check that you're right.\n",
    "<br/>\n",
    "When you've done this, or if you get stuck, see the video <a href='https://youtu.be/fBlAf0dR9L8'>here</a> for a walkthrough.</div>"
   ]
  },
  {
   "cell_type": "code",
   "execution_count": null,
   "metadata": {
    "slideshow": {
     "slide_type": "skip"
    }
   },
   "outputs": [],
   "source": [
    "myVariable = 0\n",
    "\n",
    "for number in [1, 2, 5, 9]:\n",
    "    myVariable = myVariable + number"
   ]
  },
  {
   "cell_type": "markdown",
   "metadata": {
    "slideshow": {
     "slide_type": "skip"
    }
   },
   "source": [
    "## Errors are helpful (continued)\n",
    "\n",
    "### IndentationError #1"
   ]
  },
  {
   "cell_type": "markdown",
   "metadata": {
    "slideshow": {
     "slide_type": "skip"
    }
   },
   "source": [
    "<div style=\"background-color:#abd9e9; border-radius: 5px; padding: 10pt\"><strong>Task 6.3:</strong> Run the cell below. What does this <code>IndentationError</code> mean? Create a new Markdown cell and describe, in words you understand, what has gone wrong here. Modify the cell to fix the error and re-run it.\n",
    "<br/>\n",
    "If you get stuck, see the video <a href='https://youtu.be/G-FUA8TcDrE'>here</a> for a walkthrough, which also includes the next two tasks.</div>"
   ]
  },
  {
   "cell_type": "code",
   "execution_count": null,
   "metadata": {
    "slideshow": {
     "slide_type": "skip"
    }
   },
   "outputs": [],
   "source": [
    "for number in [1, 2, 3]:\n",
    "print(number)"
   ]
  },
  {
   "cell_type": "markdown",
   "metadata": {
    "slideshow": {
     "slide_type": "skip"
    }
   },
   "source": [
    "### IndentationError #2"
   ]
  },
  {
   "cell_type": "markdown",
   "metadata": {
    "slideshow": {
     "slide_type": "skip"
    }
   },
   "source": [
    "<div style=\"background-color:#abd9e9; border-radius: 5px; padding: 10pt\"><strong>Task 6.4:</strong> Run the cell below. What does this <code>IndentationError</code> mean? Create a new Markdown cell and describe, in words you understand, what has gone wrong here. Modify the cell to fix the error and re-run it.\n",
    "<br/>\n",
    "If you get stuck, see the video <a href='https://youtu.be/G-FUA8TcDrE'>here</a> for a walkthrough, which also includes the previous and next tasks.</div>"
   ]
  },
  {
   "cell_type": "code",
   "execution_count": null,
   "metadata": {
    "slideshow": {
     "slide_type": "skip"
    }
   },
   "outputs": [],
   "source": [
    "firstName = 'Chas'\n",
    "    lastName = 'Nelson'"
   ]
  },
  {
   "cell_type": "markdown",
   "metadata": {
    "slideshow": {
     "slide_type": "skip"
    }
   },
   "source": [
    "### IndentationError #3"
   ]
  },
  {
   "cell_type": "markdown",
   "metadata": {
    "slideshow": {
     "slide_type": "skip"
    }
   },
   "source": [
    "<div style=\"background-color:#abd9e9; border-radius: 5px; padding: 10pt\"><strong>Task 6.5:</strong> Run the cell below. What does this <code>IndentationError</code> mean? Create a new Markdown cell and describe, in words you understand, what has gone wrong here. Modify the cell to fix the error and re-run it.\n",
    "<br/>\n",
    "When you've done this and the above two cells, or if you get stuck, see the video <a href='https://youtu.be/G-FUA8TcDrE'>here</a> for a walkthrough, which also includes the previous two tasks.</div>"
   ]
  },
  {
   "cell_type": "code",
   "execution_count": null,
   "metadata": {
    "slideshow": {
     "slide_type": "skip"
    }
   },
   "outputs": [],
   "source": [
    "for number in [1, 2, 3]:\n",
    "    print(number)\n",
    "#   print(number*number)"
   ]
  },
  {
   "cell_type": "markdown",
   "metadata": {
    "slideshow": {
     "slide_type": "slide"
    }
   },
   "source": [
    "## Key Points\n",
    "\n",
    "* Loops enable your Python codes to repeat tasks\n",
    "* A `for` loop runs code on an iterator, which takes each value in a list (one-by-one)\n",
    "* `for` loops must have a colon and everything after the colon should be indented\n",
    "* There can be many lines of code inside a `for` loop.\n",
    "* Errors are helpful! (yet again)\n",
    "\n",
    "**Now let's do the blue Tasks - around 10 minutes in breakout rooms (with 5 minute wrap-up afterwards).**"
   ]
  },
  {
   "cell_type": "code",
   "execution_count": null,
   "metadata": {
    "slideshow": {
     "slide_type": "slide"
    }
   },
   "outputs": [],
   "source": [
    "myVariable = 0\n",
    "\n",
    "for number in [1, 2, 5, 9]:\n",
    "    myVariable = myVariable + number\n",
    "\n",
    "print(myVariable)"
   ]
  },
  {
   "cell_type": "markdown",
   "metadata": {
    "slideshow": {
     "slide_type": "slide"
    }
   },
   "source": [
    "## `for` loops (continued)\n",
    "\n",
    "### `range()`\n",
    "\n",
    "Now we've seen how a `for` loop is constructed using a list of numbers, what if we want to run some code over a range of regularly spaced values?\n",
    "\n",
    "Python has a built-in function to help with this: `range()`.\n",
    "\n",
    "```python\n",
    "for number in range(10):\n",
    "    print(number)\n",
    "```\n",
    "\n",
    "**Try Tasks 6.6 and 6.7 over the weekend if you haven't had chance to do them.**"
   ]
  },
  {
   "cell_type": "markdown",
   "metadata": {
    "slideshow": {
     "slide_type": "skip"
    }
   },
   "source": [
    "<div style=\"background-color:#abd9e9; border-radius: 5px; padding: 10pt\"><strong>Task 6.6:</strong> Run the cell below. to see the documentation for the <code>range()</code> function.\n",
    "<br/>\n",
    "When you've done this, or if you get stuck, see the video <a href='https://youtu.be/Y3EVembmdvs'>here</a> for a walkthrough.</div>"
   ]
  },
  {
   "cell_type": "code",
   "execution_count": null,
   "metadata": {
    "slideshow": {
     "slide_type": "skip"
    }
   },
   "outputs": [],
   "source": [
    "?range"
   ]
  },
  {
   "cell_type": "markdown",
   "metadata": {
    "slideshow": {
     "slide_type": "skip"
    }
   },
   "source": [
    "<div style=\"background-color:#abd9e9; border-radius: 5px; padding: 10pt\"><strong>Task 6.7:</strong> The following cell loops through the numbers 0 to 9 (inclusive) and prints them one-by-one. Modify the code to print the numbers 90 to 100 (inclusive).\n",
    "<br/>\n",
    "When you've done this, or if you get stuck, see the video <a href='https://youtu.be/iE0ZFyKPh-8'>here</a> for a walkthrough.</div>"
   ]
  },
  {
   "cell_type": "code",
   "execution_count": null,
   "metadata": {
    "slideshow": {
     "slide_type": "skip"
    }
   },
   "outputs": [],
   "source": [
    "for number in range(10):\n",
    "    print(number)"
   ]
  },
  {
   "cell_type": "markdown",
   "metadata": {
    "slideshow": {
     "slide_type": "slide"
    }
   },
   "source": [
    "# `if` Statements in Python (Notebook 7)"
   ]
  },
  {
   "cell_type": "markdown",
   "metadata": {
    "slideshow": {
     "slide_type": "slide"
    }
   },
   "source": [
    "## Conditionals and `if` statements\n",
    "\n",
    "In programming a 'conditional' gives code the ability to make a choice - usually a yes/no choice.\n",
    "\n",
    "The most common conditional is the `if` statement, which takes the following form:\n",
    "\n",
    "```python\n",
    "if <BooleanExpression>:\n",
    "    print('Do something in this special situation.')\n",
    "```\n",
    "\n",
    "Like a `for` loop, there are two special features of `if` statements:\n",
    "\n",
    "1. `if` statements must end in a colon, this signals the start of the code you want to run in that situation.\n",
    "2. The body of an `if` statement (called a branch) must be indented,. Thankfully, Jupyter should autoindent lines following a colon for you."
   ]
  },
  {
   "cell_type": "markdown",
   "metadata": {
    "slideshow": {
     "slide_type": "slide"
    }
   },
   "source": [
    "## Boolean expressions\n",
    "\n",
    "But what about our `<BooleanExpression>` (above).\n",
    "\n",
    "A Boolean expression is any expression that can be evaluated as true or false, e.g.\n",
    "\n",
    "* $1=1$ is true\n",
    "* $1=2$ is false\n",
    "* $1<2$ is true\n",
    "* $4\\ge5$ is false"
   ]
  },
  {
   "cell_type": "markdown",
   "metadata": {
    "slideshow": {
     "slide_type": "skip"
    }
   },
   "source": [
    "<div style=\"background-color:#abd9e9; border-radius: 5px; padding: 10pt\"><strong>Task 7.1:</strong> Run the following cells to see different examples of boolean expressions.\n",
    "<br/>\n",
    "When you've done this, or if you get stuck, see the video <a href='https://youtu.be/Au420nePsJ0'>here</a> for a walkthrough.</div>"
   ]
  },
  {
   "cell_type": "code",
   "execution_count": null,
   "metadata": {
    "slideshow": {
     "slide_type": "skip"
    }
   },
   "outputs": [],
   "source": [
    "45 == 45"
   ]
  },
  {
   "cell_type": "code",
   "execution_count": null,
   "metadata": {
    "slideshow": {
     "slide_type": "skip"
    }
   },
   "outputs": [],
   "source": [
    "7 >= 6 or 3 > 1"
   ]
  },
  {
   "cell_type": "code",
   "execution_count": null,
   "metadata": {
    "slideshow": {
     "slide_type": "skip"
    }
   },
   "outputs": [],
   "source": [
    "True and False"
   ]
  },
  {
   "cell_type": "code",
   "execution_count": null,
   "metadata": {
    "slideshow": {
     "slide_type": "skip"
    }
   },
   "outputs": [],
   "source": [
    "True and \"same string\" == \"same string\""
   ]
  },
  {
   "cell_type": "code",
   "execution_count": null,
   "metadata": {
    "slideshow": {
     "slide_type": "skip"
    }
   },
   "outputs": [],
   "source": [
    "\"same string\" == \"different string\""
   ]
  },
  {
   "cell_type": "code",
   "execution_count": null,
   "metadata": {
    "slideshow": {
     "slide_type": "skip"
    }
   },
   "outputs": [],
   "source": [
    "123 != \"123\""
   ]
  },
  {
   "cell_type": "markdown",
   "metadata": {
    "slideshow": {
     "slide_type": "-"
    }
   },
   "source": [
    "Note that in Python, if we want to see if two numbers are equal we use a double equals: `1==1`.\n",
    "\n",
    "Like `None` (see Built-in Functions, Help and Documentation, above), `True` and `False` are special Python values."
   ]
  },
  {
   "cell_type": "markdown",
   "metadata": {
    "slideshow": {
     "slide_type": "skip"
    }
   },
   "source": [
    "<div style=\"background-color:#abd9e9; border-radius: 5px; padding: 10pt\"><strong>Task 7.2:</strong> Run the following cell to see a simple example of a Boolean expression. In the same cell, write an <code>if</code> statement that only prints a message if <code>myVariable</code> equals one.\n",
    "<br/>\n",
    "When you've done this, or if you get stuck, see the video <a href='https://youtu.be/loaDJy1E1Lo'>here</a> for a walkthrough.</div>"
   ]
  },
  {
   "cell_type": "code",
   "execution_count": null,
   "metadata": {
    "slideshow": {
     "slide_type": "skip"
    }
   },
   "outputs": [],
   "source": [
    "myVariable = 1\n",
    "# here we assign a value of 1 to our variable\n",
    "\n",
    "print(\"An example of a False Boolean expression:\")\n",
    "print(myVariable == 10)  # our variable does not equal 10, i.e. this statement is False\n",
    "\n",
    "print(\"An example of a True Boolean expression:\")\n",
    "print(myVariable == 1)  # our variable does equal 1, i.e. this statement is True"
   ]
  },
  {
   "cell_type": "markdown",
   "metadata": {
    "slideshow": {
     "slide_type": "slide"
    }
   },
   "source": [
    "## `if`, `elif` and `else`\n",
    "\n",
    "So an `if` statement allows us to run some code in only a specific situation (a branch), but what if we have more than one situation (multiple branches)? Or want to have some default code that's run in all situations where the `if` branch is not taken.\n",
    "\n",
    "Python has two additional statements for these cases:\n",
    "\n",
    "* `elif`, short for 'else if', allows us to use multiple conditions and create several branches of code.\n",
    "* `else`, allows us to set an alternative code that it run only if no branches are taken.\n",
    "\n",
    "Note that all conditionals are run in order."
   ]
  },
  {
   "cell_type": "markdown",
   "metadata": {
    "slideshow": {
     "slide_type": "skip"
    }
   },
   "source": [
    "<div style=\"background-color:#abd9e9; border-radius: 5px; padding: 10pt\"><strong>Task 7.4:</strong> Read the following cell. What do you expect the output to be? Run the cell to confirm this. Now change the value of <code>myVariable</code> so that a different branch is taken. Re-run the cell and repeat for the third branch.\n",
    "<br/>\n",
    "When you've done this, or if you get stuck, see the video <a href='https://youtu.be/7ncn_MV7yyQ'>here</a> for a walkthrough.</div>"
   ]
  },
  {
   "cell_type": "code",
   "execution_count": null,
   "metadata": {
    "slideshow": {
     "slide_type": "skip"
    }
   },
   "outputs": [],
   "source": [
    "myVariable = 1\n",
    "\n",
    "if myVariable == 1:\n",
    "    print(\"myVariable is equal to one\")\n",
    "elif myVariable == 2:\n",
    "    print(\"myVariable is equal to two\")\n",
    "else:\n",
    "    print(\"myVariable equals anything else\")"
   ]
  },
  {
   "cell_type": "markdown",
   "metadata": {
    "slideshow": {
     "slide_type": "slide"
    }
   },
   "source": [
    "## Combining conditionals and loops\n",
    "\n",
    "More often than not an `if` conditional is most useful inside a `for` loop - the `for` loop can run through a series of values and the `if` conditional can choose what to do with that value."
   ]
  },
  {
   "cell_type": "markdown",
   "metadata": {
    "slideshow": {
     "slide_type": "skip"
    }
   },
   "source": [
    "<div style=\"background-color:#abd9e9; border-radius: 5px; padding: 10pt\"><strong>Task 7.6:</strong> Read the cell below. This for loop aims to go through a list of values and, if that number is greater than 10, adds that number to a total, else prints a warning to the user that the value has been ignored. Replace all the gaps (<code>____</code>) in the cell so that it runs without errors and produces the right output values.\n",
    "<br/>\n",
    "When you've done this, or if you get stuck, see the video <a href='https://youtu.be/hx1AGxik1Y0'>here</a> for a walkthrough.</div>"
   ]
  },
  {
   "cell_type": "code",
   "execution_count": null,
   "metadata": {
    "slideshow": {
     "slide_type": "skip"
    }
   },
   "outputs": [],
   "source": [
    "myData = [12,9,13,19,2,16,7,10,4,1,6,18,11]\n",
    "myTotal = ____\n",
    "\n",
    "for number in ____:\n",
    "    if number ____ 10:\n",
    "        ____ = myTotal + number\n",
    "    else:\n",
    "        print('Warning: Program did not use value {0} as it was too low.'.format(number))\n",
    "\n",
    "print('The total value is {0}'.format(____))"
   ]
  },
  {
   "cell_type": "markdown",
   "metadata": {
    "slideshow": {
     "slide_type": "slide"
    }
   },
   "source": [
    "## Key Points\n",
    "\n",
    "* Conditionals enable your Python codes to choose between options\n",
    "* An `if` statement uses a Boolean conditional to decide whether or not to execute some code (a branch)\n",
    "* `if` statements must have a colon and everything after the colon should be indented\n",
    "* There can be many lines of code inside an `if` statement (a branch).\n",
    "* `elif` statements can be used to include additional branches of code\n",
    "* `else` statements can be used to run a branch of code when no `if` or `elif` statements are run\n",
    "* Conditionals are tested in order.\n",
    "\n",
    "**Now let's do the blue Tasks - 10 minutes in breakout rooms (with 5 minute wrap-up afterwards).**"
   ]
  },
  {
   "cell_type": "code",
   "execution_count": null,
   "metadata": {
    "slideshow": {
     "slide_type": "slide"
    }
   },
   "outputs": [],
   "source": [
    "myData = [12, 9, 13, 19, 2, 16, 7, 10, 4, 1, 6, 18, 11]\n",
    "myTotal = 0\n",
    "\n",
    "for number in myData:\n",
    "    if number > 10:\n",
    "        myTotal = myTotal + number\n",
    "    else:\n",
    "        print(\n",
    "            \"Warning: Program did not use value {0} as it was too low.\".format(number)\n",
    "        )\n",
    "\n",
    "print(\"The total value is {0}\".format(myTotal))"
   ]
  },
  {
   "cell_type": "markdown",
   "metadata": {
    "slideshow": {
     "slide_type": "slide"
    }
   },
   "source": [
    "# Defining Custom Python Functions"
   ]
  },
  {
   "cell_type": "markdown",
   "metadata": {
    "slideshow": {
     "slide_type": "slide"
    }
   },
   "source": [
    "## Functions\n",
    "\n",
    "Programs can easily become large and unweilding. Functions enable us to break programs down into smaller chunks, making our code easier to understand *and* easier to debug.\n",
    "\n",
    "A further benefit of functions is that they can be reused - it's the 'write once, use often' philosophy of coding.\n",
    "\n",
    "We've already called several built-in functions, which might seem a little bit like black boxes but below we will define our own functions and control their internal workings ourselves."
   ]
  },
  {
   "cell_type": "markdown",
   "metadata": {
    "slideshow": {
     "slide_type": "slide"
    }
   },
   "source": [
    "## Defining Functions with `def`\n",
    "\n",
    "Defining our own functions in Python uses a `def` statement and takes the following form:\n",
    "\n",
    "```python\n",
    "def my_function():\n",
    "    print('My custom function has been called.')\n",
    "    return\n",
    "```"
   ]
  },
  {
   "cell_type": "markdown",
   "metadata": {
    "slideshow": {
     "slide_type": "slide"
    }
   },
   "source": [
    "There are five important features of `def` statements:\n",
    "\n",
    "1. Our definition starts with `def`.\n",
    "2. This is followed by a name for our custom function. Function names follow the same rules as variable names.\n",
    "3. After the variable name we need a pair of parentheses (we will come back to these below).\n",
    "4. `def` statements must end in a colon, this signals the start of the code you want to run when your custom function is called.\n",
    "5. The body of a `def` statement must be indented. Thankfully, Jupyter should autoindent lines following a colon for you.\n",
    "6. The final line of a function must `return` something (refer back to Returns in Built-in Functions, Help and Documentation above). If nothing is provided (as here) then the function returns `None`."
   ]
  },
  {
   "cell_type": "markdown",
   "metadata": {
    "slideshow": {
     "slide_type": "slide"
    }
   },
   "source": [
    "<div style=\"background-color:#abd9e9; border-radius: 5px; padding: 10pt\"><strong>Task 8.1:</strong> Run the following cell to define <code>my_function</code>, as defined above. Why does the cell not print anything?\n",
    "<br/>\n",
    "When you've done this, or if you get stuck, see the video <a href='https://youtu.be/s7Mqud_YJDc'>here</a> for a walkthrough.</div>"
   ]
  },
  {
   "cell_type": "code",
   "execution_count": null,
   "metadata": {},
   "outputs": [],
   "source": [
    "def my_function():\n",
    "    print(\"My custom function has been called.\")\n",
    "    return"
   ]
  },
  {
   "cell_type": "markdown",
   "metadata": {
    "slideshow": {
     "slide_type": "slide"
    }
   },
   "source": [
    "## Functions and Parameters\n",
    "\n",
    "Many of the built-in functions we've used so far have input parameters.\n",
    "\n",
    "These are defined by putting the name of a parameter between the parentheses of our `def` statement. In fact, we can include several parameters, like so:\n",
    "\n",
    "```python\n",
    "def print_date(year, month, day):\n",
    "    print('The ISO format date is {0}-{1:02}-{2:02}'.format(year,month,day))\n",
    "    return\n",
    "```\n",
    "\n",
    "N.B. The formatting `{0:02}` means 'format (`:`) the first parameter (`0`) with leading zeros (`0`) to a width of two digits (`2`), e.g. `'{0:02}'.format(1)` will print `01`."
   ]
  },
  {
   "cell_type": "markdown",
   "metadata": {
    "slideshow": {
     "slide_type": "slide"
    }
   },
   "source": [
    "### Optional Parameters\n",
    "\n",
    "We can even make optional parameters. Or, more precisely, we can give parameters default values. These default values can be used if the parameter is not used when the function is called."
   ]
  },
  {
   "cell_type": "markdown",
   "metadata": {
    "slideshow": {
     "slide_type": "slide"
    }
   },
   "source": [
    "<div style=\"background-color:#abd9e9; border-radius: 5px; padding: 10pt\"><strong>Task 8.2:</strong> Run the following cell to define and call <code>print_date</code>. How is this definition different to the one above? Add a second call to the function but do not use the <code>day</code> parameter.\n",
    "<br/>\n",
    "When you've done this, or if you get stuck, see the video <a href='https://youtu.be/7ciBw5-cc90'>here</a> for a walkthrough.</div>"
   ]
  },
  {
   "cell_type": "code",
   "execution_count": null,
   "metadata": {},
   "outputs": [],
   "source": [
    "def print_date(year, month, day=1):\n",
    "    # Our function defaults to the first day of the month if the day is not given\n",
    "    print(\"The ISO format date is {0}-{1:02}-{2:02}\".format(year, month, day))\n",
    "    return\n",
    "\n",
    "\n",
    "print_date(2019, 4, 5)"
   ]
  },
  {
   "cell_type": "markdown",
   "metadata": {
    "slideshow": {
     "slide_type": "slide"
    }
   },
   "source": [
    "## Functions and Returns\n",
    "\n",
    "So far we've left the return blank, which by default returns `None`.\n",
    "\n",
    "Much of the time our functions will need to return a value."
   ]
  },
  {
   "cell_type": "markdown",
   "metadata": {
    "slideshow": {
     "slide_type": "slide"
    }
   },
   "source": [
    "<div style=\"background-color:#abd9e9; border-radius: 5px; padding: 10pt\"><strong>Task 8.5:</strong> Read the cell below. It defines a function <code>my_classifier</code> that takes a size (a number) and returns the name of the appropriate size category (a string). Replace all the gaps (<code>____</code>) in the cell so that it runs over all the sizes and without errors.\n",
    "<br/>\n",
    "When you've done this, or if you get stuck, see the video <a href='https://youtu.be/0HokFLxlxog'>here</a> for a walkthrough.</div>"
   ]
  },
  {
   "cell_type": "code",
   "execution_count": null,
   "metadata": {},
   "outputs": [],
   "source": [
    "def my_classifier(____):\n",
    "    if size >= 75:\n",
    "        category = \"Large\"\n",
    "    elif size____25:\n",
    "        ____ = \"Medium\"\n",
    "    else:\n",
    "        category = \"Small\"\n",
    "    return ____\n",
    "\n",
    "\n",
    "mySizes = [81, 61, 18, 69, 78, 66, 41, 65, 84, 18, 64, 16, 35, 65, 84, 89, 45, 13, 64]\n",
    "\n",
    "for ____ in mySizes:\n",
    "    thisCategory = ____(thisSize)\n",
    "    print(\"This item is {0} with a size of {1}\".____(____, ____))"
   ]
  },
  {
   "cell_type": "markdown",
   "metadata": {
    "slideshow": {
     "slide_type": "slide"
    }
   },
   "source": [
    "# Python Modules"
   ]
  },
  {
   "cell_type": "markdown",
   "metadata": {
    "slideshow": {
     "slide_type": "slide"
    }
   },
   "source": [
    "## Python Modules: Doing More\n",
    "\n",
    "At some point, very soon, you will realise that not everything you can think of can be done by using built-in functions. You have learnt how to write your own functions but common problems already have common solutions written by other, more experience programmers. \n",
    "\n",
    "Python itself provides an extensive library of [modules](https://docs.python.org/3/library/index.html) which are collections of functions (and other objects, like datatypes) allowing us to do some more specific tasks. \n",
    "\n",
    "Let's follow a simple example using the `math` module. `math` is a module focussed on simple mathematical functions and data types in Python.\n",
    "\n",
    "First, let's calculate the factorial of 6 manually:\n",
    "<br>\n",
    "$6! = 1 \\times 2 \\times 3 \\times 4 \\times 5 \\times 6$"
   ]
  },
  {
   "cell_type": "markdown",
   "metadata": {
    "slideshow": {
     "slide_type": "skip"
    }
   },
   "source": [
    "<div style=\"background-color:#abd9e9; border-radius: 5px; padding: 10pt\"><strong>Task 9.1:</strong> Edit and run following cell to calculate factorial of 6 manually. Then run the next cell, which tries to use a built-in function to calculate the factorial. What does this <code>NameError</code> mean? Create a new Markdown cell and describe, in words you understand, what has gone wrong here.\n",
    "<br/>\n",
    "When you've done this, or if you get stuck, see the video <a href='https://youtu.be/eeqdF6EJNQ8'>here</a> for a walkthrough.</div>"
   ]
  },
  {
   "cell_type": "code",
   "execution_count": null,
   "metadata": {
    "slideshow": {
     "slide_type": "slide"
    }
   },
   "outputs": [],
   "source": [
    "factorial_of_6 = 6 * 5 * 4 * 3 * 2 * 1\n",
    "print(\"Factorial of 6 is {0}\".format(factorial_of_6))"
   ]
  },
  {
   "cell_type": "code",
   "execution_count": null,
   "metadata": {
    "slideshow": {
     "slide_type": "-"
    }
   },
   "outputs": [],
   "source": [
    "# Let's assume there is a built-in factorial function. There should be one, right?\n",
    "factorial_using_builtin = factorial(6)"
   ]
  },
  {
   "cell_type": "markdown",
   "metadata": {
    "slideshow": {
     "slide_type": "slide"
    }
   },
   "source": [
    "So Python has no built-in `factorial` function. However, there is a `factorial` function in `math`, which also covers many other simple mathematical operations. We will now _load_ the `math` module into our notebook environment.\n",
    "\n",
    "To load a module we use command `import <module name>`, e.g. `import math`. Once the module is imported new functions and variables will be available just like built-in functions and variables. Note that you only need to import a module once per notebook.\n",
    "\n",
    "To call a function from the imported module we use the syntax `<module name>.<function name>`, e.g. `math.factorial()`"
   ]
  },
  {
   "cell_type": "markdown",
   "metadata": {
    "slideshow": {
     "slide_type": "skip"
    }
   },
   "source": [
    "<div style=\"background-color:#abd9e9; border-radius: 5px; padding: 10pt\"><strong>Task 9.2:</strong> Run the following cell to import the <code>math</code> module and calculate factorial of 6. Fill in the blanks (`____`) and execute the code in the subsequent two cells to see more examples of the <code>math</code> module.\n",
    "<br/>\n",
    "When you've done this, or if you get stuck, see the video <a href='https://youtu.be/80tzs58Hc4s'>here</a> for a walkthrough.</div>"
   ]
  },
  {
   "cell_type": "code",
   "execution_count": null,
   "metadata": {
    "slideshow": {
     "slide_type": "skip"
    }
   },
   "outputs": [],
   "source": [
    "import math\n",
    "\n",
    "factorial_using_builtin = math.factorial(6)\n",
    "print(\"Factorial of 6 is {0}\".format(factorial_using_builtin))"
   ]
  },
  {
   "cell_type": "code",
   "execution_count": null,
   "metadata": {
    "slideshow": {
     "slide_type": "skip"
    }
   },
   "outputs": [],
   "source": [
    "pi_val = ____.pi\n",
    "print(\"Value of Pi with 6 digits accuracy is {0:.6f}\".format(pi_val))"
   ]
  },
  {
   "cell_type": "code",
   "execution_count": null,
   "metadata": {
    "slideshow": {
     "slide_type": "skip"
    }
   },
   "outputs": [],
   "source": [
    "sin_of_pi = ____.____(____.____)\n",
    "print(\"Sinus of Pi (180 degrees) with 2 digits accuracy is {____:____f}\".format(____))"
   ]
  },
  {
   "cell_type": "markdown",
   "metadata": {
    "slideshow": {
     "slide_type": "skip"
    }
   },
   "source": [
    "<div style=\"background-color:#abd9e9; border-radius: 5px; padding: 10pt\"><strong>Task 9.3:</strong> Run the following cell to see high level information about the <code>math</code> module and a list of available functions.\n",
    "<br/>\n",
    "When you've done this, or if you get stuck, see the video <a href='https://youtu.be/eiIMqMb26lc'>here</a> for a walkthrough.</div>"
   ]
  },
  {
   "cell_type": "code",
   "execution_count": null,
   "metadata": {
    "slideshow": {
     "slide_type": "skip"
    }
   },
   "outputs": [],
   "source": [
    "help(math)"
   ]
  },
  {
   "cell_type": "markdown",
   "metadata": {
    "slideshow": {
     "slide_type": "slide"
    }
   },
   "source": [
    "## Different Ways to Import\n",
    "\n",
    "### Importing Functions Directly\n",
    "\n",
    "In some cases you might need to use one specific function multiple times. But importing the whole module (like above) requires you to use the `<module name>.<function name>` syntax to access functions within that module. To make it simpler we can import one or more specific functions directly into our 'namespace'.\n",
    "\n",
    "To do that you can use the `from <module name> import <function name>` syntax, e.g.:\n",
    "\n",
    "```python\n",
    "from math import log\n",
    "```"
   ]
  },
  {
   "cell_type": "markdown",
   "metadata": {
    "slideshow": {
     "slide_type": "skip"
    }
   },
   "source": [
    "<div style=\"background-color:#abd9e9; border-radius: 5px; padding: 10pt\"><strong>Task 9.5:</strong> Run the following cell. Is the logarithm function avaliable in pure python? Add a line at the top of the cell to load the logarithm function from the <code>math</code> module and re-run the cell.\n",
    "<br/>\n",
    "When you've done this, or if you get stuck, see the video <a href='https://youtu.be/MrxXjuE0X6s'>here</a> for a walkthrough.</div>"
   ]
  },
  {
   "cell_type": "code",
   "execution_count": null,
   "metadata": {
    "slideshow": {
     "slide_type": "skip"
    }
   },
   "outputs": [],
   "source": [
    "# Using logarithm function math.log()\n",
    "log1010 = math.log(10, 10)\n",
    "print(\"Logarithm of 10 with base 10 is {0} \".format(log1010))\n",
    "\n",
    "# Using logarithm function log()\n",
    "log8_2 = log(8, 2)\n",
    "print(\"Logarithm of 8 with base 2 is {0} \".format(log8_2))\n",
    "print(\"Well done!\")"
   ]
  },
  {
   "cell_type": "markdown",
   "metadata": {
    "slideshow": {
     "slide_type": "slide"
    }
   },
   "source": [
    "### Importing with Aliases\n",
    "\n",
    "When we import libraries it is possible to shorten the library name to make coding easier. For instance, the module `datetime` ([details here](https://docs.python.org/3/library/datetime.html)) provides us with essential functionality for dealing with dates and time but its name is unnecessarily long.\n",
    "\n",
    "You can use the syntax `import <module name> as <module alias>` to make your own short name for an imported module."
   ]
  },
  {
   "cell_type": "markdown",
   "metadata": {
    "slideshow": {
     "slide_type": "skip"
    }
   },
   "source": [
    "<div style=\"background-color:#abd9e9; border-radius: 5px; padding: 10pt\"><strong>Task 9.6:</strong> Run the following cell to see an example of importing the <code>datetime</code> module using an alias. You will notice that module <code>datetime</code> contains a submodule of the same name - an unfortunate complication.\n",
    "<br/>\n",
    "When you've done this, or if you get stuck, see the video <a href='https://youtu.be/PToi3HohJlk'>here</a> for a walkthrough.</div>"
   ]
  },
  {
   "cell_type": "code",
   "execution_count": null,
   "metadata": {
    "slideshow": {
     "slide_type": "skip"
    }
   },
   "outputs": [],
   "source": [
    "import datetime as dt\n",
    "\n",
    "current_time = dt.datetime.now()\n",
    "print(\"Current time is {0}\".format(current_time))"
   ]
  },
  {
   "cell_type": "markdown",
   "metadata": {
    "slideshow": {
     "slide_type": "slide"
    }
   },
   "source": [
    "## Key Points\n",
    "\n",
    "* Modules hold functions for many operations you may want to do\n",
    "* It's easier to import a module than write your own function from scratch\n",
    "* You can import specific functions or a whole module at a time\n",
    "* You can use an alias when importing to make your code easier to understand\n",
    "* Details for modules can be found in their documentation\n",
    "\n",
    "**Now let's do the blue Tasks - 15 minutes in breakout rooms (with 5 minute wrap-up afterwards).**"
   ]
  },
  {
   "cell_type": "markdown",
   "metadata": {
    "slideshow": {
     "slide_type": "slide"
    }
   },
   "source": [
    "# Python Modules - NumPy and Scipy"
   ]
  },
  {
   "cell_type": "markdown",
   "metadata": {
    "slideshow": {
     "slide_type": "slide"
    }
   },
   "source": [
    "## Numpy\n",
    "\n",
    "NumPy (`numpy`) is a large and extremely well developed module focussed on simple and complex mathematical functions and datatypes in Python. NumPy is a large module and we will only introduce you to a couple of functions today."
   ]
  },
  {
   "cell_type": "markdown",
   "metadata": {},
   "source": [
    "One of the key features of `numpy` is the introduction of a new datatype: the `numpy.ndarray`."
   ]
  },
  {
   "cell_type": "code",
   "execution_count": null,
   "metadata": {
    "slideshow": {
     "slide_type": "slide"
    }
   },
   "outputs": [],
   "source": [
    "import numpy as np"
   ]
  },
  {
   "cell_type": "code",
   "execution_count": null,
   "metadata": {
    "slideshow": {
     "slide_type": "fragment"
    }
   },
   "outputs": [],
   "source": [
    "# Create a 3x3 array with the number 1 to 9\n",
    "myArray = np.array([[1, 2, 3], [4, 5, 6], [7, 8, 9]])\n",
    "print(myArray)\n",
    "print(myArray.shape)\n",
    "print(myArray.dtype)"
   ]
  },
  {
   "cell_type": "code",
   "execution_count": null,
   "metadata": {
    "slideshow": {
     "slide_type": "fragment"
    }
   },
   "outputs": [],
   "source": [
    "# Calculate the mean and standard deviation of myArray\n",
    "print(\"The mean of myArray is {0:.2f} ...\".format(myArray.mean()))\n",
    "print(\"...and the standard deviation is {0:.2f}.\".format(myArray.std()))"
   ]
  },
  {
   "cell_type": "code",
   "execution_count": null,
   "metadata": {
    "slideshow": {
     "slide_type": "fragment"
    }
   },
   "outputs": [],
   "source": [
    "# Calculate the mean of each column and of each row\n",
    "print(\"The mean of each column of myArray is:\")\n",
    "print(myArray.mean(axis=0))\n",
    "print(\"The mean of each row of myArray is:\")\n",
    "print(myArray.mean(axis=1))"
   ]
  },
  {
   "cell_type": "markdown",
   "metadata": {
    "slideshow": {
     "slide_type": "slide"
    }
   },
   "source": [
    "The `numpy.ndarray` is particularly important if you plan to analyse images or 2D+ data, e.g. geological recordings.\n",
    "\n",
    "However, in the next notebook we will introduce the pandas DataFrame. This is another new data type and is built upon the `numpy.ndarray`. Many `numpy.ndarray` methods are also defined for pandas DataFrames."
   ]
  },
  {
   "cell_type": "markdown",
   "metadata": {
    "slideshow": {
     "slide_type": "slide"
    }
   },
   "source": [
    "<div style=\"background-color:#fdae61; border-radius: 5px; padding: 10pt\"><strong>Exercise 10.2:</strong> Find the NumPy Documentation on-line. Can you easily navigate the documentation to find useful functions?\n",
    "<br/>\n",
    "When you've done this and the previous task, or if you get stuck, see the video <a href='https://youtu.be/KXEYPE4ryAU'>here</a> for a walkthrough. which also covers the previous task.</div>"
   ]
  },
  {
   "cell_type": "markdown",
   "metadata": {
    "slideshow": {
     "slide_type": "slide"
    }
   },
   "source": [
    "## Key Points\n",
    "\n",
    "* NumPy increases the functionality of Python significantly\n",
    "* NumPy provides mathematical and statistical functions\n",
    "* Whilst NumPy documentation can look overwhelming, it can easily be interpreted\n",
    "\n",
    "**Now let's do the yellow Exercises up to 10.3 - 10 minutes in breakout rooms (with 5 minute wrap-up afterwards).**"
   ]
  },
  {
   "cell_type": "markdown",
   "metadata": {
    "slideshow": {
     "slide_type": "slide"
    }
   },
   "source": [
    "### Slicing (...continued)\n",
    "\n",
    "**Note: the following topic is not in your notebook, but I have updated the ones on GitHub for you to download later.**\n",
    "\n",
    "Just like with a `list`, it is often useful to access particular elements of a `numpy.ndarray`, e.g. access specific pixels in an image.\n",
    "\n",
    "Also just like a list, this is done with square brackets: \n",
    "\n",
    "**Now let's do the yellow Exercises up to 10.5 - 10 minutes in breakout rooms (with 5 minute wrap-up afterwards).**"
   ]
  },
  {
   "cell_type": "markdown",
   "metadata": {
    "slideshow": {
     "slide_type": "slide"
    }
   },
   "source": [
    "Similarly, we can navigate a 2D `numpy.ndarray` by using row and column numbers to extract a single element.\n",
    "\n",
    "Remember: Python starts counting at zero so our axes are the 0th and 1st axes.\n",
    "  \n",
    "![Acessing pixels using axes.](../assets/arrays.png)\n",
    "\n",
    "*Adapted from https://github.com/elegant-scipy/elegant-scipy*"
   ]
  },
  {
   "cell_type": "markdown",
   "metadata": {
    "slideshow": {
     "slide_type": "slide"
    }
   },
   "source": [
    "## Key Points\n",
    "\n",
    "* NumPy arrays can be easily access with indexing and slicing, just like list\n",
    "* Errors are helpful! (again)\n",
    "\n",
    "**Now let's do the yellow Exercises up to 10.9 - 10 minutes in breakout rooms (with 5 minute wrap-up afterwards).**"
   ]
  },
  {
   "cell_type": "markdown",
   "metadata": {
    "slideshow": {
     "slide_type": "slide"
    }
   },
   "source": [
    "<div style=\"background-color:#fdae61; border-radius: 5px; padding: 10pt\"><strong>Exercise 10.5:</strong> The code cell beneath this one has a 1-dimensional `numpy.ndarray`. How might you access the fifth element of this array?</div>"
   ]
  },
  {
   "cell_type": "code",
   "execution_count": null,
   "metadata": {},
   "outputs": [],
   "source": [
    "my_array = np.array([0, 1, 2, 3, 4, 5, 6, 7, 8, 9])\n",
    "\n",
    "print(my_array[4])"
   ]
  },
  {
   "cell_type": "markdown",
   "metadata": {},
   "source": [
    "<div style=\"background-color:#fdae61; border-radius: 5px; padding: 10pt\"><strong>Exercise 10.6:</strong> How might you access the second, third, fourth and fifth elements of this array?</div>"
   ]
  },
  {
   "cell_type": "markdown",
   "metadata": {
    "slideshow": {
     "slide_type": "slide"
    }
   },
   "source": [
    "<div style=\"background-color:#fdae61; border-radius: 5px; padding: 10pt\"><strong>Exercise 10.7:</strong> The code cell beneath this one has a 2-dimensional `numpy.ndarray`. How might you access the second element of the second row of this array?</div>"
   ]
  },
  {
   "cell_type": "code",
   "execution_count": null,
   "metadata": {},
   "outputs": [],
   "source": [
    "my_2d_array = np.array([[0, 1, 2, 3, 4], [5, 6, 7, 8, 9]])\n",
    "\n",
    "print(my_2d_array)"
   ]
  },
  {
   "cell_type": "markdown",
   "metadata": {},
   "source": [
    "<div style=\"background-color:#fdae61; border-radius: 5px; padding: 10pt\"><strong>Exercise 10.8:</strong> The code cell beneath this one has a 3-dimensional `numpy.ndarray`. How might you access the second element of the second row of the second slice of this array?</div>"
   ]
  },
  {
   "cell_type": "code",
   "execution_count": null,
   "metadata": {},
   "outputs": [],
   "source": [
    "my_3d_array = np.array([[[0, 1], [2, 3]], [[4, 5], [6, 7]]])\n",
    "\n",
    "print(my_3d_array)"
   ]
  },
  {
   "cell_type": "markdown",
   "metadata": {},
   "source": [
    "<div style=\"background-color:#fdae61; border-radius: 5px; padding: 10pt\"><strong>Exercise 10.9:</strong> Now run the following cell. Do you recognise the error? Create a new Markdown cell and describe this error in a way that's clear to you.</div>"
   ]
  },
  {
   "cell_type": "code",
   "execution_count": null,
   "metadata": {},
   "outputs": [],
   "source": [
    "print(my_3d_array[1, 1, 2])"
   ]
  },
  {
   "cell_type": "code",
   "execution_count": null,
   "metadata": {
    "slideshow": {
     "slide_type": "slide"
    }
   },
   "outputs": [],
   "source": [
    "print(my_array[4])\n",
    "\n",
    "print(my_array[1:5])\n",
    "\n",
    "print(my_2d_array[1, 1])\n",
    "\n",
    "print(my_3d_array[1, 1, 1])\n",
    "\n",
    "print(my_2d_array[1, :])"
   ]
  },
  {
   "cell_type": "code",
   "execution_count": null,
   "metadata": {
    "slideshow": {
     "slide_type": "fragment"
    }
   },
   "outputs": [],
   "source": [
    "print(my_3d_array[1, 1, 2])"
   ]
  },
  {
   "cell_type": "markdown",
   "metadata": {
    "slideshow": {
     "slide_type": "slide"
    }
   },
   "source": [
    "## SciPy\n",
    "\n",
    "SciPy (`scipy`) is another large and extremely well developed module but is focussed on mathematical, scientific and engineering functions and datatypes for Python. SciPy is also to large to cover in detail so we will only introduce you to one key function right now.\n",
    "\n",
    "### Importing SciPy\n",
    "\n",
    "Importing `scipy` is a little bit unusual. `scipy` has several large submodules and if you want to access functions in these submodules, they must be loaded as individual modules. For example, say you wanted to do some linear regression (which is in the `scipy.stats` submodule) and some image processing (using functions from `scipy.ndimage`) you need to import both sumodule. E.g.:\n",
    "\n",
    "```python\n",
    "import scipy.stats\n",
    "import scipy.ndimage\n",
    "```"
   ]
  },
  {
   "cell_type": "code",
   "execution_count": null,
   "metadata": {
    "slideshow": {
     "slide_type": "slide"
    }
   },
   "outputs": [],
   "source": [
    "import scipy.stats\n",
    "import scipy.ndimage\n",
    "\n",
    "# Load data\n",
    "x = np.arange(0, 9, 1)  # create an array of the numbers 0 to 9\n",
    "y = np.arange(0, 18, 2)  # create an array of the numbers 0 to 18 in steps of 2\n",
    "im = np.zeros([10, 10])  # create a 10 by 10 array of zeros, i.e. an empty image\n",
    "\n",
    "# Linear Regression of x and y\n",
    "slope, intercept, r_value, p_value, std_err = scipy.stats.linregress(x, y)\n",
    "\n",
    "# Apply Gaussianm Filter to im\n",
    "imBlurred = scipy.ndimage.gaussian_filter(im, sigma=5)"
   ]
  },
  {
   "cell_type": "markdown",
   "metadata": {
    "slideshow": {
     "slide_type": "slide"
    }
   },
   "source": [
    "### Linear Regression\n",
    "\n",
    "The SciPy module contains a lot of useful stats functions including t-tests and linear regressions. Due to time constraints we will only explain the linear regression and function (which we've already used above)."
   ]
  },
  {
   "cell_type": "code",
   "execution_count": null,
   "metadata": {
    "slideshow": {
     "slide_type": "skip"
    }
   },
   "outputs": [],
   "source": [
    "time_seconds = [0, 1, 2, 3, 5, 7, 14, 15, 16, 17, 18, 19]\n",
    "distance_metres = [0, 9, 22, 30, 48, 74, 130, 148, 160, 170, 181, 189]\n",
    "\n",
    "new_time_seconds = np.arange(0, 20, 1)"
   ]
  },
  {
   "cell_type": "markdown",
   "metadata": {
    "slideshow": {
     "slide_type": "slide"
    }
   },
   "source": [
    "## Key Points\n",
    "\n",
    "* Like NumPy, SciPy increase the functionality of Python significantly\n",
    "* SciPy provides scientific and engineering functions\n",
    "* Whilst SciPy documentation can look overwhelming, it can easily be interpreted\n",
    "\n",
    "Now let's do yellow Exercise up to 10.12 - 10 minutes in breakout rooms (with 5 minute wrap-up afterwards).**"
   ]
  },
  {
   "cell_type": "markdown",
   "metadata": {},
   "source": [
    "<div style=\"background-color:#fdae61; border-radius: 5px; padding: 10pt\"><strong>Exercise 10.11:</strong> Load the documentation for <code>scipy.stats.linregress</code>. Create a Markdown cell beneath this one and write, in simple English, what each of the two parameters and five outputs mean.\n",
    "<br/>\n",
    "When you've done this, or if you get stuck, see the video <a href='https://youtu.be/yw6TEfzuujM'>here</a> for a walkthrough.</div>"
   ]
  },
  {
   "cell_type": "markdown",
   "metadata": {
    "slideshow": {
     "slide_type": "slide"
    }
   },
   "source": [
    "<div style=\"background-color:#fdae61; border-radius: 5px; padding: 10pt\"><strong>Exercise 10.12:</strong> The data below represents some simple experimental data. You have two arrays: <code>time_seconds</code>, which records the time in seconds that the data was taken and <code>distance_metres</code>`, which records the distance travelled at that time (in metres). As you might notice, the times at which the data was taken are unevenly distributed (let's pretend that your colleague came in with a box of doughnuts and distracted you!) - and so you want to interpolate your data to given you measurements at evenly distributed points.\n",
    "\n",
    "Now, you could do this with a for loop and lots of maths... but that isn't the Python way (if you can help it).\n",
    "    \n",
    "Working as a team, find an appropriate function in SciPy, go through the documentation together and try and create interpolated data for `new_time_seconds`.\n",
    "    \n",
    "We will plot this data next week.\n",
    "\n",
    "Question: What does `np.arange()` do? How is it different to the `range()` function we've seen before?</div>"
   ]
  },
  {
   "cell_type": "code",
   "execution_count": null,
   "metadata": {
    "slideshow": {
     "slide_type": "slide"
    }
   },
   "outputs": [],
   "source": [
    "import scipy\n",
    "\n",
    "# Load data\n",
    "x = np.arange(0, 9, 1)  # create an array of the numbers 0 to 9\n",
    "y = np.arange(0, 18, 2)  # create an array of the numbers 0 to 18 in steps of 2\n",
    "im = np.zeros([10, 10])  # create a 10 by 10 array of zeros, i.e. an empty image\n",
    "\n",
    "# Linear Regression of x and y\n",
    "slope, intercept, r_value, p_value, std_err = scipy.stats.linregress(x, y)\n",
    "\n",
    "# Apply Gaussianm Filter to im\n",
    "imBlurred = scipy.ndimage.gaussian_filter(im, sigma=5)"
   ]
  },
  {
   "cell_type": "code",
   "execution_count": null,
   "metadata": {
    "slideshow": {
     "slide_type": "slide"
    }
   },
   "outputs": [],
   "source": [
    "from scipy import interpolate\n",
    "\n",
    "interpolation = interpolate.interp1d(time_seconds, distance_metres)\n",
    "\n",
    "new_distance_metres = interpolation(new_time_seconds)"
   ]
  },
  {
   "cell_type": "markdown",
   "metadata": {
    "slideshow": {
     "slide_type": "slide"
    }
   },
   "source": [
    "## For Friday: Please email me with all of your \"Where can I go now?\" questions and I'll try to answer them all."
   ]
  },
  {
   "cell_type": "markdown",
   "metadata": {
    "slideshow": {
     "slide_type": "slide"
    }
   },
   "source": [
    "# Python Modules - pandas"
   ]
  },
  {
   "cell_type": "markdown",
   "metadata": {
    "slideshow": {
     "slide_type": "slide"
    }
   },
   "source": [
    "## pandas\n",
    "\n",
    "pandas (`pandas`) is a large and well developed module focused on data analytics functions and datatypes in Python. As pandas is a large module and we will only introduce you to a couple of functions today."
   ]
  },
  {
   "cell_type": "markdown",
   "metadata": {
    "slideshow": {
     "slide_type": "slide"
    }
   },
   "source": [
    "### DataFrames\n",
    "\n",
    "One of the key features of pandas is the introduction of another new datatype: the `pandas.DataFrame`.\n",
    "\n",
    "We will use the `pandas.DataFrame` for the mini-project this afternoon (on your own data if your brought it).\n",
    "\n",
    "A `DataFrame` is a collection of `Series`. You can consider a `DataFrame` to be a table of data and a `Series` to be a column of data.\n",
    "\n",
    "pandas is built on top of NumPy and many NumPy array methods can be applied to `DataFrames` and `Series`.\n",
    "\n",
    "If you're used to the `R` programming language then `DataFrames` and `Series` may already be familiar to you; although Python has it's own special ways to deal with these.\n",
    "There are many benefits to using a `DataFrame` instead on a NumPy array and these include the ability for pandas to deal with missing values and the ability to use relational database operations between DataFrames."
   ]
  },
  {
   "cell_type": "markdown",
   "metadata": {
    "slideshow": {
     "slide_type": "slide"
    }
   },
   "source": [
    "## Loading CSV Data\n",
    "\n",
    "The easiest way to load data as a DataFrame with pandas is to read a 'comma separated value' file. These can easily be exported from Excel or similar software if you already have data in a different format.\n",
    "\n",
    "**N.B.** `display()` can be used instead of `print()`, this is a Jupyter feature for pretty printing of complex objects like dataframes."
   ]
  },
  {
   "cell_type": "code",
   "execution_count": null,
   "metadata": {},
   "outputs": [],
   "source": [
    "import pandas as pd\n",
    "\n",
    "iris = pd.read_csv(\n",
    "    \"https://raw.githubusercontent.com/mwaskom/seaborn-data/master/iris.csv\"\n",
    ")\n",
    "print(\"Our data is of type {0}\".format(type(iris)))  # print the datatype\n",
    "display(iris.head())  # print only the first five rows"
   ]
  },
  {
   "cell_type": "markdown",
   "metadata": {
    "slideshow": {
     "slide_type": "slide"
    }
   },
   "source": [
    "### Accessing Elements of a DataFrame - Selecting by Indexing\n",
    "\n",
    "DataFrames are accessible by indexing (as are the `numpy.ndarray`, `list` and `string` datatypes).\n",
    "\n",
    "However, unlike other datatypes we don't just use square brackets to select values by indexing. If we want to access elements of a `DataFrame` by index we must use the `.iloc` (Integer-LOCation) attribute."
   ]
  },
  {
   "cell_type": "code",
   "execution_count": null,
   "metadata": {},
   "outputs": [],
   "source": [
    "# Access the first row, first column\n",
    "display(iris.iloc[0, 0])"
   ]
  },
  {
   "cell_type": "markdown",
   "metadata": {
    "slideshow": {
     "slide_type": "slide"
    }
   },
   "source": [
    "### Accessing Elements of a DataFrame - Selecting by Labels\n",
    "\n",
    "DataFrames are also accessible by labels, i.e. column headers (this is unlike the `numpy.ndarray`, `list` and `string` datatypes).\n",
    "\n",
    "If we want to access elements of a `DataFrame` by labels we must use the `.loc` (label-LOCation) attribute."
   ]
  },
  {
   "cell_type": "code",
   "execution_count": null,
   "metadata": {},
   "outputs": [],
   "source": [
    "# Access the first row, 'sepal_length' column,\n",
    "display(iris.loc[0, \"sepal_length\"])"
   ]
  },
  {
   "cell_type": "code",
   "execution_count": null,
   "metadata": {},
   "outputs": [],
   "source": [
    "# Access the last row, last three columns\n",
    "display(iris.loc[-1, \"petal_width\"])"
   ]
  },
  {
   "cell_type": "markdown",
   "metadata": {
    "slideshow": {
     "slide_type": "slide"
    }
   },
   "source": [
    "### Accessing Elements of a DataFrame - Selecting Whole Columns or Rows\n",
    "\n",
    "To access a whole column (or row), we can use just a colon to indicate 'everything'."
   ]
  },
  {
   "cell_type": "code",
   "execution_count": null,
   "metadata": {},
   "outputs": [],
   "source": [
    "# Access the whole 'species' column\n",
    "myVariable = iris.loc[:, \"species\"]\n",
    "display(myVariable)"
   ]
  },
  {
   "cell_type": "markdown",
   "metadata": {
    "slideshow": {
     "slide_type": "slide"
    }
   },
   "source": [
    "### Describing a DataFrame\n",
    "\n",
    "Often, we just want a quick summary of numerical data, e.g. the mean and standard deviation. `pandas.DataFrame` objects have a method to give you a quick overview: `.describe()`."
   ]
  },
  {
   "cell_type": "code",
   "execution_count": null,
   "metadata": {},
   "outputs": [],
   "source": [
    "display(iris.describe())"
   ]
  },
  {
   "cell_type": "markdown",
   "metadata": {
    "slideshow": {
     "slide_type": "slide"
    }
   },
   "source": [
    "### Accessing Elements of a DataFrame - Selecting By Comparison\n",
    "\n",
    "But what if we only want to see summary statistics for one species in our dataset? We could manually look through the `DataFrame` and pick the indices for each 'setosa' iris. In this case that will be indiced `0-49`, but in many cases the ordering of our data may be random.\n",
    "\n",
    "Luckily, DataFrames can be accessed not just be indices and labels but also by comparisons. Essentially, we create a Boolean 'mask' - a `True`/`False` value at every element, which tells the DataFrame what data to use."
   ]
  },
  {
   "cell_type": "code",
   "execution_count": null,
   "metadata": {},
   "outputs": [],
   "source": [
    "# Create a mask from the 'species' column\n",
    "mask = iris.loc[:, \"species\"] == \"setosa\"\n",
    "\n",
    "# Print the mask\n",
    "display(mask.head())\n",
    "\n",
    "# Print the masked DataFrame\n",
    "display(iris.loc[mask])\n",
    "\n",
    "# Print summary statistics\n",
    "display(iris.loc[mask].describe())"
   ]
  },
  {
   "cell_type": "markdown",
   "metadata": {
    "slideshow": {
     "slide_type": "slide"
    }
   },
   "source": [
    "# Python Modules - Matplotlib and Seaborn"
   ]
  },
  {
   "cell_type": "markdown",
   "metadata": {
    "slideshow": {
     "slide_type": "slide"
    }
   },
   "source": [
    "## Matplotlib\n",
    "\n",
    "Matplotlib (`matplotlib`) is the most widely used scientific plotting module in Python. Many other modules are built upon Matplotlib and we will explore one of these in particular: Seaborn.\n",
    "\n",
    "Matplotlib is a huge module and we will only introduce you to a few plotting tools today.\n",
    "\n",
    "In order to make Jupyter show plots just saved with command `plt.savefig()` we need to use a 'magic' command: `%matplotlib inline`\n",
    "\n",
    "Most of the functions we will need are in the `matplotlib.pyplot` submodule - so we will only import that today."
   ]
  },
  {
   "cell_type": "code",
   "execution_count": null,
   "metadata": {
    "slideshow": {
     "slide_type": "slide"
    }
   },
   "outputs": [],
   "source": [
    "%matplotlib inline\n",
    "\n",
    "# Add you imports here\n",
    "import matplotlib.pyplot as plt\n",
    "\n",
    "iris = pd.read_csv(\n",
    "    \"https://raw.githubusercontent.com/mwaskom/seaborn-data/master/iris.csv\"\n",
    ")\n",
    "display(iris.head())"
   ]
  },
  {
   "cell_type": "markdown",
   "metadata": {
    "slideshow": {
     "slide_type": "slide"
    }
   },
   "source": [
    "### Scatter Plotting with Matplotlib\n",
    "\n",
    "Plotting with Matplotlib is powerful but can be complicated (especially when you first start)."
   ]
  },
  {
   "cell_type": "code",
   "execution_count": null,
   "metadata": {
    "slideshow": {
     "slide_type": "slide"
    }
   },
   "outputs": [],
   "source": [
    "# Imports\n",
    "import numpy as np\n",
    "import pandas as pd\n",
    "import matplotlib.pyplot as plt\n",
    "import scipy.stats\n",
    "\n",
    "# Create figure thats 5 by 5 inches\n",
    "plt.figure(figsize=[5, 5])\n",
    "\n",
    "# Create a mask for each species\n",
    "maskSetosa = iris.loc[:, \"species\"] == \"setosa\"\n",
    "maskVersicolor = iris.loc[:, \"species\"] == \"versicolor\"\n",
    "maskVirginica = iris.loc[:, \"species\"] == \"virginica\"\n",
    "\n",
    "# Plot a scatter for each species in a unqiue colour showing sepal_length against sepal_width\n",
    "plt.scatter(\n",
    "    iris.loc[maskSetosa, \"sepal_length\"],\n",
    "    iris.loc[maskSetosa, \"sepal_width\"],\n",
    "    color=\"#FF0000\",\n",
    "    label=\"Setosa\",\n",
    ")\n",
    "plt.scatter(\n",
    "    iris.loc[maskVersicolor, \"sepal_length\"],\n",
    "    iris.loc[maskVersicolor, \"sepal_width\"],\n",
    "    color=\"#00FF00\",\n",
    "    label=\"Versicolor\",\n",
    ")\n",
    "plt.scatter(\n",
    "    iris.loc[maskVirginica, \"sepal_length\"],\n",
    "    iris.loc[maskVirginica, \"sepal_width\"],\n",
    "    color=\"#0000FF\",\n",
    "    label=\"Virginica\",\n",
    ")\n",
    "\n",
    "# Calculate a linear regression model for each species\n",
    "(\n",
    "    slopeSetosa,\n",
    "    interceptSetosa,\n",
    "    r_valueSetosa,\n",
    "    p_valueSetosa,\n",
    "    std_errSetosa,\n",
    ") = scipy.stats.linregress(\n",
    "    iris.loc[maskSetosa, \"sepal_length\"], iris.loc[maskSetosa, \"sepal_width\"]\n",
    ")\n",
    "(\n",
    "    slopeVersicolor,\n",
    "    interceptVersicolor,\n",
    "    r_valueVersicolor,\n",
    "    p_valueVersicolor,\n",
    "    std_errVersicolor,\n",
    ") = scipy.stats.linregress(\n",
    "    iris.loc[maskVersicolor, \"sepal_length\"], iris.loc[maskVersicolor, \"sepal_width\"]\n",
    ")\n",
    "(\n",
    "    slopeVirginica,\n",
    "    interceptVirginica,\n",
    "    r_valueVirginica,\n",
    "    p_valueVirginica,\n",
    "    std_errVirginica,\n",
    ") = scipy.stats.linregress(\n",
    "    iris.loc[maskVirginica, \"sepal_length\"], iris.loc[maskVirginica, \"sepal_width\"]\n",
    ")\n",
    "\n",
    "# Plot a line for each model over the range of sepal widths using the colours from the appropriate scatter\n",
    "xSetosa = np.linspace(\n",
    "    iris.loc[maskSetosa, \"sepal_length\"].min(),\n",
    "    iris.loc[maskSetosa, \"sepal_length\"].max(),\n",
    "    100,\n",
    ")\n",
    "ySetosa = slopeSetosa * xSetosa + interceptSetosa\n",
    "plt.plot(xSetosa, ySetosa, color=\"#FF0000\")\n",
    "xVersicolor = np.linspace(\n",
    "    iris.loc[maskVersicolor, \"sepal_length\"].min(),\n",
    "    iris.loc[maskVersicolor, \"sepal_length\"].max(),\n",
    "    100,\n",
    ")\n",
    "yVersicolor = slopeVersicolor * xVersicolor + interceptVersicolor\n",
    "plt.plot(xVersicolor, yVersicolor, color=\"#00FF00\")\n",
    "xVirginica = np.linspace(\n",
    "    iris.loc[maskVirginica, \"sepal_length\"].min(),\n",
    "    iris.loc[maskVirginica, \"sepal_length\"].max(),\n",
    "    100,\n",
    ")\n",
    "yVirginica = slopeVirginica * xVirginica + interceptVirginica\n",
    "plt.plot(xVirginica, yVirginica, color=\"#0000FF\")\n",
    "\n",
    "# Add a legend\n",
    "plt.legend()\n",
    "\n",
    "# Add a title and axis labels\n",
    "plt.title(\"Sepal Length Against Sepal Width\")\n",
    "plt.ylabel(\"sepal_width\")\n",
    "plt.xlabel(\"sepal_length\")\n",
    "\n",
    "plt.savefig(\"myMatplotlibFigure.png\")"
   ]
  },
  {
   "cell_type": "markdown",
   "metadata": {
    "slideshow": {
     "slide_type": "slide"
    }
   },
   "source": [
    "## Seaborn\n",
    "\n",
    "I'm sure we all agree that that's quite a lot of code - and quite daunting if you've never seen it before. But don't worry! Seaborn is here to make you life easier.\n",
    "\n",
    "Matplotlib is an extremely powerful module. However, it can be complex, so some packages, like Seaborn, build upon Matplotlib to make plotting a little quicker and easier.\n",
    "\n",
    "### Scatter Plotting with `seaborn`\n",
    "\n",
    "Let's start by recreating the plot above."
   ]
  },
  {
   "cell_type": "code",
   "execution_count": null,
   "metadata": {
    "slideshow": {
     "slide_type": "slide"
    }
   },
   "outputs": [],
   "source": [
    "# Imports\n",
    "import seaborn as sns\n",
    "\n",
    "# Create a plot of sepal_length vs sepal_width where colour (hue) is controlled by the species\n",
    "#\n",
    "# 'height' controls the figure height in inches\n",
    "# 'truncate' prevents the regression extending beyond the data\n",
    "sns.lmplot(\n",
    "    x=\"sepal_length\", y=\"sepal_width\", data=iris, hue=\"species\", height=5, truncate=True\n",
    ")\n",
    "\n",
    "# Save figure\n",
    "plt.savefig(\"mySeabornFigure.png\")"
   ]
  },
  {
   "cell_type": "markdown",
   "metadata": {
    "slideshow": {
     "slide_type": "slide"
    }
   },
   "source": [
    "### Faceted plotting with Seaborn\n",
    "\n",
    "Isn't that a lot simpler?!\n",
    "\n",
    "Seaborn is doing all the hard work for you - it creates the figure, the scatter plots, the legend and it does the regression and plots the model with error bounds too.\n",
    "\n",
    "But what if we want to split the data across three plots? Again, Seaborn comes to the rescue."
   ]
  },
  {
   "cell_type": "code",
   "execution_count": null,
   "metadata": {
    "slideshow": {
     "slide_type": "slide"
    }
   },
   "outputs": [],
   "source": [
    "# Imports\n",
    "import seaborn as sns\n",
    "\n",
    "# Create a plot of sepal_length vs sepal_width where colour (hue) is controlled by the species\n",
    "# height controls the figure height in inches\n",
    "# truncate prevents the regression extending beyond the data\n",
    "sns.lmplot(\n",
    "    x=\"sepal_length\",\n",
    "    y=\"sepal_width\",\n",
    "    data=iris,\n",
    "    hue=\"species\",\n",
    "    col=\"species\",\n",
    "    height=5,\n",
    "    truncate=True,\n",
    ")\n",
    "\n",
    "# Save figure\n",
    "plt.savefig(\"myFacetedFigure.png\")"
   ]
  },
  {
   "cell_type": "markdown",
   "metadata": {
    "slideshow": {
     "slide_type": "slide"
    }
   },
   "source": [
    "## Boxplots\n",
    "\n",
    "Scatter and line plots are all part of Seaborn's relational plot tools. But sometimes we have categorical data (such as species) and might want to use box plots to explore this data."
   ]
  },
  {
   "cell_type": "code",
   "execution_count": null,
   "metadata": {
    "slideshow": {
     "slide_type": "slide"
    }
   },
   "outputs": [],
   "source": [
    "# 'Melt' the data\n",
    "irisMelted = iris.melt(\n",
    "    id_vars=\"species\",\n",
    "    value_vars=[\"sepal_length\", \"sepal_width\", \"petal_length\", \"petal_width\"],\n",
    "    var_name=\"measure\",\n",
    "    value_name=\"measurement\",\n",
    ")\n",
    "\n",
    "# Plot the melted data\n",
    "sns.catplot(\n",
    "    x=\"species\",\n",
    "    y=\"measurement\",\n",
    "    col=\"measure\",\n",
    "    data=irisMelted,\n",
    "    kind=\"box\",\n",
    "    height=5,\n",
    "    aspect=0.5,\n",
    ")\n",
    "\n",
    "# Save the plot\n",
    "plt.savefig(\"myBoxplot.png\")"
   ]
  }
 ],
 "metadata": {
  "celltoolbar": "Slideshow",
  "kernelspec": {
   "display_name": "Python 3",
   "language": "python",
   "name": "python3"
  },
  "language_info": {
   "codemirror_mode": {
    "name": "ipython",
    "version": 3
   },
   "file_extension": ".py",
   "mimetype": "text/x-python",
   "name": "python",
   "nbconvert_exporter": "python",
   "pygments_lexer": "ipython3",
   "version": "3.9.7"
  },
  "widgets": {
   "application/vnd.jupyter.widget-state+json": {
    "state": {},
    "version_major": 2,
    "version_minor": 0
   }
  }
 },
 "nbformat": 4,
 "nbformat_minor": 4
}
